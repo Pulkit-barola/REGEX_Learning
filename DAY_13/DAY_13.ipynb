{
 "cells": [
  {
   "cell_type": "markdown",
   "id": "184fda02",
   "metadata": {},
   "source": [
    "# DAY 13"
   ]
  },
  {
   "cell_type": "markdown",
   "id": "e893aef7",
   "metadata": {},
   "source": [
    "## FUNCTION TRANSFORMER"
   ]
  },
  {
   "cell_type": "code",
   "execution_count": 2,
   "id": "eb6c4357",
   "metadata": {},
   "outputs": [],
   "source": [
    "#FUNCTION TRANSFPORMER ----> IF YOU WANT TO APPLY ANYB OPERATION (PRE-DEFINED,CUSTOM) THEN WE CAN USE FUNCTION TRANSFORMER\n",
    " \n",
    "# FUNCTION TRANSFORMER (<LOGIC_NAME>.TRANSFORMER(<DATA>))"
   ]
  },
  {
   "cell_type": "code",
   "execution_count": 3,
   "id": "6933ff87",
   "metadata": {},
   "outputs": [],
   "source": [
    "from sklearn.preprocessing import FunctionTransformer\n",
    "import numpy as np"
   ]
  },
  {
   "cell_type": "markdown",
   "id": "2a003fe7",
   "metadata": {},
   "source": [
    "CREATE A DATASET"
   ]
  },
  {
   "cell_type": "code",
   "execution_count": 5,
   "id": "e08c7e39",
   "metadata": {},
   "outputs": [
    {
     "name": "stdout",
     "output_type": "stream",
     "text": [
      "[[1 2]\n",
      " [3 4]]\n"
     ]
    }
   ],
   "source": [
    "X=np.array([[1,2],[3,4]])\n",
    "print(X)"
   ]
  },
  {
   "cell_type": "markdown",
   "id": "d8d2e38f",
   "metadata": {},
   "source": [
    "#### DEFINE TRANSFORMER FUNCTION"
   ]
  },
  {
   "cell_type": "code",
   "execution_count": 7,
   "id": "ba4ee95a",
   "metadata": {},
   "outputs": [
    {
     "name": "stdout",
     "output_type": "stream",
     "text": [
      "FunctionTransformer(func=<ufunc 'sqrt'>)\n"
     ]
    }
   ],
   "source": [
    "log_transformer =FunctionTransformer(np.sqrt)\n",
    "print(log_transformer)"
   ]
  },
  {
   "cell_type": "markdown",
   "id": "32d31b71",
   "metadata": {},
   "source": [
    "#### APPLY TRANSFORMER IN THE DATA SET"
   ]
  },
  {
   "cell_type": "code",
   "execution_count": 8,
   "id": "ce1aed55",
   "metadata": {},
   "outputs": [],
   "source": [
    "X_transformed = log_transformer.transform(X)"
   ]
  },
  {
   "cell_type": "code",
   "execution_count": 9,
   "id": "f2403f03",
   "metadata": {},
   "outputs": [
    {
     "name": "stdout",
     "output_type": "stream",
     "text": [
      "[[1.         1.41421356]\n",
      " [1.73205081 2.        ]]\n"
     ]
    }
   ],
   "source": [
    "print(X_transformed)"
   ]
  },
  {
   "cell_type": "markdown",
   "id": "4b196f1e",
   "metadata": {},
   "source": [
    "### CUSTOM FEATURE ENGINEERING"
   ]
  },
  {
   "cell_type": "code",
   "execution_count": 10,
   "id": "6c0d0be5",
   "metadata": {},
   "outputs": [],
   "source": [
    "X=np.array([[1,2],[3,4]])"
   ]
  },
  {
   "cell_type": "markdown",
   "id": "e65f03b6",
   "metadata": {},
   "source": [
    "#### CREATE A FUNCTION"
   ]
  },
  {
   "cell_type": "code",
   "execution_count": 11,
   "id": "f882ca8e",
   "metadata": {},
   "outputs": [],
   "source": [
    "def squ(X):\n",
    "    return np.hstack((X,X**2))"
   ]
  },
  {
   "cell_type": "code",
   "execution_count": 12,
   "id": "175c3601",
   "metadata": {},
   "outputs": [],
   "source": [
    "custom_transformer=FunctionTransformer(squ)"
   ]
  },
  {
   "cell_type": "code",
   "execution_count": 14,
   "id": "64c113d3",
   "metadata": {},
   "outputs": [
    {
     "name": "stdout",
     "output_type": "stream",
     "text": [
      "[[ 1  2  1  4]\n",
      " [ 3  4  9 16]]\n"
     ]
    }
   ],
   "source": [
    "X_transformed=custom_transformer.transform(X)\n",
    "print(X_transformed)"
   ]
  },
  {
   "cell_type": "markdown",
   "id": "526a6223",
   "metadata": {},
   "source": [
    "#### SCALING AND NORMALIZATION"
   ]
  },
  {
   "cell_type": "code",
   "execution_count": 15,
   "id": "a5f148f5",
   "metadata": {},
   "outputs": [],
   "source": [
    "# => SCALING ----> MAKING DATA IN SATURATED FORMAT"
   ]
  },
  {
   "cell_type": "markdown",
   "id": "19d2b9e1",
   "metadata": {},
   "source": [
    "##### CREATE A DATASET"
   ]
  },
  {
   "cell_type": "code",
   "execution_count": 17,
   "id": "c46561a7",
   "metadata": {},
   "outputs": [
    {
     "name": "stdout",
     "output_type": "stream",
     "text": [
      "[[1 2]\n",
      " [3 4]]\n"
     ]
    }
   ],
   "source": [
    "X = np.array([[1, 2], [3, 4]])\n",
    "print(X)"
   ]
  },
  {
   "cell_type": "markdown",
   "id": "52f4a2c0",
   "metadata": {},
   "source": [
    "#### DEFINE A CUSTOM SCALING FUNCTION"
   ]
  },
  {
   "cell_type": "code",
   "execution_count": 18,
   "id": "3f875f47",
   "metadata": {},
   "outputs": [],
   "source": [
    "def my_scaling(X):\n",
    "    return X/np.max(X)"
   ]
  },
  {
   "cell_type": "markdown",
   "id": "236d39f0",
   "metadata": {},
   "source": [
    "#### APPLY FUNCTION TRANSFORMER TO THE FUNCTION"
   ]
  },
  {
   "cell_type": "code",
   "execution_count": 19,
   "id": "fd55b83d",
   "metadata": {},
   "outputs": [],
   "source": [
    "custom_transformer = FunctionTransformer(my_scaling)"
   ]
  },
  {
   "cell_type": "markdown",
   "id": "2e58f7d4",
   "metadata": {},
   "source": [
    "#### APPLY TRANSFORMER IN INPUT DATA"
   ]
  },
  {
   "cell_type": "code",
   "execution_count": 20,
   "id": "24ee7d8a",
   "metadata": {},
   "outputs": [],
   "source": [
    "X_transformed = custom_transformer.transform(X)"
   ]
  },
  {
   "cell_type": "markdown",
   "id": "b8e68096",
   "metadata": {},
   "source": [
    "#### VIEW THE DATA AFTER APPLING TRANSFORMER"
   ]
  },
  {
   "cell_type": "code",
   "execution_count": 21,
   "id": "8c5afd6f",
   "metadata": {},
   "outputs": [
    {
     "name": "stdout",
     "output_type": "stream",
     "text": [
      "[[0.25 0.5 ]\n",
      " [0.75 1.  ]]\n"
     ]
    }
   ],
   "source": [
    "print(X_transformed)"
   ]
  },
  {
   "cell_type": "markdown",
   "id": "4eb60dd3",
   "metadata": {},
   "source": [
    "## COLUMN TRANSFORMER"
   ]
  },
  {
   "cell_type": "markdown",
   "id": "4d42c1ce",
   "metadata": {},
   "source": [
    "CONTAINER ----> STEPS TO PROCESS ---->"
   ]
  },
  {
   "cell_type": "markdown",
   "id": "a66a813b",
   "metadata": {},
   "source": [
    "TRANSFORMER ----> ('CONSTANT','OPERATION_NAME','COLUMN_NAME')"
   ]
  },
  {
   "cell_type": "markdown",
   "id": "9cf966c3",
   "metadata": {},
   "source": [
    "DF ----> 1-1 SINGLE COLUMN"
   ]
  },
  {
   "cell_type": "markdown",
   "id": "b6e78264",
   "metadata": {},
   "source": [
    "CATEGORICAL ----> MISSING DATA FILL --->  ENCODE"
   ]
  },
  {
   "cell_type": "markdown",
   "id": "ce79c291",
   "metadata": {},
   "source": [
    "NUMERICAL ----> MISSING DATA FILL   ----> NORMAL DISTRIBUTION"
   ]
  },
  {
   "cell_type": "markdown",
   "id": "5939439b",
   "metadata": {},
   "source": [
    "1-1 COLUMN ---> SHAPE ----> ALL COLUMN SHAPE CONCATENATE ---> OUTPUT"
   ]
  },
  {
   "cell_type": "markdown",
   "id": "192fa79d",
   "metadata": {},
   "source": [
    "COLUMN TRANSFORMER ---> ALL COLUMN SHAPE CONCATENATE ---> OUTPUT ----> SAME"
   ]
  },
  {
   "cell_type": "code",
   "execution_count": 23,
   "id": "15afd175",
   "metadata": {},
   "outputs": [],
   "source": [
    "import numpy as np\n",
    "import pandas as pd"
   ]
  },
  {
   "cell_type": "code",
   "execution_count": 26,
   "id": "10344688",
   "metadata": {},
   "outputs": [
    {
     "name": "stderr",
     "output_type": "stream",
     "text": [
      "<>:1: SyntaxWarning: invalid escape sequence '\\R'\n",
      "<>:1: SyntaxWarning: invalid escape sequence '\\R'\n",
      "C:\\Users\\Dell\\AppData\\Local\\Temp\\ipykernel_29416\\3827455808.py:1: SyntaxWarning: invalid escape sequence '\\R'\n",
      "  df=pd.read_csv('D:\\REGEX\\DAY_12\\covid_toy.csv')\n"
     ]
    },
    {
     "data": {
      "text/html": [
       "<div>\n",
       "<style scoped>\n",
       "    .dataframe tbody tr th:only-of-type {\n",
       "        vertical-align: middle;\n",
       "    }\n",
       "\n",
       "    .dataframe tbody tr th {\n",
       "        vertical-align: top;\n",
       "    }\n",
       "\n",
       "    .dataframe thead th {\n",
       "        text-align: right;\n",
       "    }\n",
       "</style>\n",
       "<table border=\"1\" class=\"dataframe\">\n",
       "  <thead>\n",
       "    <tr style=\"text-align: right;\">\n",
       "      <th></th>\n",
       "      <th>age</th>\n",
       "      <th>gender</th>\n",
       "      <th>fever</th>\n",
       "      <th>cough</th>\n",
       "      <th>city</th>\n",
       "      <th>has_covid</th>\n",
       "    </tr>\n",
       "  </thead>\n",
       "  <tbody>\n",
       "    <tr>\n",
       "      <th>0</th>\n",
       "      <td>60</td>\n",
       "      <td>Male</td>\n",
       "      <td>103.0</td>\n",
       "      <td>Mild</td>\n",
       "      <td>Kolkata</td>\n",
       "      <td>No</td>\n",
       "    </tr>\n",
       "    <tr>\n",
       "      <th>1</th>\n",
       "      <td>27</td>\n",
       "      <td>Male</td>\n",
       "      <td>100.0</td>\n",
       "      <td>Mild</td>\n",
       "      <td>Delhi</td>\n",
       "      <td>Yes</td>\n",
       "    </tr>\n",
       "    <tr>\n",
       "      <th>2</th>\n",
       "      <td>42</td>\n",
       "      <td>Male</td>\n",
       "      <td>101.0</td>\n",
       "      <td>Mild</td>\n",
       "      <td>Delhi</td>\n",
       "      <td>No</td>\n",
       "    </tr>\n",
       "    <tr>\n",
       "      <th>3</th>\n",
       "      <td>31</td>\n",
       "      <td>Female</td>\n",
       "      <td>98.0</td>\n",
       "      <td>Mild</td>\n",
       "      <td>Kolkata</td>\n",
       "      <td>No</td>\n",
       "    </tr>\n",
       "    <tr>\n",
       "      <th>4</th>\n",
       "      <td>65</td>\n",
       "      <td>Female</td>\n",
       "      <td>101.0</td>\n",
       "      <td>Mild</td>\n",
       "      <td>Mumbai</td>\n",
       "      <td>No</td>\n",
       "    </tr>\n",
       "  </tbody>\n",
       "</table>\n",
       "</div>"
      ],
      "text/plain": [
       "   age  gender  fever cough     city has_covid\n",
       "0   60    Male  103.0  Mild  Kolkata        No\n",
       "1   27    Male  100.0  Mild    Delhi       Yes\n",
       "2   42    Male  101.0  Mild    Delhi        No\n",
       "3   31  Female   98.0  Mild  Kolkata        No\n",
       "4   65  Female  101.0  Mild   Mumbai        No"
      ]
     },
     "execution_count": 26,
     "metadata": {},
     "output_type": "execute_result"
    }
   ],
   "source": [
    "df=pd.read_csv('D:\\REGEX\\DAY_12\\covid_toy.csv')\n",
    "df.head(5)"
   ]
  },
  {
   "cell_type": "code",
   "execution_count": 28,
   "id": "0c67ba9d",
   "metadata": {},
   "outputs": [],
   "source": [
    "from sklearn.impute import SimpleImputer\n",
    "from sklearn.preprocessing import OrdinalEncoder\n",
    "from sklearn.preprocessing import OneHotEncoder"
   ]
  },
  {
   "cell_type": "code",
   "execution_count": 30,
   "id": "cfb5334f",
   "metadata": {},
   "outputs": [],
   "source": [
    "from sklearn.model_selection import train_test_split\n",
    "x=df.drop(columns=['has_covid'])\n",
    "y=df['has_covid']\n",
    "X_train, X_test, y_train, y_test = train_test_split(x,y,test_size=0.2,random_state=42) "
   ]
  },
  {
   "cell_type": "code",
   "execution_count": 31,
   "id": "2ce67fa0",
   "metadata": {},
   "outputs": [
    {
     "data": {
      "text/html": [
       "<div>\n",
       "<style scoped>\n",
       "    .dataframe tbody tr th:only-of-type {\n",
       "        vertical-align: middle;\n",
       "    }\n",
       "\n",
       "    .dataframe tbody tr th {\n",
       "        vertical-align: top;\n",
       "    }\n",
       "\n",
       "    .dataframe thead th {\n",
       "        text-align: right;\n",
       "    }\n",
       "</style>\n",
       "<table border=\"1\" class=\"dataframe\">\n",
       "  <thead>\n",
       "    <tr style=\"text-align: right;\">\n",
       "      <th></th>\n",
       "      <th>age</th>\n",
       "      <th>gender</th>\n",
       "      <th>fever</th>\n",
       "      <th>cough</th>\n",
       "      <th>city</th>\n",
       "    </tr>\n",
       "  </thead>\n",
       "  <tbody>\n",
       "    <tr>\n",
       "      <th>83</th>\n",
       "      <td>17</td>\n",
       "      <td>Female</td>\n",
       "      <td>104.0</td>\n",
       "      <td>Mild</td>\n",
       "      <td>Kolkata</td>\n",
       "    </tr>\n",
       "    <tr>\n",
       "      <th>53</th>\n",
       "      <td>83</td>\n",
       "      <td>Male</td>\n",
       "      <td>98.0</td>\n",
       "      <td>Mild</td>\n",
       "      <td>Delhi</td>\n",
       "    </tr>\n",
       "    <tr>\n",
       "      <th>70</th>\n",
       "      <td>68</td>\n",
       "      <td>Female</td>\n",
       "      <td>101.0</td>\n",
       "      <td>Strong</td>\n",
       "      <td>Delhi</td>\n",
       "    </tr>\n",
       "    <tr>\n",
       "      <th>45</th>\n",
       "      <td>72</td>\n",
       "      <td>Male</td>\n",
       "      <td>99.0</td>\n",
       "      <td>Mild</td>\n",
       "      <td>Bangalore</td>\n",
       "    </tr>\n",
       "    <tr>\n",
       "      <th>44</th>\n",
       "      <td>20</td>\n",
       "      <td>Male</td>\n",
       "      <td>102.0</td>\n",
       "      <td>Strong</td>\n",
       "      <td>Delhi</td>\n",
       "    </tr>\n",
       "  </tbody>\n",
       "</table>\n",
       "</div>"
      ],
      "text/plain": [
       "    age  gender  fever   cough       city\n",
       "83   17  Female  104.0    Mild    Kolkata\n",
       "53   83    Male   98.0    Mild      Delhi\n",
       "70   68  Female  101.0  Strong      Delhi\n",
       "45   72    Male   99.0    Mild  Bangalore\n",
       "44   20    Male  102.0  Strong      Delhi"
      ]
     },
     "execution_count": 31,
     "metadata": {},
     "output_type": "execute_result"
    }
   ],
   "source": [
    "X_test.head()"
   ]
  },
  {
   "cell_type": "markdown",
   "id": "abaf2339",
   "metadata": {},
   "source": [
    "### MANUALLY TYPED OUTPUT"
   ]
  },
  {
   "cell_type": "markdown",
   "id": "564e3409",
   "metadata": {},
   "source": [
    "#### SIMPLEIMPUTER ----> MISSING DATA FILLING"
   ]
  },
  {
   "cell_type": "code",
   "execution_count": null,
   "id": "928c8a16",
   "metadata": {},
   "outputs": [
    {
     "data": {
      "text/plain": [
       "(80, 1)"
      ]
     },
     "execution_count": 32,
     "metadata": {},
     "output_type": "execute_result"
    }
   ],
   "source": [
    "si=SimpleImputer(strategy='mean')\n",
    "X_train_fever=si.fit_transform(X_train[['fever']])\n",
    "X_test_fever=si.transform(X_test[['fever']]) # also test the data\n",
    "X_train_fever.shape"
   ]
  },
  {
   "cell_type": "markdown",
   "id": "4034a818",
   "metadata": {},
   "source": [
    "#### ORDINAL ENCODING  -----> COUGH"
   ]
  },
  {
   "cell_type": "code",
   "execution_count": 33,
   "id": "1916ab1b",
   "metadata": {},
   "outputs": [
    {
     "data": {
      "text/plain": [
       "(80, 1)"
      ]
     },
     "execution_count": 33,
     "metadata": {},
     "output_type": "execute_result"
    }
   ],
   "source": [
    "oe=OrdinalEncoder(categories=[['Mild','Strong']])\n",
    "X_train_cough=oe.fit_transform(X_train[['cough']])\n",
    "X_test_cough=oe.transform(X_test[['cough']])\n",
    "X_train_cough.shape"
   ]
  },
  {
   "cell_type": "markdown",
   "id": "475c6e53",
   "metadata": {},
   "source": [
    "#### ONE HOT ENCODING ----> GENDER, CITY"
   ]
  },
  {
   "cell_type": "code",
   "execution_count": 34,
   "id": "2b4bf426",
   "metadata": {},
   "outputs": [
    {
     "data": {
      "text/plain": [
       "(80, 4)"
      ]
     },
     "execution_count": 34,
     "metadata": {},
     "output_type": "execute_result"
    }
   ],
   "source": [
    "ohe=OneHotEncoder(drop='first',sparse_output=False)\n",
    "X_train_gender_city=ohe.fit_transform(X_train[['gender','city']])\n",
    "X_train_gender_city.shape"
   ]
  },
  {
   "cell_type": "markdown",
   "id": "b6a0b153",
   "metadata": {},
   "source": [
    "#### EXTRACTING AGE"
   ]
  },
  {
   "cell_type": "code",
   "execution_count": 37,
   "id": "750b382d",
   "metadata": {},
   "outputs": [
    {
     "data": {
      "text/plain": [
       "(80, 1)"
      ]
     },
     "execution_count": 37,
     "metadata": {},
     "output_type": "execute_result"
    }
   ],
   "source": [
    "X_train_age=X_train.drop(columns=['gender','fever','cough','city']).values\n",
    "X_train_age.shape"
   ]
  },
  {
   "cell_type": "markdown",
   "id": "c0b4a590",
   "metadata": {},
   "source": [
    "#### CONCATENATE ALL THE TRAIN COLUMNS"
   ]
  },
  {
   "cell_type": "code",
   "execution_count": 38,
   "id": "dbea5564",
   "metadata": {},
   "outputs": [],
   "source": [
    "X_train_transformed=np.concatenate((X_train_fever,X_train_cough,X_train_gender_city,X_train_age),axis=1)\n",
    "# axis =1 -----> column wise concatenation"
   ]
  },
  {
   "cell_type": "code",
   "execution_count": 39,
   "id": "f0b7a67d",
   "metadata": {},
   "outputs": [
    {
     "data": {
      "text/plain": [
       "(80, 7)"
      ]
     },
     "execution_count": 39,
     "metadata": {},
     "output_type": "execute_result"
    }
   ],
   "source": [
    "X_train_transformed.shape"
   ]
  },
  {
   "cell_type": "markdown",
   "id": "8f880759",
   "metadata": {},
   "source": [
    "## USING COLUMN TRANSFORMER"
   ]
  },
  {
   "cell_type": "code",
   "execution_count": 43,
   "id": "da1a6d4a",
   "metadata": {},
   "outputs": [],
   "source": [
    "from sklearn.compose import ColumnTransformer"
   ]
  },
  {
   "cell_type": "code",
   "execution_count": 47,
   "id": "16fa0bc8",
   "metadata": {},
   "outputs": [],
   "source": [
    "transformer= ColumnTransformer(transformers=[ ('tnf1',SimpleImputer(),['fever']), # in a 'fever' column we are applying SimpleImputer we fill the mising values with mean,median,most_frequent\n",
    "                                              ('tnf2',OrdinalEncoder(categories=[['Mild','Strong']]),['cough']), # in a 'cough' column we are applying OrdinalEncoder  we encode our data\n",
    "                                              ('tnf3',OneHotEncoder(drop='first',sparse_output=False),['gender','city'])], # in gender and city columns we are applying OneHotEncoder, we drop the first column to avoid dummy variable trap\n",
    "                                            remainder='passthrough') # aremainder => passthrough => it means rest all the columns reamin same as it is."
   ]
  },
  {
   "cell_type": "code",
   "execution_count": 48,
   "id": "5a3860ee",
   "metadata": {},
   "outputs": [
    {
     "name": "stdout",
     "output_type": "stream",
     "text": [
      "(80, 7)\n"
     ]
    }
   ],
   "source": [
    "a=transformer.fit_transform(X_train)\n",
    "print(a.shape)"
   ]
  },
  {
   "cell_type": "code",
   "execution_count": null,
   "id": "919f0d1e",
   "metadata": {},
   "outputs": [],
   "source": []
  }
 ],
 "metadata": {
  "kernelspec": {
   "display_name": "Python 3",
   "language": "python",
   "name": "python3"
  },
  "language_info": {
   "codemirror_mode": {
    "name": "ipython",
    "version": 3
   },
   "file_extension": ".py",
   "mimetype": "text/x-python",
   "name": "python",
   "nbconvert_exporter": "python",
   "pygments_lexer": "ipython3",
   "version": "3.13.2"
  }
 },
 "nbformat": 4,
 "nbformat_minor": 5
}
