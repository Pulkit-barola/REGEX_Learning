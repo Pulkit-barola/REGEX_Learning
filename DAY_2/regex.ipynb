{
 "cells": [
  {
   "cell_type": "code",
   "execution_count": 3,
   "id": "126958e9",
   "metadata": {},
   "outputs": [
    {
     "name": "stdout",
     "output_type": "stream",
     "text": [
      "1830\n"
     ]
    }
   ],
   "source": [
    "x=1\n",
    "total=0\n",
    "while(x<61):\n",
    "    total =total+x\n",
    "    x=x+1\n",
    "print(total)"
   ]
  },
  {
   "cell_type": "code",
   "execution_count": 2,
   "id": "6d8d73fd",
   "metadata": {},
   "outputs": [
    {
     "name": "stdout",
     "output_type": "stream",
     "text": [
      "TOTL = 1540\n"
     ]
    }
   ],
   "source": [
    "y=97\n",
    "sum=0\n",
    "while (y>57):\n",
    "    if (y%2==0):\n",
    "        sum=sum + y\n",
    "    y=y-1\n",
    "print(f\"TOTL = {sum}\")"
   ]
  },
  {
   "cell_type": "code",
   "execution_count": 5,
   "id": "5206ea23",
   "metadata": {},
   "outputs": [
    {
     "data": {
      "text/plain": [
       "4"
      ]
     },
     "execution_count": 5,
     "metadata": {},
     "output_type": "execute_result"
    }
   ],
   "source": [
    "num=134\n",
    "num/10 # normal division\n",
    "num//10 # floor division\n",
    "num% 10 # remainder"
   ]
  },
  {
   "cell_type": "code",
   "execution_count": 6,
   "id": "6d6b760e",
   "metadata": {},
   "outputs": [
    {
     "name": "stdout",
     "output_type": "stream",
     "text": [
      "2 3\n",
      "3 0\n"
     ]
    }
   ],
   "source": [
    "num=int(input(\"ENTER THE NUMBER : \"))\n",
    "while(num>0):\n",
    "    rem=num%10\n",
    "    num=num//10\n",
    "    print(rem,num)"
   ]
  },
  {
   "cell_type": "code",
   "execution_count": 9,
   "id": "94eb066b",
   "metadata": {},
   "outputs": [
    {
     "name": "stdout",
     "output_type": "stream",
     "text": [
      "25\n"
     ]
    }
   ],
   "source": [
    "num=int(input(\"ENTER THE NUMBER : \"))\n",
    "temp=0\n",
    "while(num>0):\n",
    "    rem=num%10\n",
    "    num=num//10\n",
    "    temp =temp+rem\n",
    "    \n",
    "print(temp)"
   ]
  },
  {
   "cell_type": "code",
   "execution_count": null,
   "id": "63826eab",
   "metadata": {},
   "outputs": [
    {
     "name": "stdout",
     "output_type": "stream",
     "text": [
      "13786\n",
      "1099\n"
     ]
    }
   ],
   "source": [
    "num=int(input(\"ENTER THE NUMBER : \"))\n",
    "temp=0\n",
    "print(num)\n",
    "while(num>0):\n",
    "    rem=num%10\n",
    "    num=num//10\n",
    "    temp =temp+(rem)**3\n",
    "\n",
    "print(temp)"
   ]
  },
  {
   "cell_type": "code",
   "execution_count": 15,
   "id": "590c8fd4",
   "metadata": {},
   "outputs": [
    {
     "name": "stdout",
     "output_type": "stream",
     "text": [
      "153\n",
      "153 is an armstrong number \n"
     ]
    }
   ],
   "source": [
    "# armstron number\n",
    "num=int(input(\"ENTER THE NUMBER : \"))\n",
    "sum=0\n",
    "temp=num\n",
    "print(num)\n",
    "while(num>0):\n",
    "    rem=num%10\n",
    "    num=num//10\n",
    "    sum =sum+(rem)**3\n",
    "if(temp == sum):\n",
    "    print(f\"{temp} is an armstrong number \")\n",
    "else:\n",
    "    print(f\"{temp} is not an armstrong number \")"
   ]
  },
  {
   "cell_type": "code",
   "execution_count": 16,
   "id": "1b7f62e5",
   "metadata": {},
   "outputs": [
    {
     "name": "stdout",
     "output_type": "stream",
     "text": [
      "153\n",
      "153 is an armstrong number \n"
     ]
    }
   ],
   "source": [
    "# narchast number possible\n",
    "num=int(input(\"ENTER THE NUMBER : \"))\n",
    "sum=0\n",
    "temp=num\n",
    "print(num)\n",
    "while(num>0):\n",
    "    rem=num%10\n",
    "    num=num//10\n",
    "    sum =sum+(rem)**3\n",
    "if(temp == sum):\n",
    "    print(f\"{temp} is an armstrong number \")\n",
    "else:\n",
    "    print(f\"{temp} is not an armstrong number \")"
   ]
  },
  {
   "cell_type": "code",
   "execution_count": null,
   "id": "daa970bb",
   "metadata": {},
   "outputs": [],
   "source": []
  }
 ],
 "metadata": {
  "kernelspec": {
   "display_name": "Python 3",
   "language": "python",
   "name": "python3"
  },
  "language_info": {
   "codemirror_mode": {
    "name": "ipython",
    "version": 3
   },
   "file_extension": ".py",
   "mimetype": "text/x-python",
   "name": "python",
   "nbconvert_exporter": "python",
   "pygments_lexer": "ipython3",
   "version": "3.13.2"
  }
 },
 "nbformat": 4,
 "nbformat_minor": 5
}
