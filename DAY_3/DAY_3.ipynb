{
 "cells": [
  {
   "cell_type": "markdown",
   "id": "dbae19fc",
   "metadata": {},
   "source": [
    "LIST"
   ]
  },
  {
   "cell_type": "code",
   "execution_count": 6,
   "id": "f6a52411",
   "metadata": {},
   "outputs": [
    {
     "name": "stdout",
     "output_type": "stream",
     "text": [
      "<class 'list'>\n",
      "regex\n",
      "[10, 20, 30, 'abc', 'regex', 10.0, 900]\n",
      "[10, 300, 30, 'abc', 'regex', 10.0, 900]\n"
     ]
    }
   ],
   "source": [
    "# LIST \n",
    "# DATATYPE\n",
    "# MULTIPLE VALUE KO STORE THEY CAN BE OF ANY \n",
    "mylist=[10,20,30,\"abc\",\"regex\",10.0]\n",
    "print(type(mylist))\n",
    "print(mylist [-2])\n",
    "mylist.append(900) # at last 900 added\n",
    "print(mylist)\n",
    "mylist[1]=300 # update the 20 to 300\n",
    "print(mylist)\n"
   ]
  },
  {
   "cell_type": "markdown",
   "id": "ade65bdd",
   "metadata": {},
   "source": [
    "DELETE OPERATION ON LIST"
   ]
  },
  {
   "cell_type": "code",
   "execution_count": 7,
   "id": "f1a60978",
   "metadata": {},
   "outputs": [
    {
     "name": "stdout",
     "output_type": "stream",
     "text": [
      "[10, 20, 30, 'abc', 'regex'] 10.01\n"
     ]
    }
   ],
   "source": [
    "mylist=[10,20,30,\"abc\",\"regex\",10.01]\n",
    "x=mylist.pop()\n",
    "print(mylist,x)"
   ]
  },
  {
   "cell_type": "markdown",
   "id": "ba26aa06",
   "metadata": {},
   "source": [
    "SORT & REVERSE IN LIST"
   ]
  },
  {
   "cell_type": "code",
   "execution_count": 9,
   "id": "58b1374f",
   "metadata": {},
   "outputs": [
    {
     "name": "stdout",
     "output_type": "stream",
     "text": [
      "[4, 4, 10, 20, 76, 100]\n",
      "[100, 76, 20, 10, 4, 4]\n"
     ]
    }
   ],
   "source": [
    "mylist=[10,20,100,4,76,4]\n",
    "mylist.sort() # to sort data\n",
    "print(mylist)\n",
    "mylist.reverse() # reverse the data\n",
    "print(mylist)"
   ]
  },
  {
   "cell_type": "markdown",
   "id": "705a812d",
   "metadata": {},
   "source": [
    "LOOP ON LIST"
   ]
  },
  {
   "cell_type": "code",
   "execution_count": 11,
   "id": "2ed562a6",
   "metadata": {},
   "outputs": [
    {
     "name": "stdout",
     "output_type": "stream",
     "text": [
      "0 10\n",
      "1 20\n",
      "2 30\n",
      "3 1\n",
      "4 90\n",
      "5 23\n"
     ]
    }
   ],
   "source": [
    "mylist=[10,20,30,1,90,23]\n",
    "for index in range (0,6):\n",
    "    print(index,mylist[index])"
   ]
  },
  {
   "cell_type": "markdown",
   "id": "98977a0d",
   "metadata": {},
   "source": [
    "TO PRINT EVEN NUMBER FROM THE LIST"
   ]
  },
  {
   "cell_type": "code",
   "execution_count": null,
   "id": "623282ac",
   "metadata": {},
   "outputs": [
    {
     "name": "stdout",
     "output_type": "stream",
     "text": [
      "0 10\n",
      "1 20\n",
      "2 30\n",
      "4 90\n"
     ]
    }
   ],
   "source": [
    "mylist=[10,20,30,1,90,23]\n",
    "for index in range (0,6):\n",
    "    if (mylist[index]%2==0):\n",
    "      print(index,mylist[index])\n"
   ]
  },
  {
   "cell_type": "markdown",
   "id": "8f5f0f60",
   "metadata": {},
   "source": [
    "MAXIMUM ELEMENT IN LIST\n"
   ]
  },
  {
   "cell_type": "code",
   "execution_count": null,
   "id": "ff277fc2",
   "metadata": {},
   "outputs": [
    {
     "name": "stdout",
     "output_type": "stream",
     "text": [
      "maximum eklement 90\n"
     ]
    }
   ],
   "source": [
    "mylist=[10,20,30,1,90,23]\n",
    "max1=mylist[0]\n",
    "for index in range (0,6):\n",
    "    if (mylist[index]>max1):\n",
    "      max1=mylist[index]\n",
    "\n",
    "print(\"maximum element\",max1)"
   ]
  },
  {
   "cell_type": "code",
   "execution_count": 15,
   "id": "0b08887e",
   "metadata": {},
   "outputs": [
    {
     "name": "stdout",
     "output_type": "stream",
     "text": [
      "student 1\n",
      "Test 1\n",
      "student 2\n",
      "Test 1\n",
      "student 3\n",
      "Test 1\n",
      "student 4\n",
      "Test 1\n"
     ]
    }
   ],
   "source": [
    "for i in range (1,5):\n",
    "    print(\"student\",i)\n",
    "    for j in range (1,2):\n",
    "        print(\"Test\",j)"
   ]
  },
  {
   "cell_type": "code",
   "execution_count": null,
   "id": "27c64c93",
   "metadata": {},
   "outputs": [
    {
     "name": "stdout",
     "output_type": "stream",
     "text": [
      "student 1\n",
      "Test 1\n",
      "--------TEA BREAK---------\n",
      "student 2\n",
      "Test 1\n",
      "Test 2\n",
      "--------TEA BREAK---------\n",
      "student 3\n",
      "Test 1\n",
      "Test 2\n",
      "Test 3\n",
      "--------TEA BREAK---------\n",
      "student 4\n",
      "Test 1\n",
      "Test 2\n",
      "Test 3\n",
      "Test 4\n",
      "--------TEA BREAK---------\n"
     ]
    }
   ],
   "source": [
    "for i in range (1,5):\n",
    "    print(\"student\",i)\n",
    "    for j in range (1,i+1):\n",
    "        print(\"Test\",j)\n",
    "    print(\"--------TEA BREAK---------\")"
   ]
  },
  {
   "cell_type": "code",
   "execution_count": 22,
   "id": "c290f19b",
   "metadata": {},
   "outputs": [
    {
     "name": "stdout",
     "output_type": "stream",
     "text": [
      "student 1\n",
      "Test 1 Test 2 Test 3 Test 4 \n",
      "--------TEA BREAK---------\n",
      "student 2\n",
      "Test 1 Test 2 Test 3 \n",
      "--------TEA BREAK---------\n",
      "student 3\n",
      "Test 1 Test 2 \n",
      "--------TEA BREAK---------\n",
      "student 4\n",
      "Test 1 \n",
      "--------TEA BREAK---------\n"
     ]
    }
   ],
   "source": [
    "for i in range (1,5):\n",
    "    print(\"student\",i)\n",
    "    for j in range (1,6-i):\n",
    "        print(\"Test\",j,end=\" \")\n",
    "    print(\"\\n--------TEA BREAK---------\")"
   ]
  },
  {
   "cell_type": "markdown",
   "id": "ad8af177",
   "metadata": {},
   "source": [
    "STAR PATTERN"
   ]
  },
  {
   "cell_type": "code",
   "execution_count": 25,
   "id": "3f356dae",
   "metadata": {},
   "outputs": [
    {
     "name": "stdout",
     "output_type": "stream",
     "text": [
      " * \n",
      " *   *   *   *  \n",
      "\n",
      " * \n",
      " *   *   *  \n",
      "\n",
      " * \n",
      " *   *  \n",
      "\n",
      " * \n",
      " *  \n",
      "\n"
     ]
    }
   ],
   "source": [
    "for i in range (1,5):\n",
    "    print(\" * \")\n",
    "    for j in range (1,6-i):\n",
    "        print(\" * \",end=\" \")\n",
    "    print(\"\\n\")"
   ]
  },
  {
   "cell_type": "code",
   "execution_count": 28,
   "id": "b6547289",
   "metadata": {},
   "outputs": [
    {
     "name": "stdout",
     "output_type": "stream",
     "text": [
      "* * * *  \n",
      "* * *  \n",
      "* *  \n",
      "*  \n"
     ]
    }
   ],
   "source": [
    "for i in range (1,5):\n",
    "    for j in range (1,6-i):\n",
    "        print(\"*\",end=\" \")\n",
    "    print(\" \")"
   ]
  },
  {
   "cell_type": "code",
   "execution_count": 66,
   "id": "c3263457",
   "metadata": {},
   "outputs": [
    {
     "name": "stdout",
     "output_type": "stream",
     "text": [
      "1  \n",
      "2 2  \n",
      "3 3 3  \n",
      "4 4 4 4  \n",
      "5 5 5 5 5  \n"
     ]
    }
   ],
   "source": [
    "# 1\n",
    "# 2 2\n",
    "# 3 3 3\n",
    "# 4 4 4 4\n",
    "for i in range (1,6):\n",
    "    for j in range (0,i):\n",
    "        print(i,end=\" \")\n",
    "    print(\" \")"
   ]
  },
  {
   "cell_type": "code",
   "execution_count": 67,
   "id": "3a687439",
   "metadata": {},
   "outputs": [
    {
     "name": "stdout",
     "output_type": "stream",
     "text": [
      "1 1 1 1 1  \n",
      "2 2 2 2  \n",
      "3 3 3  \n",
      "4 4  \n",
      "5  \n"
     ]
    }
   ],
   "source": [
    "# 1 1 1 1 \n",
    "# 2 2 2\n",
    "# 3 3\n",
    "# 4\n",
    "for i in range (1,6):\n",
    "    for j in range (0,6-i):\n",
    "        print(i,end=\" \")\n",
    "    print(\" \")\n"
   ]
  },
  {
   "cell_type": "code",
   "execution_count": null,
   "id": "4c4515e8",
   "metadata": {},
   "outputs": [],
   "source": [
    "#  * * * *\n",
    "#  *     *\n",
    "#  *     *\n",
    "#  * * * *\n",
    "\n"
   ]
  },
  {
   "cell_type": "code",
   "execution_count": 37,
   "id": "15d6f174",
   "metadata": {},
   "outputs": [
    {
     "name": "stdout",
     "output_type": "stream",
     "text": [
      "10 20\n",
      "10 30\n",
      "10 1\n",
      "10 90\n",
      "10 23\n",
      "20 30\n",
      "20 1\n",
      "20 90\n",
      "20 23\n",
      "30 1\n",
      "30 90\n",
      "30 23\n",
      "1 90\n",
      "1 23\n",
      "90 23\n"
     ]
    }
   ],
   "source": [
    "mylist=[10,20,30,1,90,23]\n",
    "for index1 in range (0,6):\n",
    "    curr=mylist[index1]\n",
    "    for index2 in range (index1+1,6):\n",
    "        next = mylist[index2]\n",
    "        print(curr,next)"
   ]
  },
  {
   "cell_type": "markdown",
   "id": "f111f72f",
   "metadata": {},
   "source": [
    "2 SUM PROBLEM"
   ]
  },
  {
   "cell_type": "code",
   "execution_count": 38,
   "id": "d6f466a8",
   "metadata": {},
   "outputs": [
    {
     "name": "stdout",
     "output_type": "stream",
     "text": [
      "TWO NUMBER THAT SUM IS 110 = (20, 90)\n"
     ]
    }
   ],
   "source": [
    "mylist=[10,20,30,1,90,23]\n",
    "for index1 in range (0,6):\n",
    "    curr=mylist[index1]\n",
    "    for index2 in range (index1+1,6):\n",
    "        next = mylist[index2]\n",
    "        if(curr+next==110):\n",
    "            print(f\"TWO NUMBER THAT SUM IS 110 = {curr,next}\")"
   ]
  },
  {
   "cell_type": "markdown",
   "id": "c2289a0c",
   "metadata": {},
   "source": [
    "TUPLES"
   ]
  },
  {
   "cell_type": "code",
   "execution_count": null,
   "id": "a1606b87",
   "metadata": {},
   "outputs": [
    {
     "name": "stdout",
     "output_type": "stream",
     "text": [
      "<class 'tuple'>\n"
     ]
    }
   ],
   "source": [
    "#TUPLE\n",
    "# ARE IMMUTABLE => WE CANNOT CHANGE THE DATA\n",
    "x=(10,20)\n",
    "print(type(x))"
   ]
  },
  {
   "cell_type": "markdown",
   "id": "1cf8a753",
   "metadata": {},
   "source": [
    "INDEX FUNCTION IN TUPLE"
   ]
  },
  {
   "cell_type": "code",
   "execution_count": 40,
   "id": "3f4b7946",
   "metadata": {},
   "outputs": [
    {
     "data": {
      "text/plain": [
       "1"
      ]
     },
     "execution_count": 40,
     "metadata": {},
     "output_type": "execute_result"
    }
   ],
   "source": [
    "x=(10,20,30,\"abc\",34)\n",
    "x.index(20)"
   ]
  },
  {
   "cell_type": "markdown",
   "id": "c33078a9",
   "metadata": {},
   "source": [
    "COUNT IN TUPLE"
   ]
  },
  {
   "cell_type": "code",
   "execution_count": 42,
   "id": "b2561746",
   "metadata": {},
   "outputs": [
    {
     "data": {
      "text/plain": [
       "1"
      ]
     },
     "execution_count": 42,
     "metadata": {},
     "output_type": "execute_result"
    }
   ],
   "source": [
    "x=(10,20,30,\"abc\",34)\n",
    "x.count(10)"
   ]
  },
  {
   "cell_type": "markdown",
   "id": "1385e4b6",
   "metadata": {},
   "source": [
    "HELP IN TUPLE"
   ]
  },
  {
   "cell_type": "code",
   "execution_count": 44,
   "id": "5aa0877e",
   "metadata": {},
   "outputs": [
    {
     "name": "stdout",
     "output_type": "stream",
     "text": [
      "Help on tuple object:\n",
      "\n",
      "class tuple(object)\n",
      " |  tuple(iterable=(), /)\n",
      " |\n",
      " |  Built-in immutable sequence.\n",
      " |\n",
      " |  If no argument is given, the constructor returns an empty tuple.\n",
      " |  If iterable is specified the tuple is initialized from iterable's items.\n",
      " |\n",
      " |  If the argument is a tuple, the return value is the same object.\n",
      " |\n",
      " |  Built-in subclasses:\n",
      " |      asyncgen_hooks\n",
      " |      UnraisableHookArgs\n",
      " |\n",
      " |  Methods defined here:\n",
      " |\n",
      " |  __add__(self, value, /)\n",
      " |      Return self+value.\n",
      " |\n",
      " |  __contains__(self, key, /)\n",
      " |      Return bool(key in self).\n",
      " |\n",
      " |  __eq__(self, value, /)\n",
      " |      Return self==value.\n",
      " |\n",
      " |  __ge__(self, value, /)\n",
      " |      Return self>=value.\n",
      " |\n",
      " |  __getattribute__(self, name, /)\n",
      " |      Return getattr(self, name).\n",
      " |\n",
      " |  __getitem__(self, key, /)\n",
      " |      Return self[key].\n",
      " |\n",
      " |  __getnewargs__(self, /)\n",
      " |\n",
      " |  __gt__(self, value, /)\n",
      " |      Return self>value.\n",
      " |\n",
      " |  __hash__(self, /)\n",
      " |      Return hash(self).\n",
      " |\n",
      " |  __iter__(self, /)\n",
      " |      Implement iter(self).\n",
      " |\n",
      " |  __le__(self, value, /)\n",
      " |      Return self<=value.\n",
      " |\n",
      " |  __len__(self, /)\n",
      " |      Return len(self).\n",
      " |\n",
      " |  __lt__(self, value, /)\n",
      " |      Return self<value.\n",
      " |\n",
      " |  __mul__(self, value, /)\n",
      " |      Return self*value.\n",
      " |\n",
      " |  __ne__(self, value, /)\n",
      " |      Return self!=value.\n",
      " |\n",
      " |  __repr__(self, /)\n",
      " |      Return repr(self).\n",
      " |\n",
      " |  __rmul__(self, value, /)\n",
      " |      Return value*self.\n",
      " |\n",
      " |  count(self, value, /)\n",
      " |      Return number of occurrences of value.\n",
      " |\n",
      " |  index(self, value, start=0, stop=9223372036854775807, /)\n",
      " |      Return first index of value.\n",
      " |\n",
      " |      Raises ValueError if the value is not present.\n",
      " |\n",
      " |  ----------------------------------------------------------------------\n",
      " |  Class methods defined here:\n",
      " |\n",
      " |  __class_getitem__(object, /)\n",
      " |      See PEP 585\n",
      " |\n",
      " |  ----------------------------------------------------------------------\n",
      " |  Static methods defined here:\n",
      " |\n",
      " |  __new__(*args, **kwargs)\n",
      " |      Create and return a new object.  See help(type) for accurate signature.\n",
      "\n"
     ]
    }
   ],
   "source": [
    "help(x)"
   ]
  },
  {
   "cell_type": "code",
   "execution_count": null,
   "id": "5dc80ec8",
   "metadata": {},
   "outputs": [],
   "source": []
  }
 ],
 "metadata": {
  "kernelspec": {
   "display_name": "Python 3",
   "language": "python",
   "name": "python3"
  },
  "language_info": {
   "codemirror_mode": {
    "name": "ipython",
    "version": 3
   },
   "file_extension": ".py",
   "mimetype": "text/x-python",
   "name": "python",
   "nbconvert_exporter": "python",
   "pygments_lexer": "ipython3",
   "version": "3.13.2"
  }
 },
 "nbformat": 4,
 "nbformat_minor": 5
}
