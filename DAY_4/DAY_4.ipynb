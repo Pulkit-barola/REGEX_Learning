{
 "cells": [
  {
   "cell_type": "markdown",
   "id": "e9671ee6",
   "metadata": {},
   "source": [
    "24 JUNE, 2025"
   ]
  },
  {
   "cell_type": "markdown",
   "id": "319ca355",
   "metadata": {},
   "source": [
    "DICTIONARY"
   ]
  },
  {
   "cell_type": "code",
   "execution_count": 1,
   "id": "7ccb5c4d",
   "metadata": {},
   "outputs": [
    {
     "name": "stdout",
     "output_type": "stream",
     "text": [
      "[40, 10, 20, 30]\n"
     ]
    }
   ],
   "source": [
    "# dictionary\n",
    "mylist=[10,20,30]\n",
    "mylist.insert(0,40)\n",
    "print(mylist) # time complexity => 0(n)"
   ]
  },
  {
   "cell_type": "code",
   "execution_count": null,
   "id": "74363def",
   "metadata": {},
   "outputs": [],
   "source": [
    "# Dictonary : key and value pair\n",
    "# dictionary don't have index\n",
    "# mutuable\n",
    "# ordered (fixed) after 3.7 version of python \n",
    "# key -> unique , value can be duplicate or can be unique\n",
    "# \n"
   ]
  },
  {
   "cell_type": "code",
   "execution_count": 3,
   "id": "a2818253",
   "metadata": {},
   "outputs": [
    {
     "name": "stdout",
     "output_type": "stream",
     "text": [
      "{10: 'aman', 11: 'yash'}\n"
     ]
    }
   ],
   "source": [
    "mystudent={10: \"aman\",11:\"yash\"}\n",
    "print (mystudent)"
   ]
  },
  {
   "cell_type": "markdown",
   "id": "1d819201",
   "metadata": {},
   "source": [
    "TO UPDATE DICTIONARY"
   ]
  },
  {
   "cell_type": "code",
   "execution_count": 4,
   "id": "dd890542",
   "metadata": {},
   "outputs": [
    {
     "name": "stdout",
     "output_type": "stream",
     "text": [
      "{10: 'ishaan', 11: 'yash'}\n"
     ]
    }
   ],
   "source": [
    "mystudent={10: \"aman\",11:\"yash\"}\n",
    "mystudent[10]=\"ishaan\" # update\n",
    "print (mystudent)"
   ]
  },
  {
   "cell_type": "markdown",
   "id": "3415b630",
   "metadata": {},
   "source": [
    "TO INSER T IN DICTIONARY"
   ]
  },
  {
   "cell_type": "code",
   "execution_count": 5,
   "id": "9a571f5f",
   "metadata": {},
   "outputs": [
    {
     "name": "stdout",
     "output_type": "stream",
     "text": [
      "{10: 'aman', 11: 'yash', 12: 'naina'}\n"
     ]
    }
   ],
   "source": [
    "mystudent={10: \"aman\",11:\"yash\"}\n",
    "mystudent[12]=\"naina\" # insert\n",
    "print(mystudent)"
   ]
  },
  {
   "cell_type": "markdown",
   "id": "7e3e5d93",
   "metadata": {},
   "source": [
    "TO DELETE THE DATA OF THE DICTIONARY"
   ]
  },
  {
   "cell_type": "code",
   "execution_count": 8,
   "id": "4227196b",
   "metadata": {},
   "outputs": [
    {
     "name": "stdout",
     "output_type": "stream",
     "text": [
      "{10: 'aman', 12: 'naina'}\n"
     ]
    }
   ],
   "source": [
    "mystudent={10: \"aman\",11:\"yash\",12: 'naina'}\n",
    "mystudent.pop(11) # delete data\n",
    "print(mystudent)"
   ]
  },
  {
   "cell_type": "markdown",
   "id": "ed89b292",
   "metadata": {},
   "source": []
  },
  {
   "cell_type": "code",
   "execution_count": 12,
   "id": "168f4e14",
   "metadata": {},
   "outputs": [
    {
     "name": "stdout",
     "output_type": "stream",
     "text": [
      "{'HR': ['RAJ', 'NAINA']}\n",
      "['RAJ', 'NAINA']\n"
     ]
    }
   ],
   "source": [
    "mycompany={\"HR\":['RAJ','NAINA']}\n",
    "print(mycompany)\n",
    "print(mycompany[\"HR\"])"
   ]
  },
  {
   "cell_type": "markdown",
   "id": "4ab4a647",
   "metadata": {},
   "source": [
    "ENUMERATE FUNCTION"
   ]
  },
  {
   "cell_type": "code",
   "execution_count": 13,
   "id": "8e7e3541",
   "metadata": {},
   "outputs": [
    {
     "name": "stdout",
     "output_type": "stream",
     "text": [
      "0 10\n",
      "1 20\n",
      "2 30\n"
     ]
    }
   ],
   "source": [
    "for i,j in enumerate([10,20,30]):\n",
    "    print(i,j)"
   ]
  },
  {
   "cell_type": "markdown",
   "id": "3469f2ba",
   "metadata": {},
   "source": [
    "KON BANAGE CROREPATI PROJECT"
   ]
  },
  {
   "cell_type": "code",
   "execution_count": 14,
   "id": "7bd7c75c",
   "metadata": {},
   "outputs": [],
   "source": [
    "myamount=[10000,20000]"
   ]
  },
  {
   "cell_type": "code",
   "execution_count": 45,
   "id": "041b9a4f",
   "metadata": {},
   "outputs": [
    {
     "name": "stdout",
     "output_type": "stream",
     "text": [
      "WELCOME TO KON BANAGE CORROREPATI\n",
      "QUESTION FOR Rs  10000 is \n",
      "    1. Who is the father of nation ? : \n",
      "\tA. NATHU RAM GODSE\n",
      "\tB. PULKIT\n",
      "\tC. SAHIL\n",
      "\tD. MAHATMA GANDHI\n",
      "\n",
      " \t ----- \t AAPNA JEETA HA KUL Rs. 10000 /- ONLY \t-----\n",
      "\n",
      "QUESTION FOR Rs  20000 is \n",
      "    2. FULL FORM OF SKJ : \n",
      "\tA. SHANKAR KUMAR JAISWAL\n",
      "\tB. SAHIL AGARWAL JAIN\n",
      "\tC. SAR KAT JAYA\n",
      "\tD. SHIVANSH KUMAR JANGIR\n",
      "\n",
      " \t ----- \t AAPNA JEETA HA KUL Rs. 30000 /- ONLY \t-----\n",
      "\n"
     ]
    }
   ],
   "source": [
    "print(\"WELCOME TO KON BANAGE CORROREPATI\")\n",
    "questionBank=[{\"Question\": \"Who is the father of nation ?\",\n",
    "               \"option\": [\"A. NATHU RAM GODSE\",\"B. PULKIT\",\"C. SAHIL\",\"D. MAHATMA GANDHI\"],\n",
    "               \"answer\":\"D\"\n",
    "               },\n",
    "               {\"Question\": \"FULL FORM OF SKJ\",\n",
    "                \"option\":[\"A. SHANKAR KUMAR JAISWAL\",\"B. SAHIL AGARWAL JAIN\",\"C. SAR KAT JAYA\",\"D. SHIVANSH KUMAR JANGIR\"],\n",
    "                \"answer\":\"A\"},\n",
    "               ]\n",
    "\n",
    "total_amount=0\n",
    "for i,q in enumerate(questionBank):\n",
    "    # print(q[\"Question\"])\n",
    "    print(f\"QUESTION FOR Rs  {myamount[i]} is \\n    {i+1}. {q['Question']} : \")\n",
    "    for option in q['option']:\n",
    "        print(f\"\\t{option}\")\n",
    "    user_input=input(\"ENTER THE OPTION A / B / C / D /QUIT => EXIT : \").upper()\n",
    "    if (user_input==q['answer']):\n",
    "        total_amount +=myamount[i]\n",
    "        print(f\"\\n \\t ----- \\t AAPNA JEETA HA KUL Rs. {total_amount} /- ONLY \\t-----\\n\")\n",
    "    elif(user_input==\"QUIT\"):\n",
    "        print(\"kaha party karna pasand karage!!\")\n",
    "    else:\n",
    "        print(\"GAME OVER! AAPKA KHEL KHATAM HOTA HA!!\")\n",
    "        print(f\"\\n \\t ----- \\t AAPNA JEETA HA KUL Rs. {total_amount} /- ONLY \\t-----\\n\")\n",
    "        break\n"
   ]
  },
  {
   "cell_type": "markdown",
   "id": "2fffc0d4",
   "metadata": {},
   "source": [
    "LIST COMPHREHENSION"
   ]
  },
  {
   "cell_type": "code",
   "execution_count": 46,
   "id": "85076c2c",
   "metadata": {},
   "outputs": [],
   "source": [
    "# shorter way to create new list"
   ]
  },
  {
   "cell_type": "code",
   "execution_count": 57,
   "id": "eb416d69",
   "metadata": {},
   "outputs": [
    {
     "name": "stdout",
     "output_type": "stream",
     "text": [
      "THE LIST => [1, 2, 3, 4, 5, 6, 7, 8, 9]\n"
     ]
    }
   ],
   "source": [
    "newlist=[]\n",
    "for i in range(1, 10):\n",
    "    newlist.append(i)\n",
    "    # print(i,newlist)\n",
    "\n",
    "print(f\"THE LIST => {newlist}\")"
   ]
  },
  {
   "cell_type": "code",
   "execution_count": 50,
   "id": "81808498",
   "metadata": {},
   "outputs": [
    {
     "data": {
      "text/plain": [
       "[1, 2, 3, 4, 5, 6, 7, 8, 9]"
      ]
     },
     "execution_count": 50,
     "metadata": {},
     "output_type": "execute_result"
    }
   ],
   "source": [
    "# apply list comphrehension\n",
    "[i for i in range (1,10)] # list comphrehension"
   ]
  },
  {
   "cell_type": "code",
   "execution_count": 51,
   "id": "b4be9d6e",
   "metadata": {},
   "outputs": [
    {
     "data": {
      "text/plain": [
       "[6, 7, 8, 9, 10, 11, 12, 13, 14]"
      ]
     },
     "execution_count": 51,
     "metadata": {},
     "output_type": "execute_result"
    }
   ],
   "source": [
    "[i+5 for i in range (1,10)] # list comphrehension"
   ]
  },
  {
   "cell_type": "markdown",
   "id": "43236304",
   "metadata": {},
   "source": [
    "DICTIONARY COMPHREHENSION"
   ]
  },
  {
   "cell_type": "code",
   "execution_count": 53,
   "id": "c1780038",
   "metadata": {},
   "outputs": [
    {
     "data": {
      "text/plain": [
       "{1: 1, 2: 4, 3: 9, 4: 16, 5: 25, 6: 36, 7: 49, 8: 64, 9: 81}"
      ]
     },
     "execution_count": 53,
     "metadata": {},
     "output_type": "execute_result"
    }
   ],
   "source": [
    "{i:i**2 for i in range (1,10)}"
   ]
  },
  {
   "cell_type": "code",
   "execution_count": null,
   "id": "651b135f",
   "metadata": {},
   "outputs": [],
   "source": []
  }
 ],
 "metadata": {
  "kernelspec": {
   "display_name": "Python 3",
   "language": "python",
   "name": "python3"
  },
  "language_info": {
   "codemirror_mode": {
    "name": "ipython",
    "version": 3
   },
   "file_extension": ".py",
   "mimetype": "text/x-python",
   "name": "python",
   "nbconvert_exporter": "python",
   "pygments_lexer": "ipython3",
   "version": "3.13.2"
  }
 },
 "nbformat": 4,
 "nbformat_minor": 5
}
