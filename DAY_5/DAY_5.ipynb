{
 "cells": [
  {
   "cell_type": "markdown",
   "id": "217398a8",
   "metadata": {},
   "source": [
    "DAY 5 "
   ]
  },
  {
   "cell_type": "markdown",
   "id": "d6fa3481",
   "metadata": {},
   "source": [
    "SET"
   ]
  },
  {
   "cell_type": "code",
   "execution_count": 1,
   "id": "f774cf8a",
   "metadata": {},
   "outputs": [
    {
     "name": "stdout",
     "output_type": "stream",
     "text": [
      "<class 'set'>\n"
     ]
    }
   ],
   "source": [
    "# set => datatype which store only the unique & it is a function\n",
    "# unordered \n",
    "# not have index\n",
    "myset=set({})\n",
    "print (type(myset))\n"
   ]
  },
  {
   "cell_type": "code",
   "execution_count": 2,
   "id": "5c0af769",
   "metadata": {},
   "outputs": [
    {
     "name": "stdout",
     "output_type": "stream",
     "text": [
      "{34, 20, 90, 10, 45}\n"
     ]
    }
   ],
   "source": [
    "myset={10,20,34,45,90}\n",
    "print(myset)"
   ]
  },
  {
   "cell_type": "markdown",
   "id": "42a117be",
   "metadata": {},
   "source": [
    "INSERT DATA IN SET"
   ]
  },
  {
   "cell_type": "code",
   "execution_count": 5,
   "id": "b000cdee",
   "metadata": {},
   "outputs": [
    {
     "name": "stdout",
     "output_type": "stream",
     "text": [
      "{34, 20, 90, 21, 10, 45}\n"
     ]
    }
   ],
   "source": [
    "myset={10,20,34,45,90}\n",
    "myset.add(21)\n",
    "print(myset)"
   ]
  },
  {
   "cell_type": "markdown",
   "id": "b082f331",
   "metadata": {},
   "source": [
    "DELETE ELEMENT FROM THE SET"
   ]
  },
  {
   "cell_type": "code",
   "execution_count": 8,
   "id": "916080e8",
   "metadata": {},
   "outputs": [
    {
     "name": "stdout",
     "output_type": "stream",
     "text": [
      "{34, 20, 90, 10, 45}\n"
     ]
    }
   ],
   "source": [
    "myset={10,20,34,45,90}\n",
    "myset.discard(21)\n",
    "print(myset)"
   ]
  },
  {
   "cell_type": "markdown",
   "id": "2e321d68",
   "metadata": {},
   "source": [
    "UNION OF 2 SET"
   ]
  },
  {
   "cell_type": "code",
   "execution_count": 9,
   "id": "2d09ee01",
   "metadata": {},
   "outputs": [
    {
     "data": {
      "text/plain": [
       "{20, 30, 34, 40, 56, 57, 78, 90}"
      ]
     },
     "execution_count": 9,
     "metadata": {},
     "output_type": "execute_result"
    }
   ],
   "source": [
    "set1={20,30,40,56,57}\n",
    "set2={34,56,78,90}\n",
    "set1.union(set2)"
   ]
  },
  {
   "cell_type": "markdown",
   "id": "861342b8",
   "metadata": {},
   "source": [
    "COMMON ELEMENT OF BOTH SET"
   ]
  },
  {
   "cell_type": "code",
   "execution_count": 10,
   "id": "0d3919ac",
   "metadata": {},
   "outputs": [
    {
     "data": {
      "text/plain": [
       "{56}"
      ]
     },
     "execution_count": 10,
     "metadata": {},
     "output_type": "execute_result"
    }
   ],
   "source": [
    "set1={20,30,40,56,57}\n",
    "set2={34,56,78,90}\n",
    "set1.intersection(set2)"
   ]
  },
  {
   "cell_type": "markdown",
   "id": "a51f8183",
   "metadata": {},
   "source": [
    "COUNT NUMBER OF WORDS"
   ]
  },
  {
   "cell_type": "code",
   "execution_count": 15,
   "id": "97af4c2e",
   "metadata": {},
   "outputs": [
    {
     "name": "stdout",
     "output_type": "stream",
     "text": [
      "['hey', 'i', 'am', 'shankar', 'kumar', 'jaiswal']\n",
      "hey\n",
      "i\n",
      "am\n",
      "shankar\n",
      "kumar\n",
      "jaiswal\n",
      "6\n"
     ]
    }
   ],
   "source": [
    "h=\"hey i am shankar kumar jaiswal\"\n",
    "count=0\n",
    "mylist=h.split()\n",
    "print(mylist)\n",
    "for i in mylist:\n",
    "    count=count+1\n",
    "    print(i)\n",
    "print(count)"
   ]
  },
  {
   "cell_type": "markdown",
   "id": "816351c5",
   "metadata": {},
   "source": [
    "FIND DUPLICATE VALUE"
   ]
  },
  {
   "cell_type": "code",
   "execution_count": 19,
   "id": "adc4746f",
   "metadata": {},
   "outputs": [
    {
     "name": "stdout",
     "output_type": "stream",
     "text": [
      "['hey', 'i', 'am', 'shankar', 'kumar', 'jaiswal', 'jaiswal']\n",
      "DUPLICATE VALUE : jaiswal\n"
     ]
    }
   ],
   "source": [
    "h=\"hey i am shankar kumar jaiswal jaiswal\" \n",
    "mylist=h.split()\n",
    "print(mylist)\n",
    "for i,j in enumerate(mylist): # i = index(0) , j(data)\n",
    "    for k in range (i+1,len(mylist)): # len(mylist)= 7\n",
    "       if(j==mylist[k]):\n",
    "           print(f\"DUPLICATE VALUE : {j}\")"
   ]
  },
  {
   "cell_type": "markdown",
   "id": "29b55e61",
   "metadata": {},
   "source": [
    "FUNCTION"
   ]
  },
  {
   "cell_type": "code",
   "execution_count": 21,
   "id": "ca338499",
   "metadata": {},
   "outputs": [],
   "source": [
    "# function => piece of code => task perform\n",
    "# inbuilt functions and second is user-defined functions\n",
    "# CODE READABLE"
   ]
  },
  {
   "cell_type": "markdown",
   "id": "a5cf4149",
   "metadata": {},
   "source": [
    "USER DEFINE FUNCTION"
   ]
  },
  {
   "cell_type": "code",
   "execution_count": 47,
   "id": "109c54f6",
   "metadata": {},
   "outputs": [],
   "source": [
    "# FUNCTION CREATION\n",
    "def func():\n",
    "    print(\"hello skj\")\n",
    "    print(\"skj\")\n"
   ]
  },
  {
   "cell_type": "code",
   "execution_count": 48,
   "id": "97ef9b05",
   "metadata": {},
   "outputs": [
    {
     "name": "stdout",
     "output_type": "stream",
     "text": [
      "hello skj\n",
      "skj\n",
      "hello skj\n",
      "skj\n"
     ]
    }
   ],
   "source": [
    "# FUNCTION CALLING\n",
    "func()\n",
    "func()"
   ]
  },
  {
   "cell_type": "markdown",
   "id": "34bed5e8",
   "metadata": {},
   "source": [
    "PARAMETERIZE FUNCTION"
   ]
  },
  {
   "cell_type": "code",
   "execution_count": 46,
   "id": "3aa88cc3",
   "metadata": {},
   "outputs": [
    {
     "name": "stdout",
     "output_type": "stream",
     "text": [
      "helloooo... E3!!\n"
     ]
    }
   ],
   "source": [
    "# function creation\n",
    "x=input(\"enter the value of x : \")\n",
    "def func(x): # x => parameter (AS A VARIABLE)\n",
    "    print(f\"helloooo... {x}!!\")\n",
    "\n",
    "# function calling\n",
    "func(x) # x => argument\n",
    "\n",
    "# PARAMETER => VARIABLE AT FUNCTION CREATION\n",
    "# ARGUMENT => VARIABLE AT FUNCTION CALLING TIME"
   ]
  },
  {
   "cell_type": "markdown",
   "id": "29dc7ec6",
   "metadata": {},
   "source": [
    "FUNCTION VARIABLE LIFESPANE"
   ]
  },
  {
   "cell_type": "code",
   "execution_count": null,
   "id": "6a7d1485",
   "metadata": {},
   "outputs": [
    {
     "name": "stdout",
     "output_type": "stream",
     "text": [
      "helloooo... SKJ!!\n"
     ]
    },
    {
     "ename": "NameError",
     "evalue": "name 'x1' is not defined",
     "output_type": "error",
     "traceback": [
      "\u001b[31m---------------------------------------------------------------------------\u001b[39m",
      "\u001b[31mNameError\u001b[39m                                 Traceback (most recent call last)",
      "\u001b[36mCell\u001b[39m\u001b[36m \u001b[39m\u001b[32mIn[32]\u001b[39m\u001b[32m, line 6\u001b[39m\n\u001b[32m      3\u001b[39m     \u001b[38;5;28mprint\u001b[39m(\u001b[33mf\u001b[39m\u001b[33m\"\u001b[39m\u001b[33mhelloooo... \u001b[39m\u001b[38;5;132;01m{\u001b[39;00mx1\u001b[38;5;132;01m}\u001b[39;00m\u001b[33m!!\u001b[39m\u001b[33m\"\u001b[39m)\n\u001b[32m      5\u001b[39m func(\u001b[33m\"\u001b[39m\u001b[33mSKJ\u001b[39m\u001b[33m\"\u001b[39m)\n\u001b[32m----> \u001b[39m\u001b[32m6\u001b[39m \u001b[38;5;28mprint\u001b[39m(\u001b[43mx1\u001b[49m)\n",
      "\u001b[31mNameError\u001b[39m: name 'x1' is not defined"
     ]
    }
   ],
   "source": [
    "# FUNCTION LIFE IS INSIDE THE VARIBLE => IT IS ALSO CALLED LOCAL SCOPE OF VARIABLE\n",
    "def func(x1): # x1 => parameter (AS A VARIABLE)\n",
    "    print(f\"helloooo... {x1}!!\")\n",
    "\n",
    "func(\"SKJ\")\n",
    "print(x1)"
   ]
  },
  {
   "cell_type": "markdown",
   "id": "b0f5d695",
   "metadata": {},
   "source": [
    "TAKE NUMBER & PRINT FACTORS OF THAT NUMBER"
   ]
  },
  {
   "cell_type": "code",
   "execution_count": 40,
   "id": "1cc2336e",
   "metadata": {},
   "outputs": [
    {
     "name": "stdout",
     "output_type": "stream",
     "text": [
      "FACTORS OF 34 : 1 2 17 34 "
     ]
    }
   ],
   "source": [
    "# factor function creation :-\n",
    "def factor_num(num):\n",
    "    print(f\"FACTORS OF {num} :\",end=\" \")\n",
    "    for i in range (1,num +1):\n",
    "        if (num%i==0):\n",
    "            print(f\"{i}\",end=\" \")\n",
    "\n",
    "# factor function calling\n",
    "factor_num(34)\n"
   ]
  },
  {
   "cell_type": "markdown",
   "id": "799b6f02",
   "metadata": {},
   "source": [
    "MULTI PARAMETER FUNCTION"
   ]
  },
  {
   "cell_type": "code",
   "execution_count": 42,
   "id": "5080c624",
   "metadata": {},
   "outputs": [
    {
     "name": "stdout",
     "output_type": "stream",
     "text": [
      "A : 10 , B : 20 , C : 30\n",
      "A : 20 , B : 30 , C : 10\n"
     ]
    }
   ],
   "source": [
    "def func(a,b,c):\n",
    "    print(f\"A : {a} , B : {b} , C : {c}\")\n",
    "\n",
    "# function call\n",
    "func(10,20,30)\n",
    "func(20,30,10)"
   ]
  },
  {
   "cell_type": "markdown",
   "id": "ff5991c5",
   "metadata": {},
   "source": [
    "KEYWORD ARGUMENT IN FUNCTION"
   ]
  },
  {
   "cell_type": "code",
   "execution_count": 49,
   "id": "dfc55561",
   "metadata": {},
   "outputs": [
    {
     "name": "stdout",
     "output_type": "stream",
     "text": [
      "A : 20 , B : 10 , C : 32 , D : 43\n"
     ]
    }
   ],
   "source": [
    "# keywords => Keyword arguments in Python are arguments that are passed to a function with a name (keyword) and value.\n",
    "def func(a,b,c,d):\n",
    "    print(f\"A : {a} , B : {b} , C : {c} , D : {d}\")\n",
    "\n",
    "# function call with keyword argument\n",
    "func(b=10,a=20,d=43,c=32)"
   ]
  },
  {
   "cell_type": "markdown",
   "id": "ccb01f98",
   "metadata": {},
   "source": [
    "DEFAULT ARGUMENT"
   ]
  },
  {
   "cell_type": "code",
   "execution_count": 50,
   "id": "17f2a43e",
   "metadata": {},
   "outputs": [
    {
     "name": "stdout",
     "output_type": "stream",
     "text": [
      "A : 20 , B : 10 , C : 32 , D : 1000\n",
      "A : 20 , B : 10 , C : 32 , D : 45\n"
     ]
    }
   ],
   "source": [
    "def func(a,b,c,d=1000): # d= 1000 default argument\n",
    "    print(f\"A : {a} , B : {b} , C : {c} , D : {d}\")\n",
    "\n",
    "# function call with DEFAULT argument\n",
    "func(b=10,a=20,c=32)\n",
    "func(b=10,a=20,c=32,d=45)"
   ]
  },
  {
   "cell_type": "markdown",
   "id": "68e98e56",
   "metadata": {},
   "source": [
    "*ARGS => VARIABLE LENGTH ARGUMENT"
   ]
  },
  {
   "cell_type": "code",
   "execution_count": null,
   "id": "3e6ebc3d",
   "metadata": {},
   "outputs": [
    {
     "name": "stdout",
     "output_type": "stream",
     "text": [
      "(10, 20) <class 'tuple'>\n",
      "(45, 34, 667, 9, 0, 7, 6, 43) <class 'tuple'>\n"
     ]
    }
   ],
   "source": [
    "# *ARGS\n",
    "# TUPLE FORMAT DATA STORE\n",
    "def func(*data):\n",
    "    print(data,type(data))\n",
    "\n",
    "func(10,20)\n",
    "func(45,34,667,9,0,7,6,43)"
   ]
  },
  {
   "cell_type": "markdown",
   "id": "bea435a3",
   "metadata": {},
   "source": [
    "**KWARGS => KEYWORD VARIABLE LENGTH ARGUMENT => **"
   ]
  },
  {
   "cell_type": "code",
   "execution_count": 60,
   "id": "6f70fc05",
   "metadata": {},
   "outputs": [
    {
     "name": "stdout",
     "output_type": "stream",
     "text": [
      "{'id': 10, 'salary': 34} <class 'dict'>\n",
      "{'id': 10, 'salary': 34, 'name': 'sahil'} <class 'dict'>\n"
     ]
    }
   ],
   "source": [
    "# **KWAGS \n",
    "# DICTIONARY FORMAT DATA STORE\n",
    "def func(**data):\n",
    "    print(data,type(data))\n",
    "\n",
    "func(id=10,salary=34)\n",
    "func(id=10,salary=34,name=\"sahil\")"
   ]
  },
  {
   "cell_type": "markdown",
   "id": "4f50c827",
   "metadata": {},
   "source": [
    "RETURN IN FUNCTION"
   ]
  },
  {
   "cell_type": "code",
   "execution_count": 64,
   "id": "bacedef7",
   "metadata": {},
   "outputs": [
    {
     "name": "stdout",
     "output_type": "stream",
     "text": [
      "FUNCTION VALUE : 50\n"
     ]
    }
   ],
   "source": [
    "def func(num):\n",
    "    # print(num*5)\n",
    "    return (num*5)\n",
    "\n",
    "x=func(10)\n",
    "print(f\"FUNCTION VALUE : {x}\")"
   ]
  },
  {
   "cell_type": "markdown",
   "id": "7f38b84e",
   "metadata": {},
   "source": [
    "LAMBDA FUNCTION"
   ]
  },
  {
   "cell_type": "code",
   "execution_count": 73,
   "id": "778059db",
   "metadata": {},
   "outputs": [
    {
     "data": {
      "text/plain": [
       "20"
      ]
     },
     "execution_count": 73,
     "metadata": {},
     "output_type": "execute_result"
    }
   ],
   "source": [
    "#lambda parameter : expression\n",
    "x = lambda num: num*5 \n",
    "x(4)\n",
    "\n"
   ]
  },
  {
   "cell_type": "markdown",
   "id": "0a3d76f8",
   "metadata": {},
   "source": [
    "LAMBDA FUNCTION AS A FUNCTION"
   ]
  },
  {
   "cell_type": "code",
   "execution_count": null,
   "id": "6c7cbed3",
   "metadata": {},
   "outputs": [
    {
     "data": {
      "text/plain": [
       "20"
      ]
     },
     "execution_count": 75,
     "metadata": {},
     "output_type": "execute_result"
    }
   ],
   "source": [
    "# function (4)\n",
    "# HERE \n",
    "# => function => lambda num: num*5 \n",
    "(lambda num: num*5)(4)"
   ]
  },
  {
   "cell_type": "markdown",
   "id": "89f7011c",
   "metadata": {},
   "source": [
    "AUTOMATION TOOLS"
   ]
  },
  {
   "cell_type": "code",
   "execution_count": 76,
   "id": "9094df7e",
   "metadata": {},
   "outputs": [],
   "source": [
    "# AUTOMATION PLATFORM \n",
    "# => MAKE.COM"
   ]
  },
  {
   "cell_type": "code",
   "execution_count": 79,
   "id": "5706dca4",
   "metadata": {},
   "outputs": [],
   "source": [
    "# HOMEWORK\n",
    "# => google sheet ENTRY => LINKEDIN POST"
   ]
  },
  {
   "cell_type": "code",
   "execution_count": null,
   "id": "3d38e640",
   "metadata": {},
   "outputs": [],
   "source": []
  }
 ],
 "metadata": {
  "kernelspec": {
   "display_name": "Python 3",
   "language": "python",
   "name": "python3"
  },
  "language_info": {
   "codemirror_mode": {
    "name": "ipython",
    "version": 3
   },
   "file_extension": ".py",
   "mimetype": "text/x-python",
   "name": "python",
   "nbconvert_exporter": "python",
   "pygments_lexer": "ipython3",
   "version": "3.13.2"
  }
 },
 "nbformat": 4,
 "nbformat_minor": 5
}
