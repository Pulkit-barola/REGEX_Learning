{
 "cells": [
  {
   "cell_type": "markdown",
   "id": "52dbebd1",
   "metadata": {},
   "source": [
    "# DAY 6"
   ]
  },
  {
   "cell_type": "markdown",
   "id": "adbed509",
   "metadata": {},
   "source": [
    "MAP"
   ]
  },
  {
   "cell_type": "code",
   "execution_count": null,
   "id": "e2c23d00",
   "metadata": {},
   "outputs": [],
   "source": [
    "# map, filter, reduce\n",
    "# first class function \n",
    "# function - modern design\n",
    "# func => assign variable\n",
    "# func => store in list,tuple,dictionary\n",
    "# func => dushre function as argument"
   ]
  },
  {
   "cell_type": "markdown",
   "id": "178816fc",
   "metadata": {},
   "source": [
    "first class as assigned to x variable"
   ]
  },
  {
   "cell_type": "code",
   "execution_count": null,
   "id": "4bc8f738",
   "metadata": {},
   "outputs": [
    {
     "name": "stdout",
     "output_type": "stream",
     "text": [
      "<function test at 0x000001D2DE9EAFC0>\n",
      "X =>  <function test at 0x000001D2DE9EAFC0>\n",
      "E3\n",
      "E3\n"
     ]
    },
    {
     "data": {
      "text/plain": [
       "100"
      ]
     },
     "execution_count": 3,
     "metadata": {},
     "output_type": "execute_result"
    }
   ],
   "source": [
    "def test ():\n",
    "    print(\"E3\")\n",
    "    return 100\n",
    "\n",
    "print(test)\n",
    "x=test # test is first class as assigned to x variable\n",
    "print(\"X => \",x) # \"test\" MEMEORY ADDRESS \"x\" STORE\n",
    "x() # call the function with x()\n",
    "test() # call the function with test()"
   ]
  },
  {
   "cell_type": "code",
   "execution_count": 6,
   "id": "bfb13e7f",
   "metadata": {},
   "outputs": [
    {
     "name": "stdout",
     "output_type": "stream",
     "text": [
      "<function test at 0x000001D2DEA37F60>\n",
      "inside function x=>  <function test at 0x000001D2DEA37F60>\n",
      "inside function x=>  <function test at 0x000001D2DEA37F60>\n"
     ]
    }
   ],
   "source": [
    "def test():\n",
    "    print(\"SKJ!!\")\n",
    "\n",
    "def func(x): # x will have memory address of test function\n",
    "    print(\"inside function x=> \",x)\n",
    "\n",
    "out = test\n",
    "print(out)\n",
    "func(out)\n",
    "\n",
    "func(test)"
   ]
  },
  {
   "cell_type": "code",
   "execution_count": null,
   "id": "17b88ffc",
   "metadata": {},
   "outputs": [
    {
     "data": {
      "text/plain": [
       "[10, 20, 30, 40, 3]"
      ]
     },
     "execution_count": 8,
     "metadata": {},
     "output_type": "execute_result"
    }
   ],
   "source": [
    "[10,20,30,40,3]\n",
    "# add :-\n",
    "# 10 -> 10 + 5\n",
    "# 30 -> 30 + 25\n",
    "# 3 -> 3 + 35\n",
    "\n",
    "# their we don't use loop!!\n",
    "#we use MAP"
   ]
  },
  {
   "cell_type": "markdown",
   "id": "431685ed",
   "metadata": {},
   "source": [
    "MAP"
   ]
  },
  {
   "cell_type": "code",
   "execution_count": 9,
   "id": "9a73b9f6",
   "metadata": {},
   "outputs": [],
   "source": [
    "# MAP - HIGH ORDER FUNCTION\n",
    "# WHICH HELP YOU TO GENERATE THE DATA AS PER THE REQUIREMENT\n",
    "# MEMORY EFFECTIVELY USED\n",
    "# MAP (ITERATIONB -> LIST, DICTIONARY,FUNCTION)\n",
    "# NEXT FUNCTION"
   ]
  },
  {
   "cell_type": "code",
   "execution_count": 10,
   "id": "aa587255",
   "metadata": {},
   "outputs": [
    {
     "data": {
      "text/plain": [
       "[15, 25, 35, 45, 8]"
      ]
     },
     "execution_count": 10,
     "metadata": {},
     "output_type": "execute_result"
    }
   ],
   "source": [
    "[i+5 for i in [10,20,30,40,3]]"
   ]
  },
  {
   "cell_type": "markdown",
   "id": "02a2a139",
   "metadata": {},
   "source": [
    "using MAP"
   ]
  },
  {
   "cell_type": "code",
   "execution_count": 15,
   "id": "a3144e7b",
   "metadata": {},
   "outputs": [
    {
     "name": "stdout",
     "output_type": "stream",
     "text": [
      "15\n",
      "25\n"
     ]
    }
   ],
   "source": [
    "def add5(num):\n",
    "    return num+5\n",
    "\n",
    "out= map (add5,[10,20,30,40,3])\n",
    "print(next(out))\n",
    "print(next(out))\n",
    "\n",
    "# data fetch questions?\n"
   ]
  },
  {
   "cell_type": "markdown",
   "id": "9ca58bbf",
   "metadata": {},
   "source": [
    "LIST IN MAP FUNCTION"
   ]
  },
  {
   "cell_type": "code",
   "execution_count": 16,
   "id": "53ba5e06",
   "metadata": {},
   "outputs": [
    {
     "data": {
      "text/plain": [
       "[15, 25, 35, 45, 8]"
      ]
     },
     "execution_count": 16,
     "metadata": {},
     "output_type": "execute_result"
    }
   ],
   "source": [
    "def add5(num):\n",
    "    return num+5\n",
    "list(map (add5,[10,20,30,40,3]))"
   ]
  },
  {
   "cell_type": "markdown",
   "id": "e03d59cf",
   "metadata": {},
   "source": [
    "LAMBDA FUNCTION IN LIST"
   ]
  },
  {
   "cell_type": "code",
   "execution_count": 20,
   "id": "ceeaa05a",
   "metadata": {},
   "outputs": [
    {
     "data": {
      "text/plain": [
       "[15, 25, 35, 45, 8]"
      ]
     },
     "execution_count": 20,
     "metadata": {},
     "output_type": "execute_result"
    }
   ],
   "source": [
    "list(map (lambda num:num + 5,[10,20,30,40,3]))"
   ]
  },
  {
   "cell_type": "markdown",
   "id": "e1634ec7",
   "metadata": {},
   "source": [
    "FILTER"
   ]
  },
  {
   "cell_type": "code",
   "execution_count": 22,
   "id": "ff159428",
   "metadata": {},
   "outputs": [
    {
     "data": {
      "text/plain": [
       "[True, True, True, True, False]"
      ]
     },
     "execution_count": 22,
     "metadata": {},
     "output_type": "execute_result"
    }
   ],
   "source": [
    "list(map(lambda num: num% 2==0,[10,20,30,40,3])) # only logic "
   ]
  },
  {
   "cell_type": "code",
   "execution_count": 23,
   "id": "e9b9d379",
   "metadata": {},
   "outputs": [
    {
     "data": {
      "text/plain": [
       "[10, 20, 30, 40]"
      ]
     },
     "execution_count": 23,
     "metadata": {},
     "output_type": "execute_result"
    }
   ],
   "source": [
    "list(filter (lambda num: num%2==0,[10,20,30,40,3]))"
   ]
  },
  {
   "cell_type": "code",
   "execution_count": null,
   "id": "81e723c6",
   "metadata": {},
   "outputs": [],
   "source": []
  }
 ],
 "metadata": {
  "kernelspec": {
   "display_name": "Python 3",
   "language": "python",
   "name": "python3"
  },
  "language_info": {
   "codemirror_mode": {
    "name": "ipython",
    "version": 3
   },
   "file_extension": ".py",
   "mimetype": "text/x-python",
   "name": "python",
   "nbconvert_exporter": "python",
   "pygments_lexer": "ipython3",
   "version": "3.13.2"
  }
 },
 "nbformat": 4,
 "nbformat_minor": 5
}
