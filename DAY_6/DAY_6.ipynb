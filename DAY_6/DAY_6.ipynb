{
 "cells": [
  {
   "cell_type": "markdown",
   "id": "52dbebd1",
   "metadata": {},
   "source": [
    "# DAY 6"
   ]
  },
  {
   "cell_type": "markdown",
   "id": "adbed509",
   "metadata": {},
   "source": [
    "MAP"
   ]
  },
  {
   "cell_type": "code",
   "execution_count": null,
   "id": "e2c23d00",
   "metadata": {},
   "outputs": [],
   "source": [
    "# map, filter, reduce\n",
    "# first class function \n",
    "# function - modern design\n",
    "# func => assign variable\n",
    "# func => store in list,tuple,dictionary\n",
    "# func => dushre function as argument"
   ]
  },
  {
   "cell_type": "markdown",
   "id": "178816fc",
   "metadata": {},
   "source": [
    "first class as assigned to x variable"
   ]
  },
  {
   "cell_type": "code",
   "execution_count": null,
   "id": "4bc8f738",
   "metadata": {},
   "outputs": [
    {
     "name": "stdout",
     "output_type": "stream",
     "text": [
      "<function test at 0x000001D2DE9EAFC0>\n",
      "X =>  <function test at 0x000001D2DE9EAFC0>\n",
      "E3\n",
      "E3\n"
     ]
    },
    {
     "data": {
      "text/plain": [
       "100"
      ]
     },
     "execution_count": 3,
     "metadata": {},
     "output_type": "execute_result"
    }
   ],
   "source": [
    "def test ():\n",
    "    print(\"E3\")\n",
    "    return 100\n",
    "\n",
    "print(test)\n",
    "x=test # test is first class as assigned to x variable\n",
    "print(\"X => \",x) # \"test\" MEMEORY ADDRESS \"x\" STORE\n",
    "x() # call the function with x()\n",
    "test() # call the function with test()"
   ]
  },
  {
   "cell_type": "code",
   "execution_count": 5,
   "id": "bfb13e7f",
   "metadata": {},
   "outputs": [
    {
     "name": "stdout",
     "output_type": "stream",
     "text": [
      "<function test at 0x000001D2DEA34C20>\n",
      "inside function x=>  <function test at 0x000001D2DEA34C20>\n"
     ]
    }
   ],
   "source": [
    "def test():\n",
    "    print(\"SKJ!!\")\n",
    "\n",
    "def func(x): # x will have memory address of test function\n",
    "    print(\"inside function x=> \",x)\n",
    "\n",
    "out = test\n",
    "print(out)\n",
    "func(out)"
   ]
  },
  {
   "cell_type": "code",
   "execution_count": null,
   "id": "17b88ffc",
   "metadata": {},
   "outputs": [],
   "source": []
  }
 ],
 "metadata": {
  "kernelspec": {
   "display_name": "Python 3",
   "language": "python",
   "name": "python3"
  },
  "language_info": {
   "codemirror_mode": {
    "name": "ipython",
    "version": 3
   },
   "file_extension": ".py",
   "mimetype": "text/x-python",
   "name": "python",
   "nbconvert_exporter": "python",
   "pygments_lexer": "ipython3",
   "version": "3.13.2"
  }
 },
 "nbformat": 4,
 "nbformat_minor": 5
}
