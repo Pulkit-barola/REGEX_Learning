{
 "cells": [
  {
   "cell_type": "markdown",
   "id": "c901bc8b",
   "metadata": {},
   "source": [
    "# DATA ANALYTICS"
   ]
  },
  {
   "cell_type": "markdown",
   "id": "0cee3930",
   "metadata": {},
   "source": [
    "DATA ANALYTICS : DATA ANALYSES"
   ]
  },
  {
   "cell_type": "markdown",
   "id": "cec319dd",
   "metadata": {},
   "source": [
    "### DATA IN FORM OF :-\n",
    "1. JSON , DICTIONARY{}\n",
    "2. DATABASE\n",
    "3. CSV FILES\n",
    "4. PEN PAPER"
   ]
  },
  {
   "cell_type": "markdown",
   "id": "e9d1ba09",
   "metadata": {},
   "source": [
    "### DATA TRANSFORMATION :-\n",
    "1. DATA CLEANING\n",
    "2. DATA STORE\n",
    "2. DATA TRANSFORMATION\n",
    "3. DATA ANALYSIS\n",
    "4. DATA VISUALIZATION\n"
   ]
  },
  {
   "cell_type": "markdown",
   "id": "5500d776",
   "metadata": {},
   "source": [
    "### FLOW OF DATA ANALYTICS :-"
   ]
  },
  {
   "cell_type": "markdown",
   "id": "5458bbdd",
   "metadata": {},
   "source": [
    "=> PROBLEM SOLVING\n",
    "=> DOCUMENTATION CREATION\n",
    "=> DATA CLEANING\n",
    "=> DATA TRANSFORMATION\n",
    "=> DATA ANALYSIS\n",
    "=> MACHING LEARNING\n",
    "=> DATA VISUALIZATION"
   ]
  },
  {
   "cell_type": "markdown",
   "id": "7b7b2d93",
   "metadata": {},
   "source": [
    "# DATA PROCESSING AND DATA CLEANING PACKAGE"
   ]
  },
  {
   "cell_type": "markdown",
   "id": "6ac0489d",
   "metadata": {},
   "source": [
    "## NUMPY"
   ]
  },
  {
   "cell_type": "markdown",
   "id": "0a6f41fc",
   "metadata": {},
   "source": [
    "=> INBUILT PACKAGE FOR DATA PROCESSING \n",
    "=> NUMERICAL PYTHON => USED TO PERFORM MATHEMATICAL OPERATION"
   ]
  },
  {
   "cell_type": "code",
   "execution_count": 2,
   "id": "f4b0116d",
   "metadata": {},
   "outputs": [],
   "source": [
    "# NUMPY \n",
    "# NUMPY => ARRAY\n",
    "# CONTINUOUS MEMORY LOCATION MEMORY ADDRESS\n",
    "# ALL WHILE OF SAME DATATYPE\n",
    "# INT THEN ALL INT"
   ]
  },
  {
   "cell_type": "code",
   "execution_count": 4,
   "id": "9a6cff1e",
   "metadata": {},
   "outputs": [],
   "source": [
    "# NUMPY => IT IS USED TO SPEED UP THE MATHEMATICAL TASK ON MY DATA ( LIKE ADDITION ,SUBSTRACTION,...)\n",
    "# pip install numpy"
   ]
  },
  {
   "cell_type": "code",
   "execution_count": 1,
   "id": "4d128fe8",
   "metadata": {},
   "outputs": [
    {
     "name": "stdout",
     "output_type": "stream",
     "text": [
      "TYPE OF DATA => <class 'list'>\n",
      "TYPE OF ARR => <class 'numpy.ndarray'>\n"
     ]
    }
   ],
   "source": [
    "import numpy as np\n",
    "data =[10,20,30,40]\n",
    "arr=np.array(data)\n",
    "print(f\"TYPE OF DATA => {type (data)}\\nTYPE OF ARR => {type(arr)}\")"
   ]
  },
  {
   "cell_type": "markdown",
   "id": "a2cb751a",
   "metadata": {},
   "source": [
    "### DTYPE => SHOW THE DATA TYPE"
   ]
  },
  {
   "cell_type": "code",
   "execution_count": 10,
   "id": "66ce7522",
   "metadata": {},
   "outputs": [
    {
     "name": "stdout",
     "output_type": "stream",
     "text": [
      "TYPE OF DATA => <class 'list'>\n",
      "TYPE OF ARR => <class 'numpy.ndarray'>\n",
      "arr => [10.+0.j 20.+0.j 30.+0.j 40.+0.j]\n"
     ]
    }
   ],
   "source": [
    "arr=np.array(data,dtype='complex')\n",
    "print(f\"TYPE OF DATA => {type (data)}\\nTYPE OF ARR => {type(arr)}\\narr => {arr}\")"
   ]
  },
  {
   "cell_type": "code",
   "execution_count": 11,
   "id": "41b5044b",
   "metadata": {},
   "outputs": [
    {
     "name": "stdout",
     "output_type": "stream",
     "text": [
      "TYPE OF DATA => <class 'list'>\n",
      "TYPE OF ARR => <class 'numpy.ndarray'>\n",
      "arr => [10. 20. 30. 40.]\n"
     ]
    }
   ],
   "source": [
    "arr=np.array(data,dtype='float')\n",
    "print(f\"TYPE OF DATA => {type (data)}\\nTYPE OF ARR => {type(arr)}\\narr => {arr}\")"
   ]
  },
  {
   "cell_type": "markdown",
   "id": "d26fe957",
   "metadata": {},
   "source": [
    "### ACCESSING DATA IN NUMPY"
   ]
  },
  {
   "cell_type": "code",
   "execution_count": null,
   "id": "8f29671f",
   "metadata": {},
   "outputs": [],
   "source": [
    "# [[4,5][45,56]]\n",
    "# => TO ACCESS 4 => [1][0]\n"
   ]
  },
  {
   "cell_type": "markdown",
   "id": "41b5c943",
   "metadata": {},
   "source": [
    "### ARRAY SHAPE"
   ]
  },
  {
   "cell_type": "code",
   "execution_count": 14,
   "id": "9c4401e7",
   "metadata": {},
   "outputs": [
    {
     "name": "stdout",
     "output_type": "stream",
     "text": [
      "(4,)\n"
     ]
    }
   ],
   "source": [
    "data =[2,3,4,5]\n",
    "arr=np.array(data)\n",
    "print(arr.shape)"
   ]
  },
  {
   "cell_type": "markdown",
   "id": "43bdba61",
   "metadata": {},
   "source": [
    "### 2D ARRAY"
   ]
  },
  {
   "cell_type": "code",
   "execution_count": null,
   "id": "2c93ecda",
   "metadata": {},
   "outputs": [
    {
     "name": "stdout",
     "output_type": "stream",
     "text": [
      "(2, 4)\n"
     ]
    }
   ],
   "source": [
    "data =[[2,3,4,5],[34,43,66,87]]\n",
    "arr=np.array(data)\n",
    "print(arr.shape)"
   ]
  },
  {
   "cell_type": "markdown",
   "id": "24b9aa41",
   "metadata": {},
   "source": [
    "### ASTYPE => DATA TYPE CHANGE"
   ]
  },
  {
   "cell_type": "code",
   "execution_count": 26,
   "id": "3eb7b69c",
   "metadata": {},
   "outputs": [
    {
     "name": "stdout",
     "output_type": "stream",
     "text": [
      "(2, 4)\n",
      "<class 'numpy.ndarray'>\n",
      "<class 'numpy.ndarray'>\n",
      "[[ 2.  3.  4.  5.]\n",
      " [34. 43. 66. 87.]]\n"
     ]
    }
   ],
   "source": [
    "import numpy as np\n",
    "data =[[2,3,4,5],[34,43,66,87]]\n",
    "arr=np.array(data)\n",
    "print(arr.shape)\n",
    "print(type(arr))\n",
    "np=arr.astype(np.float32)\n",
    "print(type(arr))\n",
    "print(np)"
   ]
  },
  {
   "cell_type": "code",
   "execution_count": 34,
   "id": "ae51bded",
   "metadata": {},
   "outputs": [
    {
     "name": "stdout",
     "output_type": "stream",
     "text": [
      "[0 1 2 3 4 5]\n"
     ]
    }
   ],
   "source": [
    "import numpy as np\n",
    "data =[[2,3,4,5],[34,43,66,87]]\n",
    "arr=np.array(data)\n",
    "arr=np.arange(6)\n",
    "print(arr)"
   ]
  },
  {
   "cell_type": "code",
   "execution_count": 35,
   "id": "0f7ce5cb",
   "metadata": {},
   "outputs": [
    {
     "name": "stdout",
     "output_type": "stream",
     "text": [
      "<function shape at 0x00000241F3134860>\n"
     ]
    }
   ],
   "source": [
    "import numpy as np\n",
    "data =[[2,3,4,5],[34,43,66,87]]\n",
    "arr=np.array(data)\n",
    "arr=np.shape\n",
    "print(arr)"
   ]
  },
  {
   "cell_type": "markdown",
   "id": "1ea93930",
   "metadata": {},
   "source": [
    "### ZERO FUNCTION IN NUMPY"
   ]
  },
  {
   "cell_type": "code",
   "execution_count": 28,
   "id": "af283cdd",
   "metadata": {},
   "outputs": [
    {
     "name": "stdout",
     "output_type": "stream",
     "text": [
      "[0. 0. 0. 0.]\n"
     ]
    }
   ],
   "source": [
    "import numpy as np\n",
    "arr1=np.zeros(4)\n",
    "print(arr1)"
   ]
  },
  {
   "cell_type": "code",
   "execution_count": 47,
   "id": "78aaea9d",
   "metadata": {},
   "outputs": [
    {
     "name": "stdout",
     "output_type": "stream",
     "text": [
      "[[0. 0.]\n",
      " [0. 0.]]\n"
     ]
    }
   ],
   "source": [
    "import numpy as np\n",
    "arr3=np.zeros(4)\n",
    "arr3=arr3.reshape(2,2)\n",
    "print(arr3)"
   ]
  },
  {
   "cell_type": "code",
   "execution_count": 30,
   "id": "4e3ee101",
   "metadata": {},
   "outputs": [
    {
     "name": "stdout",
     "output_type": "stream",
     "text": [
      "[1. 1. 1. 1.]\n"
     ]
    }
   ],
   "source": [
    "import numpy as np\n",
    "arr2=np.ones(4)\n",
    "print(arr2)"
   ]
  },
  {
   "cell_type": "code",
   "execution_count": 53,
   "id": "317c0fec",
   "metadata": {},
   "outputs": [
    {
     "name": "stdout",
     "output_type": "stream",
     "text": [
      "[4. 4. 4. 4. 4.]\n"
     ]
    }
   ],
   "source": [
    "import numpy as np\n",
    "arr=np.full(5,4,float)\n",
    "print(arr)"
   ]
  },
  {
   "cell_type": "markdown",
   "id": "7383d8df",
   "metadata": {},
   "source": [
    "### EMPTY IN NUMPY"
   ]
  },
  {
   "cell_type": "code",
   "execution_count": 54,
   "id": "bf91477d",
   "metadata": {},
   "outputs": [
    {
     "name": "stdout",
     "output_type": "stream",
     "text": [
      "[4. 4. 4. 4. 4.]\n"
     ]
    }
   ],
   "source": [
    "import numpy as np\n",
    "arr=np.empty(5)\n",
    "print(arr)"
   ]
  },
  {
   "cell_type": "markdown",
   "id": "9070a9f2",
   "metadata": {},
   "source": [
    "### CHEACK WHICH IS FAST "
   ]
  },
  {
   "cell_type": "markdown",
   "id": "16e769e6",
   "metadata": {},
   "source": [
    "#### NUMPY VS ARRAY"
   ]
  },
  {
   "cell_type": "code",
   "execution_count": null,
   "id": "4c9a2bba",
   "metadata": {},
   "outputs": [],
   "source": [
    "# [10,20]*2\n",
    "for in range (4):\n",
    "    "
   ]
  },
  {
   "cell_type": "code",
   "execution_count": 61,
   "id": "7caf605e",
   "metadata": {},
   "outputs": [],
   "source": [
    "a=list(range(10000))\n",
    "arr=np.arange(10000)\n",
    "\n"
   ]
  },
  {
   "cell_type": "markdown",
   "id": "3c86cb1f",
   "metadata": {},
   "source": [
    "### CHECK USING TIME"
   ]
  },
  {
   "cell_type": "code",
   "execution_count": 67,
   "id": "89847033",
   "metadata": {},
   "outputs": [
    {
     "name": "stdout",
     "output_type": "stream",
     "text": [
      "46.7 ms ± 2.51 ms per loop (mean ± std. dev. of 7 runs, 10 loops each)\n",
      "<class 'list'>\n"
     ]
    }
   ],
   "source": [
    "%timeit for _ in range (1000): a2=a*2\n",
    "print(type(a))"
   ]
  },
  {
   "cell_type": "code",
   "execution_count": 68,
   "id": "0119e24e",
   "metadata": {},
   "outputs": [
    {
     "name": "stdout",
     "output_type": "stream",
     "text": [
      "6.35 ms ± 346 μs per loop (mean ± std. dev. of 7 runs, 100 loops each)\n",
      "<class 'numpy.ndarray'>\n"
     ]
    }
   ],
   "source": [
    "%timeit for _ in range (1000): arr2=arr*2\n",
    "print(type(arr2))"
   ]
  },
  {
   "cell_type": "markdown",
   "id": "31fd04af",
   "metadata": {},
   "source": [
    "### ADD IN DATA IN NUMPY"
   ]
  },
  {
   "cell_type": "code",
   "execution_count": 64,
   "id": "468ffc2e",
   "metadata": {},
   "outputs": [
    {
     "data": {
      "text/plain": [
       "np.int64(12)"
      ]
     },
     "execution_count": 64,
     "metadata": {},
     "output_type": "execute_result"
    }
   ],
   "source": [
    "arr1=np.array(4)\n",
    "arr1+8"
   ]
  },
  {
   "cell_type": "markdown",
   "id": "5077dbb4",
   "metadata": {},
   "source": []
  },
  {
   "cell_type": "code",
   "execution_count": 94,
   "id": "ce048ed4",
   "metadata": {},
   "outputs": [
    {
     "name": "stdout",
     "output_type": "stream",
     "text": [
      "[[ 0  1  2  3]\n",
      " [ 4  5  6  7]\n",
      " [ 8  9 10 11]\n",
      " [12 13 14 15]]\n",
      "print 1 and 2 [[4 5 6 7]]\n",
      "print 9 and 10 [ 9 10]\n",
      "print [0,4][2,6] and 10 [[0 2]\n",
      " [4 6]]\n"
     ]
    }
   ],
   "source": [
    "import numpy as np\n",
    "arr=np.arange(16).reshape(4,4)\n",
    "print(arr)\n",
    "print(\"print 1 and 2\",arr[1:2])\n",
    "print (\"print 9 and 10\",arr[2,1:3])\n",
    "print (\"print [0,4][2,6] and 10\",arr[0:2,0:3:2])"
   ]
  },
  {
   "cell_type": "markdown",
   "id": "9b344428",
   "metadata": {},
   "source": [
    "### SCALER IN NUMPY"
   ]
  },
  {
   "cell_type": "markdown",
   "id": "3284eca9",
   "metadata": {},
   "source": [
    "A=5"
   ]
  },
  {
   "cell_type": "code",
   "execution_count": 95,
   "id": "29ad4928",
   "metadata": {},
   "outputs": [
    {
     "name": "stdout",
     "output_type": "stream",
     "text": [
      "Scalar: 5\n",
      "Add 3: 8\n",
      "Multiply by 2: 10\n",
      "Square root: 2.23606797749979\n",
      "Power (scalar^2): 25\n"
     ]
    }
   ],
   "source": [
    "import numpy as np\n",
    "\n",
    "# Scalar\n",
    "scalar = np.array(5)\n",
    "print(\"Scalar:\", scalar)\n",
    "\n",
    "# Functions\n",
    "print(\"Add 3:\", np.add(scalar, 3))\n",
    "print(\"Multiply by 2:\", np.multiply(scalar, 2))\n",
    "print(\"Square root:\", np.sqrt(scalar))\n",
    "print(\"Power (scalar^2):\", np.power(scalar, 2))"
   ]
  },
  {
   "cell_type": "markdown",
   "id": "cf4b0de6",
   "metadata": {},
   "source": [
    "### VECTOR IN NUMPY"
   ]
  },
  {
   "cell_type": "markdown",
   "id": "e7445e6b",
   "metadata": {},
   "source": [
    "1 D ARRAY"
   ]
  },
  {
   "cell_type": "code",
   "execution_count": 96,
   "id": "1587b40f",
   "metadata": {},
   "outputs": [
    {
     "name": "stdout",
     "output_type": "stream",
     "text": [
      "Vector: [1 2 3 4]\n",
      "Sum: 10\n",
      "Mean: 2.5\n",
      "Standard Deviation: 1.118033988749895\n",
      "Max: 4\n",
      "Min: 1\n",
      "Sorted: [1 2 3 4]\n",
      "Cumulative Sum: [ 1  3  6 10]\n",
      "Square of each element: [ 1  4  9 16]\n",
      "Sine of each element: [ 0.84147098  0.90929743  0.14112001 -0.7568025 ]\n",
      "Reshape to column vector:\n",
      " [[1]\n",
      " [2]\n",
      " [3]\n",
      " [4]]\n"
     ]
    }
   ],
   "source": [
    "vector = np.array([1, 2, 3, 4])\n",
    "print(\"Vector:\", vector)\n",
    "print(\"Sum:\", np.sum(vector))\n",
    "print(\"Mean:\", np.mean(vector))\n",
    "print(\"Standard Deviation:\", np.std(vector))\n",
    "print(\"Max:\", np.max(vector))\n",
    "print(\"Min:\", np.min(vector))\n",
    "print(\"Sorted:\", np.sort(vector))\n",
    "print(\"Cumulative Sum:\", np.cumsum(vector))\n",
    "print(\"Square of each element:\", np.square(vector))\n",
    "print(\"Sine of each element:\", np.sin(vector))\n",
    "print(\"Reshape to column vector:\\n\", vector.reshape(-1, 1))\n"
   ]
  },
  {
   "cell_type": "markdown",
   "id": "eaa4d274",
   "metadata": {},
   "source": [
    "### ROW VECTOR"
   ]
  },
  {
   "cell_type": "markdown",
   "id": "19b0821a",
   "metadata": {},
   "source": [
    "1 ROW MULTIPLY COLUMN => (1 X n)"
   ]
  },
  {
   "cell_type": "code",
   "execution_count": 99,
   "id": "245cd4be",
   "metadata": {},
   "outputs": [
    {
     "name": "stdout",
     "output_type": "stream",
     "text": [
      "Row Vector: [[1 2 3]]\n",
      "SHAPE =>  (1, 3)\n"
     ]
    }
   ],
   "source": [
    "import numpy as np\n",
    "row_vector = np.array([[1, 2, 3]])\n",
    "print(\"Row Vector:\", row_vector)\n",
    "print(\"SHAPE => \",row_vector.shape)  # Output: (1, 3)"
   ]
  },
  {
   "cell_type": "markdown",
   "id": "9ffae5a6",
   "metadata": {},
   "source": [
    "### COLUMN VECTOR"
   ]
  },
  {
   "cell_type": "markdown",
   "id": "fd4d6476",
   "metadata": {},
   "source": [
    "1 COLUMN MULTIPLE ROWS => (n X 1)"
   ]
  },
  {
   "cell_type": "code",
   "execution_count": 101,
   "id": "77ddf5b1",
   "metadata": {},
   "outputs": [
    {
     "name": "stdout",
     "output_type": "stream",
     "text": [
      "Column Vector:\n",
      " [[1]\n",
      " [2]\n",
      " [3]]\n",
      "SHAPE =>  (3, 1)\n"
     ]
    }
   ],
   "source": [
    "import numpy as np\n",
    "column_vector = np.array([[1], [2], [3]])\n",
    "print(\"Column Vector:\\n\", column_vector)\n",
    "print(\"SHAPE => \",column_vector.shape) \n"
   ]
  },
  {
   "cell_type": "markdown",
   "id": "9a48fb7f",
   "metadata": {},
   "source": [
    "### CONVERT ROW TO COLUMN & COLUMN TO ROW"
   ]
  },
  {
   "cell_type": "code",
   "execution_count": 106,
   "id": "2063bd80",
   "metadata": {},
   "outputs": [],
   "source": [
    "# Row to Column\n",
    "col = row_vector.T\n",
    "\n",
    "# Column to Row\n",
    "row = column_vector.T\n"
   ]
  },
  {
   "cell_type": "code",
   "execution_count": 103,
   "id": "7bbb5e5a",
   "metadata": {},
   "outputs": [
    {
     "name": "stdout",
     "output_type": "stream",
     "text": [
      "[[1]\n",
      " [2]\n",
      " [3]]\n",
      "[[1 2 3]]\n"
     ]
    }
   ],
   "source": [
    "print(col)\n",
    "print(row)"
   ]
  },
  {
   "cell_type": "markdown",
   "id": "e92c5015",
   "metadata": {},
   "source": [
    "### MATRIX"
   ]
  },
  {
   "cell_type": "code",
   "execution_count": null,
   "id": "4b853760",
   "metadata": {},
   "outputs": [
    {
     "name": "stdout",
     "output_type": "stream",
     "text": [
      "Matrix:\n",
      " [[1 2]\n",
      " [3 4]]\n",
      "Shape: (2, 2)\n",
      "Transpose:\n",
      " [[1 3]\n",
      " [2 4]]\n",
      "Sum along columns: [4 6]\n",
      "Sum along rows: [3 7]\n",
      "Second Matrix:\n",
      " [[5 6]\n",
      " [7 8]]\n",
      "Matrix Dot Product:\n",
      " [[19 22]\n",
      " [43 50]]\n",
      "Inverse:\n",
      " [[-2.   1. ]\n",
      " [ 1.5 -0.5]]\n",
      "Determinant: -2.0000000000000004\n",
      "Eigenvalues: [-0.37228132  5.37228132]\n",
      "Eigenvectors:\n",
      " [[-0.82456484 -0.41597356]\n",
      " [ 0.56576746 -0.90937671]]\n",
      "Flattened Matrix: [1 2 3 4]\n"
     ]
    }
   ],
   "source": [
    "matrix = np.array([[1, 2], [3, 4]])\n",
    "print(\"Matrix:\\n\", matrix)\n",
    "# Basic Stats\n",
    "print(\"Shape:\", matrix.shape)\n",
    "print(\"Transpose:\\n\", matrix.T)\n",
    "print(\"Sum along columns:\", np.sum(matrix, axis=0))\n",
    "print(\"Sum along rows:\", np.sum(matrix, axis=1))\n",
    "\n",
    "# Matrix Multiplication\n",
    "mat2 = np.array([[5, 6], [7, 8]])\n",
    "print(\"Second Matrix:\\n\", mat2)\n",
    "print(\"Matrix Dot Product:\\n\", np.dot(matrix, mat2))\n",
    "\n",
    "# Inverse (only for square matrix)\n",
    "print(\"Inverse:\\n\", np.linalg.inv(matrix))\n",
    "\n",
    "# Determinant\n",
    "print(\"Determinant:\", np.linalg.det(matrix))\n",
    "\n",
    "# Eigenvalues and Eigenvectors\n",
    "eigvals, eigvecs = np.linalg.eig(matrix)\n",
    "print(\"Eigenvalues:\", eigvals)\n",
    "print(\"Eigenvectors:\\n\", eigvecs)\n",
    "\n",
    "# Flatten\n",
    "print(\"Flattened Matrix:\", matrix.flatten())\n"
   ]
  },
  {
   "cell_type": "code",
   "execution_count": 104,
   "id": "a02d34b4",
   "metadata": {},
   "outputs": [],
   "source": [
    "# HOMEWORK => TRANPOSE, RESHAPE, MOVEAXIS,CREATING 3D MATRIX"
   ]
  },
  {
   "cell_type": "code",
   "execution_count": 110,
   "id": "7a583a18",
   "metadata": {},
   "outputs": [
    {
     "name": "stderr",
     "output_type": "stream",
     "text": [
      "<>:1: SyntaxWarning: list indices must be integers or slices, not tuple; perhaps you missed a comma?\n",
      "<>:1: SyntaxWarning: list indices must be integers or slices, not tuple; perhaps you missed a comma?\n",
      "<>:1: SyntaxWarning: list indices must be integers or slices, not tuple; perhaps you missed a comma?\n",
      "<>:1: SyntaxWarning: list indices must be integers or slices, not tuple; perhaps you missed a comma?\n",
      "<>:1: SyntaxWarning: list indices must be integers or slices, not tuple; perhaps you missed a comma?\n",
      "<>:1: SyntaxWarning: list indices must be integers or slices, not tuple; perhaps you missed a comma?\n",
      "C:\\Users\\Dell\\AppData\\Local\\Temp\\ipykernel_31116\\2354105841.py:1: SyntaxWarning: list indices must be integers or slices, not tuple; perhaps you missed a comma?\n",
      "  matrix = np.array([[1, 2,4][3,4,5][5,6,6], [3, 6,4][4,6,5][6,7],[2,7,4][5,9,4][7,8,9]])\n",
      "C:\\Users\\Dell\\AppData\\Local\\Temp\\ipykernel_31116\\2354105841.py:1: SyntaxWarning: list indices must be integers or slices, not tuple; perhaps you missed a comma?\n",
      "  matrix = np.array([[1, 2,4][3,4,5][5,6,6], [3, 6,4][4,6,5][6,7],[2,7,4][5,9,4][7,8,9]])\n",
      "C:\\Users\\Dell\\AppData\\Local\\Temp\\ipykernel_31116\\2354105841.py:1: SyntaxWarning: list indices must be integers or slices, not tuple; perhaps you missed a comma?\n",
      "  matrix = np.array([[1, 2,4][3,4,5][5,6,6], [3, 6,4][4,6,5][6,7],[2,7,4][5,9,4][7,8,9]])\n"
     ]
    },
    {
     "ename": "TypeError",
     "evalue": "list indices must be integers or slices, not tuple",
     "output_type": "error",
     "traceback": [
      "\u001b[31m---------------------------------------------------------------------------\u001b[39m",
      "\u001b[31mTypeError\u001b[39m                                 Traceback (most recent call last)",
      "\u001b[36mCell\u001b[39m\u001b[36m \u001b[39m\u001b[32mIn[110]\u001b[39m\u001b[32m, line 1\u001b[39m\n\u001b[32m----> \u001b[39m\u001b[32m1\u001b[39m matrix = np.array([\u001b[43m[\u001b[49m\u001b[32;43m1\u001b[39;49m\u001b[43m,\u001b[49m\u001b[43m \u001b[49m\u001b[32;43m2\u001b[39;49m\u001b[43m,\u001b[49m\u001b[32;43m4\u001b[39;49m\u001b[43m]\u001b[49m\u001b[43m[\u001b[49m\u001b[32;43m3\u001b[39;49m\u001b[43m,\u001b[49m\u001b[32;43m4\u001b[39;49m\u001b[43m,\u001b[49m\u001b[32;43m5\u001b[39;49m\u001b[43m]\u001b[49m[\u001b[32m5\u001b[39m,\u001b[32m6\u001b[39m,\u001b[32m6\u001b[39m], [\u001b[32m3\u001b[39m, \u001b[32m6\u001b[39m,\u001b[32m4\u001b[39m][\u001b[32m4\u001b[39m,\u001b[32m6\u001b[39m,\u001b[32m5\u001b[39m][\u001b[32m6\u001b[39m,\u001b[32m7\u001b[39m],[\u001b[32m2\u001b[39m,\u001b[32m7\u001b[39m,\u001b[32m4\u001b[39m][\u001b[32m5\u001b[39m,\u001b[32m9\u001b[39m,\u001b[32m4\u001b[39m][\u001b[32m7\u001b[39m,\u001b[32m8\u001b[39m,\u001b[32m9\u001b[39m]])\n\u001b[32m      2\u001b[39m \u001b[38;5;28mprint\u001b[39m(\u001b[33m\"\u001b[39m\u001b[33mMatrix:\u001b[39m\u001b[38;5;130;01m\\n\u001b[39;00m\u001b[33m\"\u001b[39m, matrix)\n",
      "\u001b[31mTypeError\u001b[39m: list indices must be integers or slices, not tuple"
     ]
    }
   ],
   "source": [
    "matrix = np.array([[1, 2,4][3,4,5][5,6,6], [3, 6,4][4,6,5][6,7],[2,7,4][5,9,4][7,8,9]])\n",
    "print(\"Matrix:\\n\", matrix)\n"
   ]
  },
  {
   "cell_type": "markdown",
   "id": "58d8d8ac",
   "metadata": {},
   "source": [
    "# EDA"
   ]
  },
  {
   "cell_type": "markdown",
   "id": "8b628d4a",
   "metadata": {},
   "source": [
    "EXPLORATORY DATA ANALYSIS"
   ]
  },
  {
   "cell_type": "markdown",
   "id": "141d878a",
   "metadata": {},
   "source": [
    "PANDAS, MATPLOTLIB"
   ]
  },
  {
   "cell_type": "code",
   "execution_count": null,
   "id": "b326db57",
   "metadata": {},
   "outputs": [],
   "source": []
  }
 ],
 "metadata": {
  "kernelspec": {
   "display_name": "Python 3",
   "language": "python",
   "name": "python3"
  },
  "language_info": {
   "codemirror_mode": {
    "name": "ipython",
    "version": 3
   },
   "file_extension": ".py",
   "mimetype": "text/x-python",
   "name": "python",
   "nbconvert_exporter": "python",
   "pygments_lexer": "ipython3",
   "version": "3.13.2"
  }
 },
 "nbformat": 4,
 "nbformat_minor": 5
}
