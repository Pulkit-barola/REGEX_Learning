{
 "cells": [
  {
   "cell_type": "markdown",
   "id": "c901bc8b",
   "metadata": {},
   "source": [
    "# DATA ANALYTICS"
   ]
  },
  {
   "cell_type": "markdown",
   "id": "0cee3930",
   "metadata": {},
   "source": [
    "DATA ANALYTICS : DATA ANALYSES"
   ]
  },
  {
   "cell_type": "markdown",
   "id": "cec319dd",
   "metadata": {},
   "source": [
    "### DATA IN FORM OF :-\n",
    "1. JSON , DICTIONARY{}\n",
    "2. DATABASE\n",
    "3. CSV FILES\n",
    "4. PEN PAPER"
   ]
  },
  {
   "cell_type": "markdown",
   "id": "e9d1ba09",
   "metadata": {},
   "source": [
    "### DATA TRANSFORMATION :-\n",
    "1. DATA CLEANING\n",
    "2. DATA STORE\n",
    "2. DATA TRANSFORMATION\n",
    "3. DATA ANALYSIS\n",
    "4. DATA VISUALIZATION\n"
   ]
  },
  {
   "cell_type": "markdown",
   "id": "5500d776",
   "metadata": {},
   "source": [
    "### FLOW OF DATA ANALYTICS :-"
   ]
  },
  {
   "cell_type": "markdown",
   "id": "5458bbdd",
   "metadata": {},
   "source": [
    "=> PROBLEM SOLVING\n",
    "=> DOCUMENTATION CREATION\n",
    "=> DATA CLEANING\n",
    "=> DATA TRANSFORMATION\n",
    "=> DATA ANALYSIS\n",
    "=> MACHING LEARNING\n",
    "=> DATA VISUALIZATION"
   ]
  },
  {
   "cell_type": "code",
   "execution_count": null,
   "id": "f4b0116d",
   "metadata": {},
   "outputs": [],
   "source": []
  }
 ],
 "metadata": {
  "kernelspec": {
   "display_name": "Python 3",
   "language": "python",
   "name": "python3"
  },
  "language_info": {
   "name": "python",
   "version": "3.13.2"
  }
 },
 "nbformat": 4,
 "nbformat_minor": 5
}
