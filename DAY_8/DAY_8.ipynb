{
 "cells": [
  {
   "cell_type": "markdown",
   "id": "63c30091",
   "metadata": {},
   "source": [
    "# DAY 8"
   ]
  },
  {
   "cell_type": "markdown",
   "id": "b131de1e",
   "metadata": {},
   "source": [
    "## PANDAS"
   ]
  },
  {
   "cell_type": "markdown",
   "id": "5445928d",
   "metadata": {},
   "source": [
    "=> USE TO CLEAN AND TRANSFORM DATA"
   ]
  },
  {
   "cell_type": "markdown",
   "id": "56243d28",
   "metadata": {},
   "source": [
    "=> POWERFUL -> BUILD UPON NUMPY"
   ]
  },
  {
   "cell_type": "markdown",
   "id": "91832379",
   "metadata": {},
   "source": [
    "=> STRUCTURE FORMAT OF DATA"
   ]
  },
  {
   "cell_type": "markdown",
   "id": "9f3c47dc",
   "metadata": {},
   "source": [
    "=> ROWS AND COLUMNS"
   ]
  },
  {
   "cell_type": "markdown",
   "id": "a2584cb1",
   "metadata": {},
   "source": [
    "=> DATAFRAME -> SERIES OF COMBINATION "
   ]
  },
  {
   "cell_type": "markdown",
   "id": "debd9a7e",
   "metadata": {},
   "source": [
    "=> SERIES : 1 COLUMN [VECTOR] -> 1D ARRAY"
   ]
  },
  {
   "cell_type": "code",
   "execution_count": 4,
   "id": "ee1c91a8",
   "metadata": {},
   "outputs": [],
   "source": [
    "import pandas as pd"
   ]
  },
  {
   "cell_type": "code",
   "execution_count": null,
   "id": "64efe252",
   "metadata": {},
   "outputs": [
    {
     "data": {
      "text/plain": [
       "0    10\n",
       "1    20\n",
       "2    30\n",
       "3    40\n",
       "dtype: int64"
      ]
     },
     "execution_count": 5,
     "metadata": {},
     "output_type": "execute_result"
    }
   ],
   "source": [
    "pd.Series([10,20,30,70])"
   ]
  },
  {
   "cell_type": "code",
   "execution_count": 7,
   "id": "800be671",
   "metadata": {},
   "outputs": [
    {
     "name": "stdout",
     "output_type": "stream",
     "text": [
      "0    1\n",
      "1    2\n",
      "2    3\n",
      "3    4\n",
      "dtype: int64\n"
     ]
    }
   ],
   "source": [
    "import pandas as pd\n",
    "markSeries = pd.Series([1, 2, 3, 4])\n",
    "print(markSeries)"
   ]
  },
  {
   "cell_type": "code",
   "execution_count": 8,
   "id": "dbeaa42c",
   "metadata": {},
   "outputs": [],
   "source": [
    "# import pandas as pd\n",
    "# s = pd.Series([1, 2, 3, 4])\n",
    "# print(s)\n",
    "# s.index         # Get index\n",
    "# s.dtype         # Data type\n",
    "# s.shape         # Shape (number of elements,)\n",
    "# s.size          # Total number of elements\n",
    "# s.name          # Name of the Series\n",
    "# s.values        # Numpy array of values"
   ]
  },
  {
   "cell_type": "code",
   "execution_count": 10,
   "id": "e4c7a585",
   "metadata": {},
   "outputs": [
    {
     "name": "stdout",
     "output_type": "stream",
     "text": [
      "0      10\n",
      "1    20.1\n",
      "2      30\n",
      "3      70\n",
      "dtype: object\n",
      "RangeIndex(start=0, stop=4, step=1)\n"
     ]
    }
   ],
   "source": [
    "# \"20\"=> object datatype or non-numerical datatype\n",
    "import pandas as pd\n",
    "markSeries= pd.Series([10,20.1,\"30\",70])\n",
    "print(markSeries)\n",
    "print(markSeries.index)"
   ]
  },
  {
   "cell_type": "markdown",
   "id": "0943eb1d",
   "metadata": {},
   "source": [
    "#### INDEX CHANGE IN PANDAS"
   ]
  },
  {
   "cell_type": "code",
   "execution_count": 11,
   "id": "68a2f847",
   "metadata": {},
   "outputs": [
    {
     "name": "stdout",
     "output_type": "stream",
     "text": [
      "A      10\n",
      "B    20.1\n",
      "C      30\n",
      "D      70\n",
      "dtype: object\n",
      "30\n"
     ]
    }
   ],
   "source": [
    "import pandas as pd\n",
    "markSeries= pd.Series([10,20.1,\"30\",70],index=[\"A\",\"B\",\"C\",\"D\"])\n",
    "print(markSeries)\n",
    "print(markSeries[\"C\"])"
   ]
  },
  {
   "cell_type": "markdown",
   "id": "850c2ff7",
   "metadata": {},
   "source": [
    "#### IF INDEX SAME IN PANDAS"
   ]
  },
  {
   "cell_type": "code",
   "execution_count": 15,
   "id": "3d7f1ad7",
   "metadata": {},
   "outputs": [
    {
     "name": "stdout",
     "output_type": "stream",
     "text": [
      "A      10\n",
      "B    20.1\n",
      "A      30\n",
      "D      70\n",
      "dtype: object\n",
      "A    10\n",
      "A    30\n",
      "dtype: object\n"
     ]
    }
   ],
   "source": [
    "import pandas as pd\n",
    "markSeries= pd.Series([10,20.1,\"30\",70],index=[\"A\",\"B\",\"A\",\"D\"])\n",
    "print(markSeries)\n",
    "print(markSeries[\"A\"])"
   ]
  },
  {
   "cell_type": "markdown",
   "id": "b2a3b63f",
   "metadata": {},
   "source": [
    "#### CHANGING VALUE USING INDEX"
   ]
  },
  {
   "cell_type": "code",
   "execution_count": 13,
   "id": "7b3ccb69",
   "metadata": {},
   "outputs": [
    {
     "name": "stdout",
     "output_type": "stream",
     "text": [
      "A    10\n",
      "B    20\n",
      "C    30\n",
      "D    70\n",
      "dtype: int64\n",
      "A    900\n",
      "B     20\n",
      "C     30\n",
      "D     70\n",
      "dtype: int64\n"
     ]
    }
   ],
   "source": [
    "import pandas as pd\n",
    "markSeries= pd.Series([10,20,30,70],index=[\"A\",\"B\",\"C\",\"D\"])\n",
    "print(markSeries)\n",
    "markSeries[\"A\"]=900\n",
    "print(markSeries)"
   ]
  },
  {
   "cell_type": "markdown",
   "id": "4124f322",
   "metadata": {},
   "source": [
    "#### keyvalue or dictionary convertion"
   ]
  },
  {
   "cell_type": "code",
   "execution_count": 19,
   "id": "4601fabf",
   "metadata": {},
   "outputs": [
    {
     "name": "stdout",
     "output_type": "stream",
     "text": [
      "A    10\n",
      "B    20\n",
      "C    30\n",
      "D    70\n",
      "dtype: int64\n",
      "{'A': 10, 'B': 20, 'C': 30, 'D': 70}\n"
     ]
    }
   ],
   "source": [
    "import pandas as pd\n",
    "markSeries= pd.Series([10,20,30,70],index=[\"A\",\"B\",\"C\",\"D\"])\n",
    "print(markSeries)\n",
    "new_markSeries=markSeries.to_dict()\n",
    "print(new_markSeries)\n"
   ]
  },
  {
   "cell_type": "markdown",
   "id": "0b8847c7",
   "metadata": {},
   "source": [
    "#### Descriptive Statistics in PANDAS"
   ]
  },
  {
   "cell_type": "code",
   "execution_count": 20,
   "id": "869b24af",
   "metadata": {},
   "outputs": [],
   "source": [
    "# s.mean()        # Average\n",
    "# s.median()      # Median\n",
    "# s.mode()        # Mode\n",
    "# s.std()         # Standard deviation\n",
    "# s.var()         # Variance\n",
    "# s.min()         # Minimum\n",
    "# s.max()         # Maximum\n",
    "# s.sum()         # Sum\n",
    "# s.count()       # Count non-NA values\n",
    "# s.describe()    # Summary stats"
   ]
  },
  {
   "cell_type": "code",
   "execution_count": 24,
   "id": "b54ef3f2",
   "metadata": {},
   "outputs": [
    {
     "name": "stdout",
     "output_type": "stream",
     "text": [
      "<bound method Series.idxmax of A    10\n",
      "B    20\n",
      "C    30\n",
      "D    70\n",
      "dtype: int64>\n",
      "<bound method Series.min of A    10\n",
      "B    20\n",
      "C    30\n",
      "D    70\n",
      "dtype: int64>\n"
     ]
    }
   ],
   "source": [
    "import pandas as pd\n",
    "markSeries= pd.Series([10,20,30,70],index=[\"A\",\"B\",\"C\",\"D\"])\n",
    "print(markSeries.idxmax)\n",
    "print(markSeries.min)"
   ]
  },
  {
   "cell_type": "markdown",
   "id": "7363672d",
   "metadata": {},
   "source": [
    "#### VALUE COUNT"
   ]
  },
  {
   "cell_type": "code",
   "execution_count": 25,
   "id": "594e9faf",
   "metadata": {},
   "outputs": [
    {
     "name": "stdout",
     "output_type": "stream",
     "text": [
      "10    1\n",
      "20    1\n",
      "30    1\n",
      "70    1\n",
      "Name: count, dtype: int64\n"
     ]
    }
   ],
   "source": [
    "import pandas as pd\n",
    "markSeries= pd.Series([10,20,30,70],index=[\"A\",\"B\",\"C\",\"D\"])\n",
    "print(markSeries.value_counts())"
   ]
  },
  {
   "cell_type": "markdown",
   "id": "5d00ed6c",
   "metadata": {},
   "source": [
    "#### TO MAKE SORTING IN DESCENDING ORDER"
   ]
  },
  {
   "cell_type": "code",
   "execution_count": 28,
   "id": "a382c336",
   "metadata": {},
   "outputs": [
    {
     "name": "stdout",
     "output_type": "stream",
     "text": [
      "D    70\n",
      "C    30\n",
      "B    90\n",
      "A    10\n",
      "dtype: int64\n"
     ]
    }
   ],
   "source": [
    "import pandas as pd\n",
    "markSeries= pd.Series([10,90,30,70],index=[\"A\",\"B\",\"C\",\"D\"])\n",
    "p= markSeries.sort_index(ascending=False)\n",
    "print(p)"
   ]
  },
  {
   "cell_type": "code",
   "execution_count": 30,
   "id": "0144e89b",
   "metadata": {},
   "outputs": [
    {
     "name": "stdout",
     "output_type": "stream",
     "text": [
      "B    90\n",
      "D    70\n",
      "C    30\n",
      "A    10\n",
      "dtype: int64\n"
     ]
    }
   ],
   "source": [
    "import pandas as pd\n",
    "markSeries= pd.Series([10,90,30,70],index=[\"A\",\"B\",\"C\",\"D\"])\n",
    "p= markSeries.sort_values(ascending=False)\n",
    "print(p)"
   ]
  },
  {
   "cell_type": "markdown",
   "id": "c6b1a681",
   "metadata": {},
   "source": [
    "#### COUNT UNIQUE"
   ]
  },
  {
   "cell_type": "code",
   "execution_count": 32,
   "id": "23b9d61b",
   "metadata": {},
   "outputs": [
    {
     "name": "stdout",
     "output_type": "stream",
     "text": [
      "A    10\n",
      "B    90\n",
      "C    30\n",
      "D    30\n",
      "dtype: int64\n",
      "<bound method Series.unique of A    10\n",
      "B    90\n",
      "C    30\n",
      "D    30\n",
      "dtype: int64>\n"
     ]
    }
   ],
   "source": [
    "import pandas as pd\n",
    "markSeries= pd.Series([10,90,30,30],index=[\"A\",\"B\",\"C\",\"D\"])\n",
    "print(markSeries)\n",
    "p= markSeries.unique\n",
    "print(p)"
   ]
  },
  {
   "cell_type": "markdown",
   "id": "97a1b9a3",
   "metadata": {},
   "source": [
    "#### DROP DUPLICATE"
   ]
  },
  {
   "cell_type": "code",
   "execution_count": 34,
   "id": "23eb145a",
   "metadata": {},
   "outputs": [
    {
     "name": "stdout",
     "output_type": "stream",
     "text": [
      "A    10\n",
      "B    90\n",
      "C    30\n",
      "D    30\n",
      "dtype: int64\n",
      "A    10\n",
      "B    90\n",
      "D    30\n",
      "dtype: int64\n"
     ]
    }
   ],
   "source": [
    "import pandas as pd\n",
    "markSeries= pd.Series([10,90,30,30],index=[\"A\",\"B\",\"C\",\"D\"])\n",
    "print(markSeries)\n",
    "p= markSeries.drop_duplicates(keep=\"last\") # first last false\n",
    "print(p)"
   ]
  },
  {
   "cell_type": "markdown",
   "id": "3bc19a9a",
   "metadata": {},
   "source": [
    "DUPLICATE FUNCTION"
   ]
  },
  {
   "cell_type": "code",
   "execution_count": 35,
   "id": "23936038",
   "metadata": {},
   "outputs": [
    {
     "data": {
      "text/html": [
       "<div>\n",
       "<style scoped>\n",
       "    .dataframe tbody tr th:only-of-type {\n",
       "        vertical-align: middle;\n",
       "    }\n",
       "\n",
       "    .dataframe tbody tr th {\n",
       "        vertical-align: top;\n",
       "    }\n",
       "\n",
       "    .dataframe thead th {\n",
       "        text-align: right;\n",
       "    }\n",
       "</style>\n",
       "<table border=\"1\" class=\"dataframe\">\n",
       "  <thead>\n",
       "    <tr style=\"text-align: right;\">\n",
       "      <th></th>\n",
       "      <th>A</th>\n",
       "      <th>B</th>\n",
       "    </tr>\n",
       "  </thead>\n",
       "  <tbody>\n",
       "    <tr>\n",
       "      <th>0</th>\n",
       "      <td>1</td>\n",
       "      <td>x</td>\n",
       "    </tr>\n",
       "    <tr>\n",
       "      <th>1</th>\n",
       "      <td>2</td>\n",
       "      <td>y</td>\n",
       "    </tr>\n",
       "    <tr>\n",
       "      <th>2</th>\n",
       "      <td>3</td>\n",
       "      <td>z</td>\n",
       "    </tr>\n",
       "  </tbody>\n",
       "</table>\n",
       "</div>"
      ],
      "text/plain": [
       "   A  B\n",
       "0  1  x\n",
       "1  2  y\n",
       "2  3  z"
      ]
     },
     "execution_count": 35,
     "metadata": {},
     "output_type": "execute_result"
    }
   ],
   "source": [
    "import pandas as pd\n",
    "\n",
    "df = pd.DataFrame({\n",
    "    'A': [1, 1, 2, 3, 3],\n",
    "    'B': ['x', 'x', 'y', 'z', 'z']\n",
    "})\n",
    "\n",
    "# Drop duplicate rows\n",
    "df_cleaned = df.drop_duplicates()\n",
    "df.drop_duplicates(subset='A')                # Drop duplicates based on column A\n",
    "df.drop_duplicates(subset=['A', 'B'])         # Based on multiple columns\n",
    "df.drop_duplicates(keep='last')               # Keep last occurrence\n",
    "df.drop_duplicates(keep=False)                # Drop all duplicates\n",
    "df.drop_duplicates(inplace=True)              # Modify in place\n",
    "df.drop_duplicates(ignore_index=True)         # Reset index in the result\n"
   ]
  },
  {
   "cell_type": "markdown",
   "id": "88af055e",
   "metadata": {},
   "source": [
    "### JSON"
   ]
  },
  {
   "cell_type": "markdown",
   "id": "f0dbcec0",
   "metadata": {},
   "source": [
    "JAVASCRIPT OBJECT NOTATION"
   ]
  },
  {
   "cell_type": "code",
   "execution_count": 41,
   "id": "f4a6f2fc",
   "metadata": {},
   "outputs": [
    {
     "name": "stdout",
     "output_type": "stream",
     "text": [
      "  product  amount\n",
      "0   apple   50000\n",
      "1  laptop  105000\n",
      "<class 'pandas.core.frame.DataFrame'>\n"
     ]
    }
   ],
   "source": [
    "# COLUMN\n",
    "# JSON FORMAT\n",
    "data={\"product\":[\"apple\",\"laptop\"],\"amount\":[50000,105000]}\n",
    "df=pd.DataFrame(data)\n",
    "print(df)\n",
    "print(type(df))"
   ]
  },
  {
   "cell_type": "code",
   "execution_count": null,
   "id": "d1576970",
   "metadata": {},
   "outputs": [
    {
     "name": "stdout",
     "output_type": "stream",
     "text": [
      "0     apple\n",
      "1    laptop\n",
      "Name: product, dtype: object\n",
      "<class 'pandas.core.series.Series'>\n"
     ]
    }
   ],
   "source": [
    "product_column=df[\"product\"]\n",
    "print(product_column)\n",
    "print(type(product_column))   # series -> column selected"
   ]
  },
  {
   "cell_type": "markdown",
   "id": "a7abc314",
   "metadata": {},
   "source": [
    "##### sorting by value in dataframe"
   ]
  },
  {
   "cell_type": "code",
   "execution_count": 46,
   "id": "89881517",
   "metadata": {},
   "outputs": [
    {
     "data": {
      "text/html": [
       "<div>\n",
       "<style scoped>\n",
       "    .dataframe tbody tr th:only-of-type {\n",
       "        vertical-align: middle;\n",
       "    }\n",
       "\n",
       "    .dataframe tbody tr th {\n",
       "        vertical-align: top;\n",
       "    }\n",
       "\n",
       "    .dataframe thead th {\n",
       "        text-align: right;\n",
       "    }\n",
       "</style>\n",
       "<table border=\"1\" class=\"dataframe\">\n",
       "  <thead>\n",
       "    <tr style=\"text-align: right;\">\n",
       "      <th></th>\n",
       "      <th>product</th>\n",
       "      <th>amount</th>\n",
       "    </tr>\n",
       "  </thead>\n",
       "  <tbody>\n",
       "    <tr>\n",
       "      <th>0</th>\n",
       "      <td>apple</td>\n",
       "      <td>50000</td>\n",
       "    </tr>\n",
       "    <tr>\n",
       "      <th>1</th>\n",
       "      <td>laptop</td>\n",
       "      <td>105000</td>\n",
       "    </tr>\n",
       "  </tbody>\n",
       "</table>\n",
       "</div>"
      ],
      "text/plain": [
       "  product  amount\n",
       "0   apple   50000\n",
       "1  laptop  105000"
      ]
     },
     "execution_count": 46,
     "metadata": {},
     "output_type": "execute_result"
    }
   ],
   "source": [
    "df.sort_values(by=\"amount\")"
   ]
  },
  {
   "cell_type": "markdown",
   "id": "65394647",
   "metadata": {},
   "source": [
    "##### sorting by product alphabet in dataframe"
   ]
  },
  {
   "cell_type": "markdown",
   "id": "b6d399e7",
   "metadata": {},
   "source": [
    "### CSV "
   ]
  },
  {
   "cell_type": "markdown",
   "id": "a8230937",
   "metadata": {},
   "source": [
    "COMMA SEPERATED VALUES"
   ]
  },
  {
   "cell_type": "markdown",
   "id": "426ea5e7",
   "metadata": {},
   "source": [
    "1,AMAN,REGEX"
   ]
  },
  {
   "cell_type": "code",
   "execution_count": 103,
   "id": "dc631247",
   "metadata": {},
   "outputs": [],
   "source": [
    "ratinger=pd.read_csv(\"ml-latest-small/ratings.csv\")"
   ]
  },
  {
   "cell_type": "code",
   "execution_count": 104,
   "id": "67ddd710",
   "metadata": {},
   "outputs": [
    {
     "name": "stdout",
     "output_type": "stream",
     "text": [
      "   userId  movieId  rating  timestamp\n",
      "0       1        1     4.0  964982703\n",
      "1       1        3     4.0  964981247\n",
      "2       1        6     4.0  964982224\n",
      "3       1       47     5.0  964983815\n",
      "4       1       50     5.0  964982931\n"
     ]
    }
   ],
   "source": [
    "print(ratinger.head())"
   ]
  },
  {
   "cell_type": "code",
   "execution_count": 105,
   "id": "e42fff26",
   "metadata": {},
   "outputs": [
    {
     "name": "stdout",
     "output_type": "stream",
     "text": [
      "        userId  movieId  rating   timestamp\n",
      "100831     610   166534     4.0  1493848402\n",
      "100832     610   168248     5.0  1493850091\n",
      "100833     610   168250     5.0  1494273047\n",
      "100834     610   168252     5.0  1493846352\n",
      "100835     610   170875     3.0  1493846415\n"
     ]
    }
   ],
   "source": [
    "print(ratinger.tail())"
   ]
  },
  {
   "cell_type": "code",
   "execution_count": 106,
   "id": "2585cc24",
   "metadata": {},
   "outputs": [
    {
     "data": {
      "text/html": [
       "<div>\n",
       "<style scoped>\n",
       "    .dataframe tbody tr th:only-of-type {\n",
       "        vertical-align: middle;\n",
       "    }\n",
       "\n",
       "    .dataframe tbody tr th {\n",
       "        vertical-align: top;\n",
       "    }\n",
       "\n",
       "    .dataframe thead th {\n",
       "        text-align: right;\n",
       "    }\n",
       "</style>\n",
       "<table border=\"1\" class=\"dataframe\">\n",
       "  <thead>\n",
       "    <tr style=\"text-align: right;\">\n",
       "      <th></th>\n",
       "      <th>userId</th>\n",
       "      <th>movieId</th>\n",
       "      <th>rating</th>\n",
       "      <th>timestamp</th>\n",
       "    </tr>\n",
       "  </thead>\n",
       "  <tbody>\n",
       "    <tr>\n",
       "      <th>1</th>\n",
       "      <td>1</td>\n",
       "      <td>3</td>\n",
       "      <td>4.0</td>\n",
       "      <td>964981247</td>\n",
       "    </tr>\n",
       "    <tr>\n",
       "      <th>561</th>\n",
       "      <td>6</td>\n",
       "      <td>3</td>\n",
       "      <td>5.0</td>\n",
       "      <td>845554296</td>\n",
       "    </tr>\n",
       "    <tr>\n",
       "      <th>2276</th>\n",
       "      <td>19</td>\n",
       "      <td>3</td>\n",
       "      <td>3.0</td>\n",
       "      <td>965707636</td>\n",
       "    </tr>\n",
       "    <tr>\n",
       "      <th>4930</th>\n",
       "      <td>32</td>\n",
       "      <td>3</td>\n",
       "      <td>3.0</td>\n",
       "      <td>856736172</td>\n",
       "    </tr>\n",
       "    <tr>\n",
       "      <th>5875</th>\n",
       "      <td>42</td>\n",
       "      <td>3</td>\n",
       "      <td>4.0</td>\n",
       "      <td>996221045</td>\n",
       "    </tr>\n",
       "    <tr>\n",
       "      <th>6316</th>\n",
       "      <td>43</td>\n",
       "      <td>3</td>\n",
       "      <td>5.0</td>\n",
       "      <td>848994405</td>\n",
       "    </tr>\n",
       "    <tr>\n",
       "      <th>6430</th>\n",
       "      <td>44</td>\n",
       "      <td>3</td>\n",
       "      <td>3.0</td>\n",
       "      <td>869251910</td>\n",
       "    </tr>\n",
       "    <tr>\n",
       "      <th>7423</th>\n",
       "      <td>51</td>\n",
       "      <td>3</td>\n",
       "      <td>4.0</td>\n",
       "      <td>1230932736</td>\n",
       "    </tr>\n",
       "    <tr>\n",
       "      <th>8511</th>\n",
       "      <td>58</td>\n",
       "      <td>3</td>\n",
       "      <td>3.0</td>\n",
       "      <td>847719397</td>\n",
       "    </tr>\n",
       "    <tr>\n",
       "      <th>9429</th>\n",
       "      <td>64</td>\n",
       "      <td>3</td>\n",
       "      <td>3.5</td>\n",
       "      <td>1161519668</td>\n",
       "    </tr>\n",
       "    <tr>\n",
       "      <th>10362</th>\n",
       "      <td>68</td>\n",
       "      <td>3</td>\n",
       "      <td>2.0</td>\n",
       "      <td>1158533415</td>\n",
       "    </tr>\n",
       "    <tr>\n",
       "      <th>14123</th>\n",
       "      <td>91</td>\n",
       "      <td>3</td>\n",
       "      <td>3.0</td>\n",
       "      <td>1112712323</td>\n",
       "    </tr>\n",
       "    <tr>\n",
       "      <th>15300</th>\n",
       "      <td>100</td>\n",
       "      <td>3</td>\n",
       "      <td>3.5</td>\n",
       "      <td>1100183804</td>\n",
       "    </tr>\n",
       "    <tr>\n",
       "      <th>15509</th>\n",
       "      <td>102</td>\n",
       "      <td>3</td>\n",
       "      <td>5.0</td>\n",
       "      <td>840635033</td>\n",
       "    </tr>\n",
       "    <tr>\n",
       "      <th>18262</th>\n",
       "      <td>116</td>\n",
       "      <td>3</td>\n",
       "      <td>3.5</td>\n",
       "      <td>1337200325</td>\n",
       "    </tr>\n",
       "    <tr>\n",
       "      <th>18350</th>\n",
       "      <td>117</td>\n",
       "      <td>3</td>\n",
       "      <td>3.0</td>\n",
       "      <td>844163663</td>\n",
       "    </tr>\n",
       "    <tr>\n",
       "      <th>22277</th>\n",
       "      <td>150</td>\n",
       "      <td>3</td>\n",
       "      <td>3.0</td>\n",
       "      <td>854203124</td>\n",
       "    </tr>\n",
       "    <tr>\n",
       "      <th>22304</th>\n",
       "      <td>151</td>\n",
       "      <td>3</td>\n",
       "      <td>3.0</td>\n",
       "      <td>855947242</td>\n",
       "    </tr>\n",
       "    <tr>\n",
       "      <th>24323</th>\n",
       "      <td>169</td>\n",
       "      <td>3</td>\n",
       "      <td>5.0</td>\n",
       "      <td>1078284750</td>\n",
       "    </tr>\n",
       "    <tr>\n",
       "      <th>25882</th>\n",
       "      <td>179</td>\n",
       "      <td>3</td>\n",
       "      <td>4.0</td>\n",
       "      <td>852114317</td>\n",
       "    </tr>\n",
       "    <tr>\n",
       "      <th>30887</th>\n",
       "      <td>217</td>\n",
       "      <td>3</td>\n",
       "      <td>1.0</td>\n",
       "      <td>955944713</td>\n",
       "    </tr>\n",
       "    <tr>\n",
       "      <th>33046</th>\n",
       "      <td>226</td>\n",
       "      <td>3</td>\n",
       "      <td>3.5</td>\n",
       "      <td>1095662861</td>\n",
       "    </tr>\n",
       "    <tr>\n",
       "      <th>35582</th>\n",
       "      <td>240</td>\n",
       "      <td>3</td>\n",
       "      <td>4.0</td>\n",
       "      <td>849122858</td>\n",
       "    </tr>\n",
       "    <tr>\n",
       "      <th>39032</th>\n",
       "      <td>269</td>\n",
       "      <td>3</td>\n",
       "      <td>4.0</td>\n",
       "      <td>850865480</td>\n",
       "    </tr>\n",
       "    <tr>\n",
       "      <th>39061</th>\n",
       "      <td>270</td>\n",
       "      <td>3</td>\n",
       "      <td>3.0</td>\n",
       "      <td>853918793</td>\n",
       "    </tr>\n",
       "    <tr>\n",
       "      <th>42116</th>\n",
       "      <td>288</td>\n",
       "      <td>3</td>\n",
       "      <td>4.0</td>\n",
       "      <td>975691635</td>\n",
       "    </tr>\n",
       "    <tr>\n",
       "      <th>43169</th>\n",
       "      <td>289</td>\n",
       "      <td>3</td>\n",
       "      <td>2.5</td>\n",
       "      <td>1143424657</td>\n",
       "    </tr>\n",
       "    <tr>\n",
       "      <th>43959</th>\n",
       "      <td>294</td>\n",
       "      <td>3</td>\n",
       "      <td>1.0</td>\n",
       "      <td>966596854</td>\n",
       "    </tr>\n",
       "    <tr>\n",
       "      <th>45643</th>\n",
       "      <td>302</td>\n",
       "      <td>3</td>\n",
       "      <td>3.0</td>\n",
       "      <td>854472084</td>\n",
       "    </tr>\n",
       "    <tr>\n",
       "      <th>46735</th>\n",
       "      <td>307</td>\n",
       "      <td>3</td>\n",
       "      <td>3.5</td>\n",
       "      <td>1186161652</td>\n",
       "    </tr>\n",
       "    <tr>\n",
       "      <th>47709</th>\n",
       "      <td>308</td>\n",
       "      <td>3</td>\n",
       "      <td>0.5</td>\n",
       "      <td>1421374465</td>\n",
       "    </tr>\n",
       "    <tr>\n",
       "      <th>49919</th>\n",
       "      <td>321</td>\n",
       "      <td>3</td>\n",
       "      <td>3.0</td>\n",
       "      <td>843212762</td>\n",
       "    </tr>\n",
       "    <tr>\n",
       "      <th>50950</th>\n",
       "      <td>330</td>\n",
       "      <td>3</td>\n",
       "      <td>3.0</td>\n",
       "      <td>1285905545</td>\n",
       "    </tr>\n",
       "    <tr>\n",
       "      <th>51894</th>\n",
       "      <td>337</td>\n",
       "      <td>3</td>\n",
       "      <td>4.0</td>\n",
       "      <td>860255784</td>\n",
       "    </tr>\n",
       "    <tr>\n",
       "      <th>55396</th>\n",
       "      <td>368</td>\n",
       "      <td>3</td>\n",
       "      <td>3.0</td>\n",
       "      <td>971273951</td>\n",
       "    </tr>\n",
       "    <tr>\n",
       "      <th>61842</th>\n",
       "      <td>410</td>\n",
       "      <td>3</td>\n",
       "      <td>4.0</td>\n",
       "      <td>990910830</td>\n",
       "    </tr>\n",
       "    <tr>\n",
       "      <th>62296</th>\n",
       "      <td>414</td>\n",
       "      <td>3</td>\n",
       "      <td>4.0</td>\n",
       "      <td>961439278</td>\n",
       "    </tr>\n",
       "    <tr>\n",
       "      <th>68657</th>\n",
       "      <td>448</td>\n",
       "      <td>3</td>\n",
       "      <td>3.0</td>\n",
       "      <td>1019128536</td>\n",
       "    </tr>\n",
       "    <tr>\n",
       "      <th>71258</th>\n",
       "      <td>456</td>\n",
       "      <td>3</td>\n",
       "      <td>3.0</td>\n",
       "      <td>856883349</td>\n",
       "    </tr>\n",
       "    <tr>\n",
       "      <th>72920</th>\n",
       "      <td>470</td>\n",
       "      <td>3</td>\n",
       "      <td>3.0</td>\n",
       "      <td>849370396</td>\n",
       "    </tr>\n",
       "    <tr>\n",
       "      <th>75426</th>\n",
       "      <td>477</td>\n",
       "      <td>3</td>\n",
       "      <td>3.0</td>\n",
       "      <td>1200941177</td>\n",
       "    </tr>\n",
       "    <tr>\n",
       "      <th>76229</th>\n",
       "      <td>480</td>\n",
       "      <td>3</td>\n",
       "      <td>2.5</td>\n",
       "      <td>1179178556</td>\n",
       "    </tr>\n",
       "    <tr>\n",
       "      <th>79297</th>\n",
       "      <td>492</td>\n",
       "      <td>3</td>\n",
       "      <td>4.0</td>\n",
       "      <td>863976005</td>\n",
       "    </tr>\n",
       "    <tr>\n",
       "      <th>79994</th>\n",
       "      <td>501</td>\n",
       "      <td>3</td>\n",
       "      <td>5.0</td>\n",
       "      <td>844973817</td>\n",
       "    </tr>\n",
       "    <tr>\n",
       "      <th>84604</th>\n",
       "      <td>544</td>\n",
       "      <td>3</td>\n",
       "      <td>3.0</td>\n",
       "      <td>850688562</td>\n",
       "    </tr>\n",
       "    <tr>\n",
       "      <th>84931</th>\n",
       "      <td>552</td>\n",
       "      <td>3</td>\n",
       "      <td>1.0</td>\n",
       "      <td>1111472953</td>\n",
       "    </tr>\n",
       "    <tr>\n",
       "      <th>85292</th>\n",
       "      <td>555</td>\n",
       "      <td>3</td>\n",
       "      <td>5.0</td>\n",
       "      <td>978747454</td>\n",
       "    </tr>\n",
       "    <tr>\n",
       "      <th>90421</th>\n",
       "      <td>588</td>\n",
       "      <td>3</td>\n",
       "      <td>3.0</td>\n",
       "      <td>839317471</td>\n",
       "    </tr>\n",
       "    <tr>\n",
       "      <th>90519</th>\n",
       "      <td>590</td>\n",
       "      <td>3</td>\n",
       "      <td>3.0</td>\n",
       "      <td>1258416995</td>\n",
       "    </tr>\n",
       "    <tr>\n",
       "      <th>91497</th>\n",
       "      <td>594</td>\n",
       "      <td>3</td>\n",
       "      <td>4.0</td>\n",
       "      <td>1108798921</td>\n",
       "    </tr>\n",
       "    <tr>\n",
       "      <th>92625</th>\n",
       "      <td>599</td>\n",
       "      <td>3</td>\n",
       "      <td>1.5</td>\n",
       "      <td>1498505071</td>\n",
       "    </tr>\n",
       "    <tr>\n",
       "      <th>98668</th>\n",
       "      <td>608</td>\n",
       "      <td>3</td>\n",
       "      <td>2.0</td>\n",
       "      <td>1117504413</td>\n",
       "    </tr>\n",
       "  </tbody>\n",
       "</table>\n",
       "</div>"
      ],
      "text/plain": [
       "       userId  movieId  rating   timestamp\n",
       "1           1        3     4.0   964981247\n",
       "561         6        3     5.0   845554296\n",
       "2276       19        3     3.0   965707636\n",
       "4930       32        3     3.0   856736172\n",
       "5875       42        3     4.0   996221045\n",
       "6316       43        3     5.0   848994405\n",
       "6430       44        3     3.0   869251910\n",
       "7423       51        3     4.0  1230932736\n",
       "8511       58        3     3.0   847719397\n",
       "9429       64        3     3.5  1161519668\n",
       "10362      68        3     2.0  1158533415\n",
       "14123      91        3     3.0  1112712323\n",
       "15300     100        3     3.5  1100183804\n",
       "15509     102        3     5.0   840635033\n",
       "18262     116        3     3.5  1337200325\n",
       "18350     117        3     3.0   844163663\n",
       "22277     150        3     3.0   854203124\n",
       "22304     151        3     3.0   855947242\n",
       "24323     169        3     5.0  1078284750\n",
       "25882     179        3     4.0   852114317\n",
       "30887     217        3     1.0   955944713\n",
       "33046     226        3     3.5  1095662861\n",
       "35582     240        3     4.0   849122858\n",
       "39032     269        3     4.0   850865480\n",
       "39061     270        3     3.0   853918793\n",
       "42116     288        3     4.0   975691635\n",
       "43169     289        3     2.5  1143424657\n",
       "43959     294        3     1.0   966596854\n",
       "45643     302        3     3.0   854472084\n",
       "46735     307        3     3.5  1186161652\n",
       "47709     308        3     0.5  1421374465\n",
       "49919     321        3     3.0   843212762\n",
       "50950     330        3     3.0  1285905545\n",
       "51894     337        3     4.0   860255784\n",
       "55396     368        3     3.0   971273951\n",
       "61842     410        3     4.0   990910830\n",
       "62296     414        3     4.0   961439278\n",
       "68657     448        3     3.0  1019128536\n",
       "71258     456        3     3.0   856883349\n",
       "72920     470        3     3.0   849370396\n",
       "75426     477        3     3.0  1200941177\n",
       "76229     480        3     2.5  1179178556\n",
       "79297     492        3     4.0   863976005\n",
       "79994     501        3     5.0   844973817\n",
       "84604     544        3     3.0   850688562\n",
       "84931     552        3     1.0  1111472953\n",
       "85292     555        3     5.0   978747454\n",
       "90421     588        3     3.0   839317471\n",
       "90519     590        3     3.0  1258416995\n",
       "91497     594        3     4.0  1108798921\n",
       "92625     599        3     1.5  1498505071\n",
       "98668     608        3     2.0  1117504413"
      ]
     },
     "execution_count": 106,
     "metadata": {},
     "output_type": "execute_result"
    }
   ],
   "source": [
    "ratinger[ratinger[\"movieId\"]==3]"
   ]
  },
  {
   "cell_type": "markdown",
   "id": "fb949c56",
   "metadata": {},
   "source": [
    "#### filter those movieId that is 3 or 5 \n"
   ]
  },
  {
   "cell_type": "code",
   "execution_count": 107,
   "id": "fd2e5208",
   "metadata": {},
   "outputs": [
    {
     "data": {
      "text/html": [
       "<div>\n",
       "<style scoped>\n",
       "    .dataframe tbody tr th:only-of-type {\n",
       "        vertical-align: middle;\n",
       "    }\n",
       "\n",
       "    .dataframe tbody tr th {\n",
       "        vertical-align: top;\n",
       "    }\n",
       "\n",
       "    .dataframe thead th {\n",
       "        text-align: right;\n",
       "    }\n",
       "</style>\n",
       "<table border=\"1\" class=\"dataframe\">\n",
       "  <thead>\n",
       "    <tr style=\"text-align: right;\">\n",
       "      <th></th>\n",
       "      <th>userId</th>\n",
       "      <th>movieId</th>\n",
       "      <th>rating</th>\n",
       "      <th>timestamp</th>\n",
       "    </tr>\n",
       "  </thead>\n",
       "  <tbody>\n",
       "    <tr>\n",
       "      <th>1</th>\n",
       "      <td>1</td>\n",
       "      <td>3</td>\n",
       "      <td>4.0</td>\n",
       "      <td>964981247</td>\n",
       "    </tr>\n",
       "    <tr>\n",
       "      <th>561</th>\n",
       "      <td>6</td>\n",
       "      <td>3</td>\n",
       "      <td>5.0</td>\n",
       "      <td>845554296</td>\n",
       "    </tr>\n",
       "    <tr>\n",
       "      <th>563</th>\n",
       "      <td>6</td>\n",
       "      <td>5</td>\n",
       "      <td>5.0</td>\n",
       "      <td>845553938</td>\n",
       "    </tr>\n",
       "    <tr>\n",
       "      <th>2276</th>\n",
       "      <td>19</td>\n",
       "      <td>3</td>\n",
       "      <td>3.0</td>\n",
       "      <td>965707636</td>\n",
       "    </tr>\n",
       "    <tr>\n",
       "      <th>4880</th>\n",
       "      <td>31</td>\n",
       "      <td>5</td>\n",
       "      <td>3.0</td>\n",
       "      <td>850466642</td>\n",
       "    </tr>\n",
       "    <tr>\n",
       "      <th>...</th>\n",
       "      <td>...</td>\n",
       "      <td>...</td>\n",
       "      <td>...</td>\n",
       "      <td>...</td>\n",
       "    </tr>\n",
       "    <tr>\n",
       "      <th>91497</th>\n",
       "      <td>594</td>\n",
       "      <td>3</td>\n",
       "      <td>4.0</td>\n",
       "      <td>1108798921</td>\n",
       "    </tr>\n",
       "    <tr>\n",
       "      <th>92625</th>\n",
       "      <td>599</td>\n",
       "      <td>3</td>\n",
       "      <td>1.5</td>\n",
       "      <td>1498505071</td>\n",
       "    </tr>\n",
       "    <tr>\n",
       "      <th>95104</th>\n",
       "      <td>600</td>\n",
       "      <td>5</td>\n",
       "      <td>2.5</td>\n",
       "      <td>1237759452</td>\n",
       "    </tr>\n",
       "    <tr>\n",
       "      <th>97045</th>\n",
       "      <td>604</td>\n",
       "      <td>5</td>\n",
       "      <td>3.0</td>\n",
       "      <td>832080355</td>\n",
       "    </tr>\n",
       "    <tr>\n",
       "      <th>98668</th>\n",
       "      <td>608</td>\n",
       "      <td>3</td>\n",
       "      <td>2.0</td>\n",
       "      <td>1117504413</td>\n",
       "    </tr>\n",
       "  </tbody>\n",
       "</table>\n",
       "<p>101 rows × 4 columns</p>\n",
       "</div>"
      ],
      "text/plain": [
       "       userId  movieId  rating   timestamp\n",
       "1           1        3     4.0   964981247\n",
       "561         6        3     5.0   845554296\n",
       "563         6        5     5.0   845553938\n",
       "2276       19        3     3.0   965707636\n",
       "4880       31        5     3.0   850466642\n",
       "...       ...      ...     ...         ...\n",
       "91497     594        3     4.0  1108798921\n",
       "92625     599        3     1.5  1498505071\n",
       "95104     600        5     2.5  1237759452\n",
       "97045     604        5     3.0   832080355\n",
       "98668     608        3     2.0  1117504413\n",
       "\n",
       "[101 rows x 4 columns]"
      ]
     },
     "execution_count": 107,
     "metadata": {},
     "output_type": "execute_result"
    }
   ],
   "source": [
    "ratinger[(ratinger[\"movieId\"]==3) | (ratinger[\"movieId\"]==5)]\n",
    "# rating[rating[\"movieId\"].isin([3, 5])]"
   ]
  },
  {
   "cell_type": "code",
   "execution_count": 108,
   "id": "90a0ed4d",
   "metadata": {},
   "outputs": [
    {
     "data": {
      "text/plain": [
       "rating\n",
       "4.0    26818\n",
       "5.0    13211\n",
       "4.5     8551\n",
       "Name: count, dtype: int64"
      ]
     },
     "execution_count": 108,
     "metadata": {},
     "output_type": "execute_result"
    }
   ],
   "source": [
    "movie_rating=ratinger[ratinger[\"rating\"]>=4]\n",
    "movie_rating[\"rating\"].value_counts()"
   ]
  },
  {
   "cell_type": "code",
   "execution_count": 109,
   "id": "3675f710",
   "metadata": {},
   "outputs": [
    {
     "name": "stdout",
     "output_type": "stream",
     "text": [
      "rating\n",
      "3.0    26\n",
      "Name: count, dtype: int64\n"
     ]
    }
   ],
   "source": [
    "count_1_rating_3=ratinger[(ratinger[\"userId\"]==1) & (ratinger[\"rating\"]==3) ]\n",
    "print(count_1_rating_3[\"rating\"].value_counts())"
   ]
  },
  {
   "cell_type": "code",
   "execution_count": 111,
   "id": "ba222ea2",
   "metadata": {},
   "outputs": [
    {
     "name": "stdout",
     "output_type": "stream",
     "text": [
      "userId\n",
      "414    2117\n",
      "474    1750\n",
      "610    1159\n",
      "Name: count, dtype: int64\n"
     ]
    }
   ],
   "source": [
    "count_1_rating_3=ratinger[ratinger[\"rating\"]>=3]\n",
    "print(count_1_rating_3[\"userId\"].value_counts().sort_values(ascending=False).head(3))"
   ]
  },
  {
   "cell_type": "markdown",
   "id": "221c075a",
   "metadata": {},
   "source": []
  },
  {
   "cell_type": "markdown",
   "id": "fa5e85e5",
   "metadata": {},
   "source": [
    "### TSB"
   ]
  },
  {
   "cell_type": "markdown",
   "id": "6150138a",
   "metadata": {},
   "source": [
    "TAB SEPERATED VALUE"
   ]
  },
  {
   "cell_type": "markdown",
   "id": "f60be1e6",
   "metadata": {},
   "source": [
    "1    AMAN    REGEX"
   ]
  },
  {
   "cell_type": "code",
   "execution_count": null,
   "id": "2f89b98a",
   "metadata": {},
   "outputs": [],
   "source": []
  },
  {
   "cell_type": "markdown",
   "id": "909352b8",
   "metadata": {},
   "source": [
    "### DSV "
   ]
  },
  {
   "cell_type": "markdown",
   "id": "6bfac9a6",
   "metadata": {},
   "source": [
    "=> DELIMITTER SEPERATED VALUE"
   ]
  },
  {
   "cell_type": "markdown",
   "id": "a6b35ccc",
   "metadata": {},
   "source": [
    "1$AMAN$REGEX"
   ]
  },
  {
   "cell_type": "code",
   "execution_count": null,
   "id": "bf84115a",
   "metadata": {},
   "outputs": [],
   "source": []
  },
  {
   "cell_type": "markdown",
   "id": "9dbed291",
   "metadata": {},
   "source": []
  },
  {
   "cell_type": "markdown",
   "id": "5953a38b",
   "metadata": {},
   "source": [
    "# CREATE A API"
   ]
  },
  {
   "cell_type": "markdown",
   "id": "febb283d",
   "metadata": {},
   "source": [
    "### CREATE AN API OF YOUTUBE"
   ]
  },
  {
   "cell_type": "markdown",
   "id": "97c66faa",
   "metadata": {},
   "source": [
    "=> USING THIS API CREATE A DATAFRAME IN PANDAS"
   ]
  },
  {
   "cell_type": "markdown",
   "id": "97a77b32",
   "metadata": {},
   "source": [
    "=> THEN BASICALLY LOOK FOR THE COLUMNS AND INDEX"
   ]
  },
  {
   "cell_type": "markdown",
   "id": "7fa96f2e",
   "metadata": {},
   "source": [
    "=> THEN CALCULATE THE TOTAL VIDEOS, TOTAL LIKE, AVERAGE LIKE, AND MINIMUM LIKES FOR EACH CHANNEL (USING GROUP BY)"
   ]
  },
  {
   "cell_type": "markdown",
   "id": "b4d99ea9",
   "metadata": {},
   "source": []
  }
 ],
 "metadata": {
  "kernelspec": {
   "display_name": "Python 3",
   "language": "python",
   "name": "python3"
  },
  "language_info": {
   "codemirror_mode": {
    "name": "ipython",
    "version": 3
   },
   "file_extension": ".py",
   "mimetype": "text/x-python",
   "name": "python",
   "nbconvert_exporter": "python",
   "pygments_lexer": "ipython3",
   "version": "3.13.2"
  }
 },
 "nbformat": 4,
 "nbformat_minor": 5
}
