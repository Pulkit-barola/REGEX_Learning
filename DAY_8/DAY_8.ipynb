{
 "cells": [
  {
   "cell_type": "markdown",
   "id": "63c30091",
   "metadata": {},
   "source": [
    "# DAY 8"
   ]
  },
  {
   "cell_type": "markdown",
   "id": "b131de1e",
   "metadata": {},
   "source": [
    "## PANDAS"
   ]
  },
  {
   "cell_type": "markdown",
   "id": "5445928d",
   "metadata": {},
   "source": [
    "=> USE TO CLEAN AND TRANSFORM DATA"
   ]
  },
  {
   "cell_type": "markdown",
   "id": "56243d28",
   "metadata": {},
   "source": [
    "=> POWERFUL -> BUILD UPON NUMPY"
   ]
  },
  {
   "cell_type": "markdown",
   "id": "91832379",
   "metadata": {},
   "source": [
    "=> STRUCTURE FORMAT OF DATA"
   ]
  },
  {
   "cell_type": "markdown",
   "id": "9f3c47dc",
   "metadata": {},
   "source": [
    "=> ROWS AND COLUMNS"
   ]
  },
  {
   "cell_type": "markdown",
   "id": "a2584cb1",
   "metadata": {},
   "source": [
    "=> DATAFRAME -> SERIES OF COMBINATION "
   ]
  },
  {
   "cell_type": "markdown",
   "id": "debd9a7e",
   "metadata": {},
   "source": [
    "=> SERIES : 1 COLUMN [VECTOR] -> 1D ARRAY"
   ]
  },
  {
   "cell_type": "code",
   "execution_count": 4,
   "id": "ee1c91a8",
   "metadata": {},
   "outputs": [],
   "source": [
    "import pandas as pd"
   ]
  },
  {
   "cell_type": "code",
   "execution_count": null,
   "id": "64efe252",
   "metadata": {},
   "outputs": [
    {
     "data": {
      "text/plain": [
       "0    10\n",
       "1    20\n",
       "2    30\n",
       "3    40\n",
       "dtype: int64"
      ]
     },
     "execution_count": 5,
     "metadata": {},
     "output_type": "execute_result"
    }
   ],
   "source": [
    "pd.Series([10,20,30,70])"
   ]
  },
  {
   "cell_type": "code",
   "execution_count": 7,
   "id": "800be671",
   "metadata": {},
   "outputs": [
    {
     "name": "stdout",
     "output_type": "stream",
     "text": [
      "0    1\n",
      "1    2\n",
      "2    3\n",
      "3    4\n",
      "dtype: int64\n"
     ]
    }
   ],
   "source": [
    "import pandas as pd\n",
    "markSeries = pd.Series([1, 2, 3, 4])\n",
    "print(markSeries)"
   ]
  },
  {
   "cell_type": "code",
   "execution_count": 8,
   "id": "dbeaa42c",
   "metadata": {},
   "outputs": [],
   "source": [
    "# import pandas as pd\n",
    "# s = pd.Series([1, 2, 3, 4])\n",
    "# print(s)\n",
    "# s.index         # Get index\n",
    "# s.dtype         # Data type\n",
    "# s.shape         # Shape (number of elements,)\n",
    "# s.size          # Total number of elements\n",
    "# s.name          # Name of the Series\n",
    "# s.values        # Numpy array of values"
   ]
  },
  {
   "cell_type": "code",
   "execution_count": 10,
   "id": "e4c7a585",
   "metadata": {},
   "outputs": [
    {
     "name": "stdout",
     "output_type": "stream",
     "text": [
      "0      10\n",
      "1    20.1\n",
      "2      30\n",
      "3      70\n",
      "dtype: object\n",
      "RangeIndex(start=0, stop=4, step=1)\n"
     ]
    }
   ],
   "source": [
    "# \"20\"=> object datatype or non-numerical datatype\n",
    "import pandas as pd\n",
    "markSeries= pd.Series([10,20.1,\"30\",70])\n",
    "print(markSeries)\n",
    "print(markSeries.index)"
   ]
  },
  {
   "cell_type": "markdown",
   "id": "0943eb1d",
   "metadata": {},
   "source": [
    "#### INDEX CHANGE IN PANDAS"
   ]
  },
  {
   "cell_type": "code",
   "execution_count": 11,
   "id": "68a2f847",
   "metadata": {},
   "outputs": [
    {
     "name": "stdout",
     "output_type": "stream",
     "text": [
      "A      10\n",
      "B    20.1\n",
      "C      30\n",
      "D      70\n",
      "dtype: object\n",
      "30\n"
     ]
    }
   ],
   "source": [
    "import pandas as pd\n",
    "markSeries= pd.Series([10,20.1,\"30\",70],index=[\"A\",\"B\",\"C\",\"D\"])\n",
    "print(markSeries)\n",
    "print(markSeries[\"C\"])"
   ]
  },
  {
   "cell_type": "markdown",
   "id": "850c2ff7",
   "metadata": {},
   "source": [
    "#### IF INDEX SAME IN PANDAS"
   ]
  },
  {
   "cell_type": "code",
   "execution_count": 15,
   "id": "3d7f1ad7",
   "metadata": {},
   "outputs": [
    {
     "name": "stdout",
     "output_type": "stream",
     "text": [
      "A      10\n",
      "B    20.1\n",
      "A      30\n",
      "D      70\n",
      "dtype: object\n",
      "A    10\n",
      "A    30\n",
      "dtype: object\n"
     ]
    }
   ],
   "source": [
    "import pandas as pd\n",
    "markSeries= pd.Series([10,20.1,\"30\",70],index=[\"A\",\"B\",\"A\",\"D\"])\n",
    "print(markSeries)\n",
    "print(markSeries[\"A\"])"
   ]
  },
  {
   "cell_type": "markdown",
   "id": "b2a3b63f",
   "metadata": {},
   "source": [
    "#### CHANGING VALUE USING INDEX"
   ]
  },
  {
   "cell_type": "code",
   "execution_count": 13,
   "id": "7b3ccb69",
   "metadata": {},
   "outputs": [
    {
     "name": "stdout",
     "output_type": "stream",
     "text": [
      "A    10\n",
      "B    20\n",
      "C    30\n",
      "D    70\n",
      "dtype: int64\n",
      "A    900\n",
      "B     20\n",
      "C     30\n",
      "D     70\n",
      "dtype: int64\n"
     ]
    }
   ],
   "source": [
    "import pandas as pd\n",
    "markSeries= pd.Series([10,20,30,70],index=[\"A\",\"B\",\"C\",\"D\"])\n",
    "print(markSeries)\n",
    "markSeries[\"A\"]=900\n",
    "print(markSeries)"
   ]
  },
  {
   "cell_type": "markdown",
   "id": "4124f322",
   "metadata": {},
   "source": [
    "#### keyvalue or dictionary convertion"
   ]
  },
  {
   "cell_type": "code",
   "execution_count": 19,
   "id": "4601fabf",
   "metadata": {},
   "outputs": [
    {
     "name": "stdout",
     "output_type": "stream",
     "text": [
      "A    10\n",
      "B    20\n",
      "C    30\n",
      "D    70\n",
      "dtype: int64\n",
      "{'A': 10, 'B': 20, 'C': 30, 'D': 70}\n"
     ]
    }
   ],
   "source": [
    "import pandas as pd\n",
    "markSeries= pd.Series([10,20,30,70],index=[\"A\",\"B\",\"C\",\"D\"])\n",
    "print(markSeries)\n",
    "new_markSeries=markSeries.to_dict()\n",
    "print(new_markSeries)\n"
   ]
  },
  {
   "cell_type": "markdown",
   "id": "0b8847c7",
   "metadata": {},
   "source": [
    "#### Descriptive Statistics in PANDAS"
   ]
  },
  {
   "cell_type": "code",
   "execution_count": 20,
   "id": "869b24af",
   "metadata": {},
   "outputs": [],
   "source": [
    "# s.mean()        # Average\n",
    "# s.median()      # Median\n",
    "# s.mode()        # Mode\n",
    "# s.std()         # Standard deviation\n",
    "# s.var()         # Variance\n",
    "# s.min()         # Minimum\n",
    "# s.max()         # Maximum\n",
    "# s.sum()         # Sum\n",
    "# s.count()       # Count non-NA values\n",
    "# s.describe()    # Summary stats"
   ]
  },
  {
   "cell_type": "code",
   "execution_count": 24,
   "id": "b54ef3f2",
   "metadata": {},
   "outputs": [
    {
     "name": "stdout",
     "output_type": "stream",
     "text": [
      "<bound method Series.idxmax of A    10\n",
      "B    20\n",
      "C    30\n",
      "D    70\n",
      "dtype: int64>\n",
      "<bound method Series.min of A    10\n",
      "B    20\n",
      "C    30\n",
      "D    70\n",
      "dtype: int64>\n"
     ]
    }
   ],
   "source": [
    "import pandas as pd\n",
    "markSeries= pd.Series([10,20,30,70],index=[\"A\",\"B\",\"C\",\"D\"])\n",
    "print(markSeries.idxmax)\n",
    "print(markSeries.min)"
   ]
  },
  {
   "cell_type": "markdown",
   "id": "7363672d",
   "metadata": {},
   "source": [
    "#### VALUE COUNT"
   ]
  },
  {
   "cell_type": "code",
   "execution_count": 25,
   "id": "594e9faf",
   "metadata": {},
   "outputs": [
    {
     "name": "stdout",
     "output_type": "stream",
     "text": [
      "10    1\n",
      "20    1\n",
      "30    1\n",
      "70    1\n",
      "Name: count, dtype: int64\n"
     ]
    }
   ],
   "source": [
    "import pandas as pd\n",
    "markSeries= pd.Series([10,20,30,70],index=[\"A\",\"B\",\"C\",\"D\"])\n",
    "print(markSeries.value_counts())"
   ]
  },
  {
   "cell_type": "markdown",
   "id": "5d00ed6c",
   "metadata": {},
   "source": [
    "#### TO MAKE SORTING IN DESCENDING ORDER"
   ]
  },
  {
   "cell_type": "code",
   "execution_count": 28,
   "id": "a382c336",
   "metadata": {},
   "outputs": [
    {
     "name": "stdout",
     "output_type": "stream",
     "text": [
      "D    70\n",
      "C    30\n",
      "B    90\n",
      "A    10\n",
      "dtype: int64\n"
     ]
    }
   ],
   "source": [
    "import pandas as pd\n",
    "markSeries= pd.Series([10,90,30,70],index=[\"A\",\"B\",\"C\",\"D\"])\n",
    "p= markSeries.sort_index(ascending=False)\n",
    "print(p)"
   ]
  },
  {
   "cell_type": "code",
   "execution_count": 30,
   "id": "0144e89b",
   "metadata": {},
   "outputs": [
    {
     "name": "stdout",
     "output_type": "stream",
     "text": [
      "B    90\n",
      "D    70\n",
      "C    30\n",
      "A    10\n",
      "dtype: int64\n"
     ]
    }
   ],
   "source": [
    "import pandas as pd\n",
    "markSeries= pd.Series([10,90,30,70],index=[\"A\",\"B\",\"C\",\"D\"])\n",
    "p= markSeries.sort_values(ascending=False)\n",
    "print(p)"
   ]
  },
  {
   "cell_type": "markdown",
   "id": "c6b1a681",
   "metadata": {},
   "source": [
    "#### COUNT UNIQUE"
   ]
  },
  {
   "cell_type": "code",
   "execution_count": 32,
   "id": "23b9d61b",
   "metadata": {},
   "outputs": [
    {
     "name": "stdout",
     "output_type": "stream",
     "text": [
      "A    10\n",
      "B    90\n",
      "C    30\n",
      "D    30\n",
      "dtype: int64\n",
      "<bound method Series.unique of A    10\n",
      "B    90\n",
      "C    30\n",
      "D    30\n",
      "dtype: int64>\n"
     ]
    }
   ],
   "source": [
    "import pandas as pd\n",
    "markSeries= pd.Series([10,90,30,30],index=[\"A\",\"B\",\"C\",\"D\"])\n",
    "print(markSeries)\n",
    "p= markSeries.unique\n",
    "print(p)"
   ]
  },
  {
   "cell_type": "markdown",
   "id": "97a1b9a3",
   "metadata": {},
   "source": [
    "#### DROP DUPLICATE"
   ]
  },
  {
   "cell_type": "code",
   "execution_count": 34,
   "id": "23eb145a",
   "metadata": {},
   "outputs": [
    {
     "name": "stdout",
     "output_type": "stream",
     "text": [
      "A    10\n",
      "B    90\n",
      "C    30\n",
      "D    30\n",
      "dtype: int64\n",
      "A    10\n",
      "B    90\n",
      "D    30\n",
      "dtype: int64\n"
     ]
    }
   ],
   "source": [
    "import pandas as pd\n",
    "markSeries= pd.Series([10,90,30,30],index=[\"A\",\"B\",\"C\",\"D\"])\n",
    "print(markSeries)\n",
    "p= markSeries.drop_duplicates(keep=\"last\") # first last false\n",
    "print(p)"
   ]
  },
  {
   "cell_type": "markdown",
   "id": "3bc19a9a",
   "metadata": {},
   "source": [
    "DUPLICATE FUNCTION"
   ]
  },
  {
   "cell_type": "code",
   "execution_count": 35,
   "id": "23936038",
   "metadata": {},
   "outputs": [
    {
     "data": {
      "text/html": [
       "<div>\n",
       "<style scoped>\n",
       "    .dataframe tbody tr th:only-of-type {\n",
       "        vertical-align: middle;\n",
       "    }\n",
       "\n",
       "    .dataframe tbody tr th {\n",
       "        vertical-align: top;\n",
       "    }\n",
       "\n",
       "    .dataframe thead th {\n",
       "        text-align: right;\n",
       "    }\n",
       "</style>\n",
       "<table border=\"1\" class=\"dataframe\">\n",
       "  <thead>\n",
       "    <tr style=\"text-align: right;\">\n",
       "      <th></th>\n",
       "      <th>A</th>\n",
       "      <th>B</th>\n",
       "    </tr>\n",
       "  </thead>\n",
       "  <tbody>\n",
       "    <tr>\n",
       "      <th>0</th>\n",
       "      <td>1</td>\n",
       "      <td>x</td>\n",
       "    </tr>\n",
       "    <tr>\n",
       "      <th>1</th>\n",
       "      <td>2</td>\n",
       "      <td>y</td>\n",
       "    </tr>\n",
       "    <tr>\n",
       "      <th>2</th>\n",
       "      <td>3</td>\n",
       "      <td>z</td>\n",
       "    </tr>\n",
       "  </tbody>\n",
       "</table>\n",
       "</div>"
      ],
      "text/plain": [
       "   A  B\n",
       "0  1  x\n",
       "1  2  y\n",
       "2  3  z"
      ]
     },
     "execution_count": 35,
     "metadata": {},
     "output_type": "execute_result"
    }
   ],
   "source": [
    "import pandas as pd\n",
    "\n",
    "df = pd.DataFrame({\n",
    "    'A': [1, 1, 2, 3, 3],\n",
    "    'B': ['x', 'x', 'y', 'z', 'z']\n",
    "})\n",
    "\n",
    "# Drop duplicate rows\n",
    "df_cleaned = df.drop_duplicates()\n",
    "df.drop_duplicates(subset='A')                # Drop duplicates based on column A\n",
    "df.drop_duplicates(subset=['A', 'B'])         # Based on multiple columns\n",
    "df.drop_duplicates(keep='last')               # Keep last occurrence\n",
    "df.drop_duplicates(keep=False)                # Drop all duplicates\n",
    "df.drop_duplicates(inplace=True)              # Modify in place\n",
    "df.drop_duplicates(ignore_index=True)         # Reset index in the result\n"
   ]
  },
  {
   "cell_type": "markdown",
   "id": "88af055e",
   "metadata": {},
   "source": [
    "### JSON"
   ]
  },
  {
   "cell_type": "markdown",
   "id": "f0dbcec0",
   "metadata": {},
   "source": [
    "JAVASCRIPT OBJECT NOTATION"
   ]
  },
  {
   "cell_type": "code",
   "execution_count": 41,
   "id": "f4a6f2fc",
   "metadata": {},
   "outputs": [
    {
     "name": "stdout",
     "output_type": "stream",
     "text": [
      "  product  amount\n",
      "0   apple   50000\n",
      "1  laptop  105000\n",
      "<class 'pandas.core.frame.DataFrame'>\n"
     ]
    }
   ],
   "source": [
    "# COLUMN\n",
    "# JSON FORMAT\n",
    "data={\"product\":[\"apple\",\"laptop\"],\"amount\":[50000,105000]}\n",
    "df=pd.DataFrame(data)\n",
    "print(df)\n",
    "print(type(df))"
   ]
  },
  {
   "cell_type": "code",
   "execution_count": null,
   "id": "d1576970",
   "metadata": {},
   "outputs": [
    {
     "name": "stdout",
     "output_type": "stream",
     "text": [
      "0     apple\n",
      "1    laptop\n",
      "Name: product, dtype: object\n",
      "<class 'pandas.core.series.Series'>\n"
     ]
    }
   ],
   "source": [
    "product_column=df[\"product\"]\n",
    "print(product_column)\n",
    "print(type(product_column))   # series -> column selected"
   ]
  },
  {
   "cell_type": "markdown",
   "id": "a7abc314",
   "metadata": {},
   "source": []
  },
  {
   "cell_type": "markdown",
   "id": "b6d399e7",
   "metadata": {},
   "source": [
    "### CSV "
   ]
  },
  {
   "cell_type": "markdown",
   "id": "a8230937",
   "metadata": {},
   "source": [
    "COMMA SEPERATED VALUES"
   ]
  },
  {
   "cell_type": "markdown",
   "id": "426ea5e7",
   "metadata": {},
   "source": [
    "1,AMAN,REGEX"
   ]
  },
  {
   "cell_type": "code",
   "execution_count": null,
   "id": "dc631247",
   "metadata": {},
   "outputs": [],
   "source": []
  },
  {
   "cell_type": "markdown",
   "id": "221c075a",
   "metadata": {},
   "source": []
  },
  {
   "cell_type": "markdown",
   "id": "fa5e85e5",
   "metadata": {},
   "source": [
    "### TSB"
   ]
  },
  {
   "cell_type": "markdown",
   "id": "6150138a",
   "metadata": {},
   "source": [
    "TAB SEPERATED VALUE"
   ]
  },
  {
   "cell_type": "markdown",
   "id": "f60be1e6",
   "metadata": {},
   "source": [
    "1    AMAN    REGEX"
   ]
  },
  {
   "cell_type": "code",
   "execution_count": null,
   "id": "2f89b98a",
   "metadata": {},
   "outputs": [],
   "source": []
  },
  {
   "cell_type": "markdown",
   "id": "909352b8",
   "metadata": {},
   "source": [
    "### DSV "
   ]
  },
  {
   "cell_type": "markdown",
   "id": "6bfac9a6",
   "metadata": {},
   "source": [
    "=> DELIMITTER SEPERATED VALUE"
   ]
  },
  {
   "cell_type": "markdown",
   "id": "a6b35ccc",
   "metadata": {},
   "source": [
    "1$AMAN$REGEX"
   ]
  },
  {
   "cell_type": "code",
   "execution_count": null,
   "id": "bf84115a",
   "metadata": {},
   "outputs": [],
   "source": []
  },
  {
   "cell_type": "markdown",
   "id": "9dbed291",
   "metadata": {},
   "source": []
  }
 ],
 "metadata": {
  "kernelspec": {
   "display_name": "Python 3",
   "language": "python",
   "name": "python3"
  },
  "language_info": {
   "codemirror_mode": {
    "name": "ipython",
    "version": 3
   },
   "file_extension": ".py",
   "mimetype": "text/x-python",
   "name": "python",
   "nbconvert_exporter": "python",
   "pygments_lexer": "ipython3",
   "version": "3.13.2"
  }
 },
 "nbformat": 4,
 "nbformat_minor": 5
}
