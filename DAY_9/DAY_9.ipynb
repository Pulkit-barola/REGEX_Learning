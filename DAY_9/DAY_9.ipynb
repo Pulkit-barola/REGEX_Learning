{
 "cells": [
  {
   "cell_type": "markdown",
   "id": "864991b6",
   "metadata": {},
   "source": [
    "# EDA"
   ]
  },
  {
   "cell_type": "markdown",
   "id": "dae2330b",
   "metadata": {},
   "source": [
    "=> EDA - EXPLORATORY DATA ANALSIS\n"
   ]
  },
  {
   "cell_type": "markdown",
   "id": "e27fb653",
   "metadata": {},
   "source": [
    "=> DATA CLEANING ,TRANSFORMATION,COMBINE"
   ]
  },
  {
   "cell_type": "markdown",
   "id": "cd37a784",
   "metadata": {},
   "source": [
    "=> VISUALIZATION"
   ]
  },
  {
   "cell_type": "markdown",
   "id": "58b1f2b5",
   "metadata": {},
   "source": [
    "#### PACKAGES"
   ]
  },
  {
   "cell_type": "markdown",
   "id": "7d72fec4",
   "metadata": {},
   "source": [
    "NUMPY,PANDAS,MATPLOTIB"
   ]
  },
  {
   "cell_type": "code",
   "execution_count": 84,
   "id": "8d230951",
   "metadata": {},
   "outputs": [],
   "source": [
    "import numpy as np\n",
    "import pandas as pd\n",
    "import matplotlib.pyplot as plt\n",
    "import seaborn as sns"
   ]
  },
  {
   "cell_type": "code",
   "execution_count": 85,
   "id": "5fd9c43d",
   "metadata": {},
   "outputs": [],
   "source": [
    "df_deliveries_data=pd.read_csv(\"D:/REGEX/DAY_9/IPL Ball-by-Ball 2008-2020.csv\")"
   ]
  },
  {
   "cell_type": "code",
   "execution_count": 86,
   "id": "1a0b54cb",
   "metadata": {},
   "outputs": [],
   "source": [
    "match_data=pd.read_csv(\"D:/REGEX/DAY_9/IPL Matches 2008-2020.csv\")"
   ]
  },
  {
   "cell_type": "code",
   "execution_count": 87,
   "id": "eae2367f",
   "metadata": {},
   "outputs": [
    {
     "name": "stdout",
     "output_type": "stream",
     "text": [
      "       id        city        date player_of_match  \\\n",
      "0  335982   Bangalore  2008-04-18     BB McCullum   \n",
      "1  335983  Chandigarh  2008-04-19      MEK Hussey   \n",
      "2  335984       Delhi  2008-04-19     MF Maharoof   \n",
      "3  335985      Mumbai  2008-04-20      MV Boucher   \n",
      "4  335986     Kolkata  2008-04-20       DJ Hussey   \n",
      "\n",
      "                                        venue  neutral_venue  \\\n",
      "0                       M Chinnaswamy Stadium              0   \n",
      "1  Punjab Cricket Association Stadium, Mohali              0   \n",
      "2                            Feroz Shah Kotla              0   \n",
      "3                            Wankhede Stadium              0   \n",
      "4                                Eden Gardens              0   \n",
      "\n",
      "                         team1                        team2  \\\n",
      "0  Royal Challengers Bangalore        Kolkata Knight Riders   \n",
      "1              Kings XI Punjab          Chennai Super Kings   \n",
      "2             Delhi Daredevils             Rajasthan Royals   \n",
      "3               Mumbai Indians  Royal Challengers Bangalore   \n",
      "4        Kolkata Knight Riders              Deccan Chargers   \n",
      "\n",
      "                   toss_winner toss_decision                       winner  \\\n",
      "0  Royal Challengers Bangalore         field        Kolkata Knight Riders   \n",
      "1          Chennai Super Kings           bat          Chennai Super Kings   \n",
      "2             Rajasthan Royals           bat             Delhi Daredevils   \n",
      "3               Mumbai Indians           bat  Royal Challengers Bangalore   \n",
      "4              Deccan Chargers           bat        Kolkata Knight Riders   \n",
      "\n",
      "    result  result_margin eliminator method    umpire1         umpire2  \n",
      "0     runs          140.0          N    NaN  Asad Rauf     RE Koertzen  \n",
      "1     runs           33.0          N    NaN  MR Benson      SL Shastri  \n",
      "2  wickets            9.0          N    NaN  Aleem Dar  GA Pratapkumar  \n",
      "3  wickets            5.0          N    NaN   SJ Davis       DJ Harper  \n",
      "4  wickets            5.0          N    NaN  BF Bowden     K Hariharan  \n"
     ]
    }
   ],
   "source": [
    "print(match_data.head())"
   ]
  },
  {
   "cell_type": "code",
   "execution_count": 88,
   "id": "12498c3e",
   "metadata": {},
   "outputs": [
    {
     "name": "stdout",
     "output_type": "stream",
     "text": [
      "       id  inning  over  ball      batsman  non_striker     bowler  \\\n",
      "0  335982       1     6     5   RT Ponting  BB McCullum  AA Noffke   \n",
      "1  335982       1     6     6  BB McCullum   RT Ponting  AA Noffke   \n",
      "2  335982       1     7     1  BB McCullum   RT Ponting     Z Khan   \n",
      "3  335982       1     7     2  BB McCullum   RT Ponting     Z Khan   \n",
      "4  335982       1     7     3   RT Ponting  BB McCullum     Z Khan   \n",
      "\n",
      "   batsman_runs  extra_runs  total_runs  non_boundary  is_wicket  \\\n",
      "0             1           0           1             0          0   \n",
      "1             1           0           1             0          0   \n",
      "2             0           0           0             0          0   \n",
      "3             1           0           1             0          0   \n",
      "4             1           0           1             0          0   \n",
      "\n",
      "  dismissal_kind player_dismissed fielder extras_type           batting_team  \\\n",
      "0            NaN              NaN     NaN         NaN  Kolkata Knight Riders   \n",
      "1            NaN              NaN     NaN         NaN  Kolkata Knight Riders   \n",
      "2            NaN              NaN     NaN         NaN  Kolkata Knight Riders   \n",
      "3            NaN              NaN     NaN         NaN  Kolkata Knight Riders   \n",
      "4            NaN              NaN     NaN         NaN  Kolkata Knight Riders   \n",
      "\n",
      "                  bowling_team  \n",
      "0  Royal Challengers Bangalore  \n",
      "1  Royal Challengers Bangalore  \n",
      "2  Royal Challengers Bangalore  \n",
      "3  Royal Challengers Bangalore  \n",
      "4  Royal Challengers Bangalore  \n"
     ]
    }
   ],
   "source": [
    "print(df_deliveries_data.head())"
   ]
  },
  {
   "cell_type": "markdown",
   "id": "bb994e15",
   "metadata": {},
   "source": [
    "DESCRIBE FUNCTION"
   ]
  },
  {
   "cell_type": "code",
   "execution_count": 89,
   "id": "d582eeb2",
   "metadata": {},
   "outputs": [
    {
     "data": {
      "text/html": [
       "<div>\n",
       "<style scoped>\n",
       "    .dataframe tbody tr th:only-of-type {\n",
       "        vertical-align: middle;\n",
       "    }\n",
       "\n",
       "    .dataframe tbody tr th {\n",
       "        vertical-align: top;\n",
       "    }\n",
       "\n",
       "    .dataframe thead th {\n",
       "        text-align: right;\n",
       "    }\n",
       "</style>\n",
       "<table border=\"1\" class=\"dataframe\">\n",
       "  <thead>\n",
       "    <tr style=\"text-align: right;\">\n",
       "      <th></th>\n",
       "      <th>id</th>\n",
       "      <th>neutral_venue</th>\n",
       "      <th>result_margin</th>\n",
       "    </tr>\n",
       "  </thead>\n",
       "  <tbody>\n",
       "    <tr>\n",
       "      <th>count</th>\n",
       "      <td>8.160000e+02</td>\n",
       "      <td>816.000000</td>\n",
       "      <td>799.000000</td>\n",
       "    </tr>\n",
       "    <tr>\n",
       "      <th>mean</th>\n",
       "      <td>7.563496e+05</td>\n",
       "      <td>0.094363</td>\n",
       "      <td>17.321652</td>\n",
       "    </tr>\n",
       "    <tr>\n",
       "      <th>std</th>\n",
       "      <td>3.058943e+05</td>\n",
       "      <td>0.292512</td>\n",
       "      <td>22.068427</td>\n",
       "    </tr>\n",
       "    <tr>\n",
       "      <th>min</th>\n",
       "      <td>3.359820e+05</td>\n",
       "      <td>0.000000</td>\n",
       "      <td>1.000000</td>\n",
       "    </tr>\n",
       "    <tr>\n",
       "      <th>25%</th>\n",
       "      <td>5.012278e+05</td>\n",
       "      <td>0.000000</td>\n",
       "      <td>6.000000</td>\n",
       "    </tr>\n",
       "    <tr>\n",
       "      <th>50%</th>\n",
       "      <td>7.292980e+05</td>\n",
       "      <td>0.000000</td>\n",
       "      <td>8.000000</td>\n",
       "    </tr>\n",
       "    <tr>\n",
       "      <th>75%</th>\n",
       "      <td>1.082626e+06</td>\n",
       "      <td>0.000000</td>\n",
       "      <td>19.500000</td>\n",
       "    </tr>\n",
       "    <tr>\n",
       "      <th>max</th>\n",
       "      <td>1.237181e+06</td>\n",
       "      <td>1.000000</td>\n",
       "      <td>146.000000</td>\n",
       "    </tr>\n",
       "  </tbody>\n",
       "</table>\n",
       "</div>"
      ],
      "text/plain": [
       "                 id  neutral_venue  result_margin\n",
       "count  8.160000e+02     816.000000     799.000000\n",
       "mean   7.563496e+05       0.094363      17.321652\n",
       "std    3.058943e+05       0.292512      22.068427\n",
       "min    3.359820e+05       0.000000       1.000000\n",
       "25%    5.012278e+05       0.000000       6.000000\n",
       "50%    7.292980e+05       0.000000       8.000000\n",
       "75%    1.082626e+06       0.000000      19.500000\n",
       "max    1.237181e+06       1.000000     146.000000"
      ]
     },
     "execution_count": 89,
     "metadata": {},
     "output_type": "execute_result"
    }
   ],
   "source": [
    "match_data.describe()"
   ]
  },
  {
   "cell_type": "code",
   "execution_count": 90,
   "id": "553bf595",
   "metadata": {},
   "outputs": [
    {
     "data": {
      "text/html": [
       "<div>\n",
       "<style scoped>\n",
       "    .dataframe tbody tr th:only-of-type {\n",
       "        vertical-align: middle;\n",
       "    }\n",
       "\n",
       "    .dataframe tbody tr th {\n",
       "        vertical-align: top;\n",
       "    }\n",
       "\n",
       "    .dataframe thead th {\n",
       "        text-align: right;\n",
       "    }\n",
       "</style>\n",
       "<table border=\"1\" class=\"dataframe\">\n",
       "  <thead>\n",
       "    <tr style=\"text-align: right;\">\n",
       "      <th></th>\n",
       "      <th>id</th>\n",
       "      <th>inning</th>\n",
       "      <th>over</th>\n",
       "      <th>ball</th>\n",
       "      <th>batsman_runs</th>\n",
       "      <th>extra_runs</th>\n",
       "      <th>total_runs</th>\n",
       "      <th>non_boundary</th>\n",
       "      <th>is_wicket</th>\n",
       "    </tr>\n",
       "  </thead>\n",
       "  <tbody>\n",
       "    <tr>\n",
       "      <th>count</th>\n",
       "      <td>1.934680e+05</td>\n",
       "      <td>193468.000000</td>\n",
       "      <td>193468.000000</td>\n",
       "      <td>193468.000000</td>\n",
       "      <td>193468.000000</td>\n",
       "      <td>193468.000000</td>\n",
       "      <td>193468.000000</td>\n",
       "      <td>193468.000000</td>\n",
       "      <td>193468.000000</td>\n",
       "    </tr>\n",
       "    <tr>\n",
       "      <th>mean</th>\n",
       "      <td>7.567688e+05</td>\n",
       "      <td>1.482131</td>\n",
       "      <td>9.177027</td>\n",
       "      <td>3.615967</td>\n",
       "      <td>1.240231</td>\n",
       "      <td>0.066414</td>\n",
       "      <td>1.306645</td>\n",
       "      <td>0.000083</td>\n",
       "      <td>0.049078</td>\n",
       "    </tr>\n",
       "    <tr>\n",
       "      <th>std</th>\n",
       "      <td>3.060971e+05</td>\n",
       "      <td>0.499682</td>\n",
       "      <td>5.676848</td>\n",
       "      <td>1.807128</td>\n",
       "      <td>1.610867</td>\n",
       "      <td>0.339991</td>\n",
       "      <td>1.598802</td>\n",
       "      <td>0.009094</td>\n",
       "      <td>0.216031</td>\n",
       "    </tr>\n",
       "    <tr>\n",
       "      <th>min</th>\n",
       "      <td>3.359820e+05</td>\n",
       "      <td>1.000000</td>\n",
       "      <td>0.000000</td>\n",
       "      <td>1.000000</td>\n",
       "      <td>0.000000</td>\n",
       "      <td>0.000000</td>\n",
       "      <td>0.000000</td>\n",
       "      <td>0.000000</td>\n",
       "      <td>0.000000</td>\n",
       "    </tr>\n",
       "    <tr>\n",
       "      <th>25%</th>\n",
       "      <td>5.012270e+05</td>\n",
       "      <td>1.000000</td>\n",
       "      <td>4.000000</td>\n",
       "      <td>2.000000</td>\n",
       "      <td>0.000000</td>\n",
       "      <td>0.000000</td>\n",
       "      <td>0.000000</td>\n",
       "      <td>0.000000</td>\n",
       "      <td>0.000000</td>\n",
       "    </tr>\n",
       "    <tr>\n",
       "      <th>50%</th>\n",
       "      <td>7.292970e+05</td>\n",
       "      <td>1.000000</td>\n",
       "      <td>9.000000</td>\n",
       "      <td>4.000000</td>\n",
       "      <td>1.000000</td>\n",
       "      <td>0.000000</td>\n",
       "      <td>1.000000</td>\n",
       "      <td>0.000000</td>\n",
       "      <td>0.000000</td>\n",
       "    </tr>\n",
       "    <tr>\n",
       "      <th>75%</th>\n",
       "      <td>1.082628e+06</td>\n",
       "      <td>2.000000</td>\n",
       "      <td>14.000000</td>\n",
       "      <td>5.000000</td>\n",
       "      <td>1.000000</td>\n",
       "      <td>0.000000</td>\n",
       "      <td>1.000000</td>\n",
       "      <td>0.000000</td>\n",
       "      <td>0.000000</td>\n",
       "    </tr>\n",
       "    <tr>\n",
       "      <th>max</th>\n",
       "      <td>1.237181e+06</td>\n",
       "      <td>2.000000</td>\n",
       "      <td>19.000000</td>\n",
       "      <td>9.000000</td>\n",
       "      <td>6.000000</td>\n",
       "      <td>7.000000</td>\n",
       "      <td>7.000000</td>\n",
       "      <td>1.000000</td>\n",
       "      <td>1.000000</td>\n",
       "    </tr>\n",
       "  </tbody>\n",
       "</table>\n",
       "</div>"
      ],
      "text/plain": [
       "                 id         inning           over           ball  \\\n",
       "count  1.934680e+05  193468.000000  193468.000000  193468.000000   \n",
       "mean   7.567688e+05       1.482131       9.177027       3.615967   \n",
       "std    3.060971e+05       0.499682       5.676848       1.807128   \n",
       "min    3.359820e+05       1.000000       0.000000       1.000000   \n",
       "25%    5.012270e+05       1.000000       4.000000       2.000000   \n",
       "50%    7.292970e+05       1.000000       9.000000       4.000000   \n",
       "75%    1.082628e+06       2.000000      14.000000       5.000000   \n",
       "max    1.237181e+06       2.000000      19.000000       9.000000   \n",
       "\n",
       "        batsman_runs     extra_runs     total_runs   non_boundary  \\\n",
       "count  193468.000000  193468.000000  193468.000000  193468.000000   \n",
       "mean        1.240231       0.066414       1.306645       0.000083   \n",
       "std         1.610867       0.339991       1.598802       0.009094   \n",
       "min         0.000000       0.000000       0.000000       0.000000   \n",
       "25%         0.000000       0.000000       0.000000       0.000000   \n",
       "50%         1.000000       0.000000       1.000000       0.000000   \n",
       "75%         1.000000       0.000000       1.000000       0.000000   \n",
       "max         6.000000       7.000000       7.000000       1.000000   \n",
       "\n",
       "           is_wicket  \n",
       "count  193468.000000  \n",
       "mean        0.049078  \n",
       "std         0.216031  \n",
       "min         0.000000  \n",
       "25%         0.000000  \n",
       "50%         0.000000  \n",
       "75%         0.000000  \n",
       "max         1.000000  "
      ]
     },
     "execution_count": 90,
     "metadata": {},
     "output_type": "execute_result"
    }
   ],
   "source": [
    "df_deliveries_data.describe()"
   ]
  },
  {
   "cell_type": "markdown",
   "id": "eb2a84fb",
   "metadata": {},
   "source": [
    "INFO FUNCTION"
   ]
  },
  {
   "cell_type": "code",
   "execution_count": 91,
   "id": "6a11587f",
   "metadata": {},
   "outputs": [
    {
     "name": "stdout",
     "output_type": "stream",
     "text": [
      "<class 'pandas.core.frame.DataFrame'>\n",
      "RangeIndex: 816 entries, 0 to 815\n",
      "Data columns (total 17 columns):\n",
      " #   Column           Non-Null Count  Dtype  \n",
      "---  ------           --------------  -----  \n",
      " 0   id               816 non-null    int64  \n",
      " 1   city             803 non-null    object \n",
      " 2   date             816 non-null    object \n",
      " 3   player_of_match  812 non-null    object \n",
      " 4   venue            816 non-null    object \n",
      " 5   neutral_venue    816 non-null    int64  \n",
      " 6   team1            816 non-null    object \n",
      " 7   team2            816 non-null    object \n",
      " 8   toss_winner      816 non-null    object \n",
      " 9   toss_decision    816 non-null    object \n",
      " 10  winner           812 non-null    object \n",
      " 11  result           812 non-null    object \n",
      " 12  result_margin    799 non-null    float64\n",
      " 13  eliminator       812 non-null    object \n",
      " 14  method           19 non-null     object \n",
      " 15  umpire1          816 non-null    object \n",
      " 16  umpire2          816 non-null    object \n",
      "dtypes: float64(1), int64(2), object(14)\n",
      "memory usage: 108.5+ KB\n"
     ]
    }
   ],
   "source": [
    "match_data.info()"
   ]
  },
  {
   "cell_type": "code",
   "execution_count": 92,
   "id": "49742192",
   "metadata": {},
   "outputs": [
    {
     "name": "stdout",
     "output_type": "stream",
     "text": [
      "<class 'pandas.core.frame.DataFrame'>\n",
      "RangeIndex: 193468 entries, 0 to 193467\n",
      "Data columns (total 18 columns):\n",
      " #   Column            Non-Null Count   Dtype \n",
      "---  ------            --------------   ----- \n",
      " 0   id                193468 non-null  int64 \n",
      " 1   inning            193468 non-null  int64 \n",
      " 2   over              193468 non-null  int64 \n",
      " 3   ball              193468 non-null  int64 \n",
      " 4   batsman           193468 non-null  object\n",
      " 5   non_striker       193468 non-null  object\n",
      " 6   bowler            193468 non-null  object\n",
      " 7   batsman_runs      193468 non-null  int64 \n",
      " 8   extra_runs        193468 non-null  int64 \n",
      " 9   total_runs        193468 non-null  int64 \n",
      " 10  non_boundary      193468 non-null  int64 \n",
      " 11  is_wicket         193468 non-null  int64 \n",
      " 12  dismissal_kind    9495 non-null    object\n",
      " 13  player_dismissed  9495 non-null    object\n",
      " 14  fielder           6784 non-null    object\n",
      " 15  extras_type       10233 non-null   object\n",
      " 16  batting_team      193468 non-null  object\n",
      " 17  bowling_team      193277 non-null  object\n",
      "dtypes: int64(9), object(9)\n",
      "memory usage: 26.6+ MB\n"
     ]
    }
   ],
   "source": [
    "df_deliveries_data.info()"
   ]
  },
  {
   "cell_type": "markdown",
   "id": "d9a6ba33",
   "metadata": {},
   "source": [
    "SHAPE"
   ]
  },
  {
   "cell_type": "code",
   "execution_count": 93,
   "id": "97e38960",
   "metadata": {},
   "outputs": [
    {
     "data": {
      "text/plain": [
       "(816, 17)"
      ]
     },
     "execution_count": 93,
     "metadata": {},
     "output_type": "execute_result"
    }
   ],
   "source": [
    "match_data.shape"
   ]
  },
  {
   "cell_type": "code",
   "execution_count": 94,
   "id": "c26cd971",
   "metadata": {},
   "outputs": [
    {
     "data": {
      "text/plain": [
       "(193468, 18)"
      ]
     },
     "execution_count": 94,
     "metadata": {},
     "output_type": "execute_result"
    }
   ],
   "source": [
    "df_deliveries_data.shape"
   ]
  },
  {
   "cell_type": "code",
   "execution_count": 95,
   "id": "e86b3892",
   "metadata": {},
   "outputs": [
    {
     "data": {
      "text/plain": [
       "816"
      ]
     },
     "execution_count": 95,
     "metadata": {},
     "output_type": "execute_result"
    }
   ],
   "source": [
    "match_data.shape[0]"
   ]
  },
  {
   "cell_type": "markdown",
   "id": "3f80a34e",
   "metadata": {},
   "source": [
    "COUNT OF VENUE"
   ]
  },
  {
   "cell_type": "code",
   "execution_count": 96,
   "id": "a84b1376",
   "metadata": {},
   "outputs": [
    {
     "data": {
      "text/html": [
       "<div>\n",
       "<style scoped>\n",
       "    .dataframe tbody tr th:only-of-type {\n",
       "        vertical-align: middle;\n",
       "    }\n",
       "\n",
       "    .dataframe tbody tr th {\n",
       "        vertical-align: top;\n",
       "    }\n",
       "\n",
       "    .dataframe thead th {\n",
       "        text-align: right;\n",
       "    }\n",
       "</style>\n",
       "<table border=\"1\" class=\"dataframe\">\n",
       "  <thead>\n",
       "    <tr style=\"text-align: right;\">\n",
       "      <th></th>\n",
       "      <th>id</th>\n",
       "      <th>city</th>\n",
       "      <th>date</th>\n",
       "      <th>player_of_match</th>\n",
       "      <th>venue</th>\n",
       "      <th>neutral_venue</th>\n",
       "      <th>team1</th>\n",
       "      <th>team2</th>\n",
       "      <th>toss_winner</th>\n",
       "      <th>toss_decision</th>\n",
       "      <th>winner</th>\n",
       "      <th>result</th>\n",
       "      <th>result_margin</th>\n",
       "      <th>eliminator</th>\n",
       "      <th>method</th>\n",
       "      <th>umpire1</th>\n",
       "      <th>umpire2</th>\n",
       "    </tr>\n",
       "  </thead>\n",
       "  <tbody>\n",
       "    <tr>\n",
       "      <th>0</th>\n",
       "      <td>335982</td>\n",
       "      <td>Bangalore</td>\n",
       "      <td>2008-04-18</td>\n",
       "      <td>BB McCullum</td>\n",
       "      <td>M Chinnaswamy Stadium</td>\n",
       "      <td>0</td>\n",
       "      <td>Royal Challengers Bangalore</td>\n",
       "      <td>Kolkata Knight Riders</td>\n",
       "      <td>Royal Challengers Bangalore</td>\n",
       "      <td>field</td>\n",
       "      <td>Kolkata Knight Riders</td>\n",
       "      <td>runs</td>\n",
       "      <td>140.0</td>\n",
       "      <td>N</td>\n",
       "      <td>NaN</td>\n",
       "      <td>Asad Rauf</td>\n",
       "      <td>RE Koertzen</td>\n",
       "    </tr>\n",
       "    <tr>\n",
       "      <th>1</th>\n",
       "      <td>335983</td>\n",
       "      <td>Chandigarh</td>\n",
       "      <td>2008-04-19</td>\n",
       "      <td>MEK Hussey</td>\n",
       "      <td>Punjab Cricket Association Stadium, Mohali</td>\n",
       "      <td>0</td>\n",
       "      <td>Kings XI Punjab</td>\n",
       "      <td>Chennai Super Kings</td>\n",
       "      <td>Chennai Super Kings</td>\n",
       "      <td>bat</td>\n",
       "      <td>Chennai Super Kings</td>\n",
       "      <td>runs</td>\n",
       "      <td>33.0</td>\n",
       "      <td>N</td>\n",
       "      <td>NaN</td>\n",
       "      <td>MR Benson</td>\n",
       "      <td>SL Shastri</td>\n",
       "    </tr>\n",
       "    <tr>\n",
       "      <th>2</th>\n",
       "      <td>335984</td>\n",
       "      <td>Delhi</td>\n",
       "      <td>2008-04-19</td>\n",
       "      <td>MF Maharoof</td>\n",
       "      <td>Feroz Shah Kotla</td>\n",
       "      <td>0</td>\n",
       "      <td>Delhi Daredevils</td>\n",
       "      <td>Rajasthan Royals</td>\n",
       "      <td>Rajasthan Royals</td>\n",
       "      <td>bat</td>\n",
       "      <td>Delhi Daredevils</td>\n",
       "      <td>wickets</td>\n",
       "      <td>9.0</td>\n",
       "      <td>N</td>\n",
       "      <td>NaN</td>\n",
       "      <td>Aleem Dar</td>\n",
       "      <td>GA Pratapkumar</td>\n",
       "    </tr>\n",
       "    <tr>\n",
       "      <th>3</th>\n",
       "      <td>335985</td>\n",
       "      <td>Mumbai</td>\n",
       "      <td>2008-04-20</td>\n",
       "      <td>MV Boucher</td>\n",
       "      <td>Wankhede Stadium</td>\n",
       "      <td>0</td>\n",
       "      <td>Mumbai Indians</td>\n",
       "      <td>Royal Challengers Bangalore</td>\n",
       "      <td>Mumbai Indians</td>\n",
       "      <td>bat</td>\n",
       "      <td>Royal Challengers Bangalore</td>\n",
       "      <td>wickets</td>\n",
       "      <td>5.0</td>\n",
       "      <td>N</td>\n",
       "      <td>NaN</td>\n",
       "      <td>SJ Davis</td>\n",
       "      <td>DJ Harper</td>\n",
       "    </tr>\n",
       "  </tbody>\n",
       "</table>\n",
       "</div>"
      ],
      "text/plain": [
       "       id        city        date player_of_match  \\\n",
       "0  335982   Bangalore  2008-04-18     BB McCullum   \n",
       "1  335983  Chandigarh  2008-04-19      MEK Hussey   \n",
       "2  335984       Delhi  2008-04-19     MF Maharoof   \n",
       "3  335985      Mumbai  2008-04-20      MV Boucher   \n",
       "\n",
       "                                        venue  neutral_venue  \\\n",
       "0                       M Chinnaswamy Stadium              0   \n",
       "1  Punjab Cricket Association Stadium, Mohali              0   \n",
       "2                            Feroz Shah Kotla              0   \n",
       "3                            Wankhede Stadium              0   \n",
       "\n",
       "                         team1                        team2  \\\n",
       "0  Royal Challengers Bangalore        Kolkata Knight Riders   \n",
       "1              Kings XI Punjab          Chennai Super Kings   \n",
       "2             Delhi Daredevils             Rajasthan Royals   \n",
       "3               Mumbai Indians  Royal Challengers Bangalore   \n",
       "\n",
       "                   toss_winner toss_decision                       winner  \\\n",
       "0  Royal Challengers Bangalore         field        Kolkata Knight Riders   \n",
       "1          Chennai Super Kings           bat          Chennai Super Kings   \n",
       "2             Rajasthan Royals           bat             Delhi Daredevils   \n",
       "3               Mumbai Indians           bat  Royal Challengers Bangalore   \n",
       "\n",
       "    result  result_margin eliminator method    umpire1         umpire2  \n",
       "0     runs          140.0          N    NaN  Asad Rauf     RE Koertzen  \n",
       "1     runs           33.0          N    NaN  MR Benson      SL Shastri  \n",
       "2  wickets            9.0          N    NaN  Aleem Dar  GA Pratapkumar  \n",
       "3  wickets            5.0          N    NaN   SJ Davis       DJ Harper  "
      ]
     },
     "execution_count": 96,
     "metadata": {},
     "output_type": "execute_result"
    }
   ],
   "source": [
    "match_data.head(4)"
   ]
  },
  {
   "cell_type": "code",
   "execution_count": 97,
   "id": "b0de505b",
   "metadata": {},
   "outputs": [
    {
     "data": {
      "text/plain": [
       "venue\n",
       "Eden Gardens                                            77\n",
       "Feroz Shah Kotla                                        74\n",
       "Wankhede Stadium                                        73\n",
       "M Chinnaswamy Stadium                                   65\n",
       "Rajiv Gandhi International Stadium, Uppal               64\n",
       "MA Chidambaram Stadium, Chepauk                         57\n",
       "Sawai Mansingh Stadium                                  47\n",
       "Punjab Cricket Association Stadium, Mohali              35\n",
       "Dubai International Cricket Stadium                     33\n",
       "Sheikh Zayed Stadium                                    29\n",
       "Maharashtra Cricket Association Stadium                 21\n",
       "Punjab Cricket Association IS Bindra Stadium, Mohali    21\n",
       "Sharjah Cricket Stadium                                 18\n",
       "Dr DY Patil Sports Academy                              17\n",
       "Subrata Roy Sahara Stadium                              17\n",
       "M.Chinnaswamy Stadium                                   15\n",
       "Kingsmead                                               15\n",
       "Dr. Y.S. Rajasekhara Reddy ACA-VDCA Cricket Stadium     13\n",
       "Sardar Patel Stadium, Motera                            12\n",
       "SuperSport Park                                         12\n",
       "Brabourne Stadium                                       11\n",
       "Saurashtra Cricket Association Stadium                  10\n",
       "Holkar Cricket Stadium                                   9\n",
       "Himachal Pradesh Cricket Association Stadium             9\n",
       "New Wanderers Stadium                                    8\n",
       "St George's Park                                         7\n",
       "Newlands                                                 7\n",
       "Barabati Stadium                                         7\n",
       "JSCA International Stadium Complex                       7\n",
       "Shaheed Veer Narayan Singh International Stadium         6\n",
       "Nehru Stadium                                            5\n",
       "Green Park                                               4\n",
       "Buffalo Park                                             3\n",
       "De Beers Diamond Oval                                    3\n",
       "Vidarbha Cricket Association Stadium, Jamtha             3\n",
       "OUTsurance Oval                                          2\n",
       "Name: count, dtype: int64"
      ]
     },
     "execution_count": 97,
     "metadata": {},
     "output_type": "execute_result"
    }
   ],
   "source": [
    "match_data['venue'].value_counts()"
   ]
  },
  {
   "cell_type": "markdown",
   "id": "7df43d3c",
   "metadata": {},
   "source": [
    "TOTAL NUMBER OF STADIUM NAME"
   ]
  },
  {
   "cell_type": "code",
   "execution_count": 98,
   "id": "ab088030",
   "metadata": {},
   "outputs": [
    {
     "data": {
      "text/plain": [
       "array(['M Chinnaswamy Stadium',\n",
       "       'Punjab Cricket Association Stadium, Mohali', 'Feroz Shah Kotla',\n",
       "       'Wankhede Stadium', 'Eden Gardens', 'Sawai Mansingh Stadium',\n",
       "       'Rajiv Gandhi International Stadium, Uppal',\n",
       "       'MA Chidambaram Stadium, Chepauk', 'Dr DY Patil Sports Academy',\n",
       "       'Newlands', \"St George's Park\", 'Kingsmead', 'SuperSport Park',\n",
       "       'Buffalo Park', 'New Wanderers Stadium', 'De Beers Diamond Oval',\n",
       "       'OUTsurance Oval', 'Brabourne Stadium',\n",
       "       'Sardar Patel Stadium, Motera', 'Barabati Stadium',\n",
       "       'Vidarbha Cricket Association Stadium, Jamtha',\n",
       "       'Himachal Pradesh Cricket Association Stadium', 'Nehru Stadium',\n",
       "       'Holkar Cricket Stadium',\n",
       "       'Dr. Y.S. Rajasekhara Reddy ACA-VDCA Cricket Stadium',\n",
       "       'Subrata Roy Sahara Stadium',\n",
       "       'Shaheed Veer Narayan Singh International Stadium',\n",
       "       'JSCA International Stadium Complex', 'Sheikh Zayed Stadium',\n",
       "       'Sharjah Cricket Stadium', 'Dubai International Cricket Stadium',\n",
       "       'Maharashtra Cricket Association Stadium',\n",
       "       'Punjab Cricket Association IS Bindra Stadium, Mohali',\n",
       "       'Saurashtra Cricket Association Stadium', 'Green Park',\n",
       "       'M.Chinnaswamy Stadium'], dtype=object)"
      ]
     },
     "execution_count": 98,
     "metadata": {},
     "output_type": "execute_result"
    }
   ],
   "source": [
    "match_data['venue'].unique()"
   ]
  },
  {
   "cell_type": "markdown",
   "id": "2cde8111",
   "metadata": {},
   "source": [
    "NUMBER OF UNIQUE VALUE => UNUNIQUE()"
   ]
  },
  {
   "cell_type": "markdown",
   "id": "f94f2044",
   "metadata": {},
   "source": [
    "DATA VALUE => UNIQUE()"
   ]
  },
  {
   "cell_type": "markdown",
   "id": "e5c66bdc",
   "metadata": {},
   "source": [
    "TOTAL NUMBER OF STADIUM COUNT"
   ]
  },
  {
   "cell_type": "code",
   "execution_count": 99,
   "id": "5495b7ff",
   "metadata": {},
   "outputs": [
    {
     "data": {
      "text/plain": [
       "36"
      ]
     },
     "execution_count": 99,
     "metadata": {},
     "output_type": "execute_result"
    }
   ],
   "source": [
    "match_data['venue'].nunique()"
   ]
  },
  {
   "cell_type": "markdown",
   "id": "86651246",
   "metadata": {},
   "source": [
    "TO SHOW NUMBER OF COLUMNS"
   ]
  },
  {
   "cell_type": "code",
   "execution_count": 100,
   "id": "16e82f75",
   "metadata": {},
   "outputs": [
    {
     "data": {
      "text/plain": [
       "Index(['id', 'city', 'date', 'player_of_match', 'venue', 'neutral_venue',\n",
       "       'team1', 'team2', 'toss_winner', 'toss_decision', 'winner', 'result',\n",
       "       'result_margin', 'eliminator', 'method', 'umpire1', 'umpire2'],\n",
       "      dtype='object')"
      ]
     },
     "execution_count": 100,
     "metadata": {},
     "output_type": "execute_result"
    }
   ],
   "source": [
    "match_data.columns"
   ]
  },
  {
   "cell_type": "markdown",
   "id": "b346aebc",
   "metadata": {},
   "source": []
  },
  {
   "cell_type": "code",
   "execution_count": 101,
   "id": "36c3a87b",
   "metadata": {},
   "outputs": [
    {
     "data": {
      "text/plain": [
       "0      Royal Challengers Bangalore\n",
       "1              Chennai Super Kings\n",
       "2                 Rajasthan Royals\n",
       "3                   Mumbai Indians\n",
       "4                  Deccan Chargers\n",
       "                  ...             \n",
       "811                 Mumbai Indians\n",
       "812                 Delhi Capitals\n",
       "813            Sunrisers Hyderabad\n",
       "814                 Delhi Capitals\n",
       "815                 Delhi Capitals\n",
       "Name: toss_winner, Length: 816, dtype: object"
      ]
     },
     "execution_count": 101,
     "metadata": {},
     "output_type": "execute_result"
    }
   ],
   "source": [
    "match_data['toss_winner']"
   ]
  },
  {
   "cell_type": "code",
   "execution_count": 102,
   "id": "6dc8adb7",
   "metadata": {},
   "outputs": [
    {
     "data": {
      "text/plain": [
       "toss_winner\n",
       "Mumbai Indians                 106\n",
       "Kolkata Knight Riders           98\n",
       "Chennai Super Kings             97\n",
       "Rajasthan Royals                87\n",
       "Royal Challengers Bangalore     87\n",
       "Kings XI Punjab                 85\n",
       "Delhi Daredevils                80\n",
       "Sunrisers Hyderabad             57\n",
       "Deccan Chargers                 43\n",
       "Pune Warriors                   20\n",
       "Delhi Capitals                  20\n",
       "Gujarat Lions                   15\n",
       "Kochi Tuskers Kerala             8\n",
       "Rising Pune Supergiants          7\n",
       "Rising Pune Supergiant           6\n",
       "Name: count, dtype: int64"
      ]
     },
     "execution_count": 102,
     "metadata": {},
     "output_type": "execute_result"
    }
   ],
   "source": [
    "match_data['toss_winner'].value_counts()"
   ]
  },
  {
   "cell_type": "code",
   "execution_count": 103,
   "id": "2671c928",
   "metadata": {},
   "outputs": [
    {
     "data": {
      "text/plain": [
       "toss_winner\n",
       "Mumbai Indians                 106\n",
       "Kolkata Knight Riders           98\n",
       "Chennai Super Kings             97\n",
       "Rajasthan Royals                87\n",
       "Royal Challengers Bangalore     87\n",
       "Name: count, dtype: int64"
      ]
     },
     "execution_count": 103,
     "metadata": {},
     "output_type": "execute_result"
    }
   ],
   "source": [
    "match_data['toss_winner'].value_counts().head()"
   ]
  },
  {
   "cell_type": "markdown",
   "id": "69e1dce7",
   "metadata": {},
   "source": [
    "NAME AND COUNT OF THE TEAM HOW WON THE MAXIMUM NUMBER OF TOSS"
   ]
  },
  {
   "cell_type": "code",
   "execution_count": 104,
   "id": "baf6d2be",
   "metadata": {},
   "outputs": [
    {
     "data": {
      "text/plain": [
       "toss_winner\n",
       "Mumbai Indians    106\n",
       "Name: count, dtype: int64"
      ]
     },
     "execution_count": 104,
     "metadata": {},
     "output_type": "execute_result"
    }
   ],
   "source": [
    "match_data['toss_winner'].value_counts().head(1)"
   ]
  },
  {
   "cell_type": "markdown",
   "id": "f83b9dc4",
   "metadata": {},
   "source": [
    "NAME THE TEAM HOW WON THE MAXIMUM NUMBER OF TOSS"
   ]
  },
  {
   "cell_type": "code",
   "execution_count": 105,
   "id": "b2af5cca",
   "metadata": {},
   "outputs": [
    {
     "data": {
      "text/plain": [
       "'Mumbai Indians'"
      ]
     },
     "execution_count": 105,
     "metadata": {},
     "output_type": "execute_result"
    }
   ],
   "source": [
    "match_data['toss_winner'].value_counts().head().index[0]"
   ]
  },
  {
   "cell_type": "markdown",
   "id": "5e363387",
   "metadata": {},
   "source": [
    "CHEAK THE NULL VALUE"
   ]
  },
  {
   "cell_type": "code",
   "execution_count": 106,
   "id": "4348ead1",
   "metadata": {},
   "outputs": [
    {
     "data": {
      "text/plain": [
       "id\n",
       "False    816\n",
       "Name: count, dtype: int64"
      ]
     },
     "execution_count": 106,
     "metadata": {},
     "output_type": "execute_result"
    }
   ],
   "source": [
    "match_data['id'].isnull().value_counts()"
   ]
  },
  {
   "cell_type": "markdown",
   "id": "c24b4ab8",
   "metadata": {},
   "source": [
    "TO SUM ALL THE NULL VALUES"
   ]
  },
  {
   "cell_type": "code",
   "execution_count": 107,
   "id": "1ae460be",
   "metadata": {},
   "outputs": [
    {
     "data": {
      "text/plain": [
       "np.int64(0)"
      ]
     },
     "execution_count": 107,
     "metadata": {},
     "output_type": "execute_result"
    }
   ],
   "source": [
    "match_data['id'].isnull().sum()"
   ]
  },
  {
   "cell_type": "code",
   "execution_count": 108,
   "id": "9e1cd00c",
   "metadata": {},
   "outputs": [
    {
     "data": {
      "text/plain": [
       "city\n",
       "False    803\n",
       "True      13\n",
       "Name: count, dtype: int64"
      ]
     },
     "execution_count": 108,
     "metadata": {},
     "output_type": "execute_result"
    }
   ],
   "source": [
    "match_data['city'].isnull().value_counts()"
   ]
  },
  {
   "cell_type": "markdown",
   "id": "5e5178a6",
   "metadata": {},
   "source": []
  },
  {
   "cell_type": "code",
   "execution_count": 109,
   "id": "a03876dc",
   "metadata": {},
   "outputs": [
    {
     "data": {
      "text/plain": [
       "np.int64(13)"
      ]
     },
     "execution_count": 109,
     "metadata": {},
     "output_type": "execute_result"
    }
   ],
   "source": [
    "match_data['city'].isnull().sum()"
   ]
  },
  {
   "cell_type": "markdown",
   "id": "8c795f67",
   "metadata": {},
   "source": [
    "TO SHOW ALL THE COLUMNS NUMBER OF NULL VALUE"
   ]
  },
  {
   "cell_type": "code",
   "execution_count": 110,
   "id": "b7ced90b",
   "metadata": {},
   "outputs": [
    {
     "data": {
      "text/plain": [
       "id     city   date   player_of_match  venue  neutral_venue  team1  team2  toss_winner  toss_decision  winner  result  result_margin  eliminator  method  umpire1  umpire2\n",
       "False  False  False  False            False  False          False  False  False        False          False   False   False          False       True    False    False      767\n",
       "                                                                                                                                                 False   False    False       19\n",
       "                                                                                                                      True           False       True    False    False       13\n",
       "       True   False  False            False  False          False  False  False        False          False   False   False          False       True    False    False       13\n",
       "       False  False  True             False  False          False  False  False        False          True    True    True           True        True    False    False        4\n",
       "Name: count, dtype: int64"
      ]
     },
     "execution_count": 110,
     "metadata": {},
     "output_type": "execute_result"
    }
   ],
   "source": [
    "match_data.isnull().value_counts()"
   ]
  },
  {
   "cell_type": "code",
   "execution_count": 111,
   "id": "f1f63322",
   "metadata": {},
   "outputs": [
    {
     "data": {
      "text/plain": [
       "id                   0\n",
       "city                13\n",
       "date                 0\n",
       "player_of_match      4\n",
       "venue                0\n",
       "neutral_venue        0\n",
       "team1                0\n",
       "team2                0\n",
       "toss_winner          0\n",
       "toss_decision        0\n",
       "winner               4\n",
       "result               4\n",
       "result_margin       17\n",
       "eliminator           4\n",
       "method             797\n",
       "umpire1              0\n",
       "umpire2              0\n",
       "dtype: int64"
      ]
     },
     "execution_count": 111,
     "metadata": {},
     "output_type": "execute_result"
    }
   ],
   "source": [
    "match_data.isnull().sum()"
   ]
  },
  {
   "cell_type": "markdown",
   "id": "7d231add",
   "metadata": {},
   "source": [
    "TO DROP COLUMNS"
   ]
  },
  {
   "cell_type": "code",
   "execution_count": 112,
   "id": "501265b3",
   "metadata": {},
   "outputs": [
    {
     "data": {
      "text/plain": [
       "<bound method Series.drop of 0       335982\n",
       "1       335983\n",
       "2       335984\n",
       "3       335985\n",
       "4       335986\n",
       "        ...   \n",
       "811    1216547\n",
       "812    1237177\n",
       "813    1237178\n",
       "814    1237180\n",
       "815    1237181\n",
       "Name: id, Length: 816, dtype: int64>"
      ]
     },
     "execution_count": 112,
     "metadata": {},
     "output_type": "execute_result"
    }
   ],
   "source": [
    "match_data['id'].drop"
   ]
  },
  {
   "cell_type": "markdown",
   "id": "6f5add00",
   "metadata": {},
   "source": [
    "TO DROP NULL VALUES"
   ]
  },
  {
   "cell_type": "markdown",
   "id": "69c3945d",
   "metadata": {},
   "source": [
    "=>DELETE THE WHOLE ROW"
   ]
  },
  {
   "cell_type": "code",
   "execution_count": 113,
   "id": "3766c7ac",
   "metadata": {},
   "outputs": [
    {
     "data": {
      "text/plain": [
       "id                   0\n",
       "city                13\n",
       "date                 0\n",
       "player_of_match      0\n",
       "venue                0\n",
       "neutral_venue        0\n",
       "team1                0\n",
       "team2                0\n",
       "toss_winner          0\n",
       "toss_decision        0\n",
       "winner               0\n",
       "result               0\n",
       "result_margin       13\n",
       "eliminator           0\n",
       "method             793\n",
       "umpire1              0\n",
       "umpire2              0\n",
       "dtype: int64"
      ]
     },
     "execution_count": 113,
     "metadata": {},
     "output_type": "execute_result"
    }
   ],
   "source": [
    "match_data.dropna(subset=\"winner\").isnull().sum()"
   ]
  },
  {
   "cell_type": "code",
   "execution_count": 114,
   "id": "5d4d0ca5",
   "metadata": {},
   "outputs": [
    {
     "data": {
      "text/plain": [
       "np.int64(4)"
      ]
     },
     "execution_count": 114,
     "metadata": {},
     "output_type": "execute_result"
    }
   ],
   "source": [
    "match_data['winner'].isnull().sum()"
   ]
  },
  {
   "cell_type": "markdown",
   "id": "cd5b26ae",
   "metadata": {},
   "source": [
    "TO CHANGE IN ORIGINAL DAATAFRAME"
   ]
  },
  {
   "cell_type": "code",
   "execution_count": 115,
   "id": "228cd539",
   "metadata": {},
   "outputs": [],
   "source": [
    "match_data.dropna(subset=\"winner\",inplace=True)"
   ]
  },
  {
   "cell_type": "code",
   "execution_count": 116,
   "id": "caedcd76",
   "metadata": {},
   "outputs": [
    {
     "data": {
      "text/plain": [
       "(812, 17)"
      ]
     },
     "execution_count": 116,
     "metadata": {},
     "output_type": "execute_result"
    }
   ],
   "source": [
    "match_data.shape"
   ]
  },
  {
   "cell_type": "code",
   "execution_count": 117,
   "id": "76916803",
   "metadata": {},
   "outputs": [
    {
     "data": {
      "text/plain": [
       "id                   0\n",
       "city                13\n",
       "date                 0\n",
       "player_of_match      0\n",
       "venue                0\n",
       "neutral_venue        0\n",
       "team1                0\n",
       "team2                0\n",
       "toss_winner          0\n",
       "toss_decision        0\n",
       "winner               0\n",
       "result               0\n",
       "result_margin       13\n",
       "eliminator           0\n",
       "method             793\n",
       "umpire1              0\n",
       "umpire2              0\n",
       "dtype: int64"
      ]
     },
     "execution_count": 117,
     "metadata": {},
     "output_type": "execute_result"
    }
   ],
   "source": [
    "match_data.isnull().sum()"
   ]
  },
  {
   "cell_type": "code",
   "execution_count": null,
   "id": "bdf0a892",
   "metadata": {},
   "outputs": [
    {
     "data": {
      "text/plain": [
       "0      2008-04-18\n",
       "1      2008-04-19\n",
       "2      2008-04-19\n",
       "3      2008-04-20\n",
       "4      2008-04-20\n",
       "          ...    \n",
       "811    2020-09-28\n",
       "812    2020-11-05\n",
       "813    2020-11-06\n",
       "814    2020-11-08\n",
       "815    2020-11-10\n",
       "Name: date, Length: 812, dtype: object"
      ]
     },
     "execution_count": 118,
     "metadata": {},
     "output_type": "execute_result"
    }
   ],
   "source": [
    "match_data[\"date\"]"
   ]
  },
  {
   "cell_type": "markdown",
   "id": "0aefe24f",
   "metadata": {},
   "source": [
    "CHANGE DATE IN COLUMN NAME"
   ]
  },
  {
   "cell_type": "code",
   "execution_count": 119,
   "id": "0be989ce",
   "metadata": {},
   "outputs": [],
   "source": [
    "match_data['date']=pd.to_datetime(match_data['date'])"
   ]
  },
  {
   "cell_type": "markdown",
   "id": "2b30cf45",
   "metadata": {},
   "source": [
    "TO CREATE YEAR COLUMN IN SEASON"
   ]
  },
  {
   "cell_type": "code",
   "execution_count": 120,
   "id": "8dd6879c",
   "metadata": {},
   "outputs": [],
   "source": [
    "match_data['season']=match_data['date'].dt.year"
   ]
  },
  {
   "cell_type": "markdown",
   "id": "6f01cedd",
   "metadata": {},
   "source": [
    "CHECK THE SEASON COLUMN IS ADDED "
   ]
  },
  {
   "cell_type": "code",
   "execution_count": 121,
   "id": "dc146eef",
   "metadata": {},
   "outputs": [
    {
     "name": "stdout",
     "output_type": "stream",
     "text": [
      "<class 'pandas.core.frame.DataFrame'>\n",
      "Index: 812 entries, 0 to 815\n",
      "Data columns (total 18 columns):\n",
      " #   Column           Non-Null Count  Dtype         \n",
      "---  ------           --------------  -----         \n",
      " 0   id               812 non-null    int64         \n",
      " 1   city             799 non-null    object        \n",
      " 2   date             812 non-null    datetime64[ns]\n",
      " 3   player_of_match  812 non-null    object        \n",
      " 4   venue            812 non-null    object        \n",
      " 5   neutral_venue    812 non-null    int64         \n",
      " 6   team1            812 non-null    object        \n",
      " 7   team2            812 non-null    object        \n",
      " 8   toss_winner      812 non-null    object        \n",
      " 9   toss_decision    812 non-null    object        \n",
      " 10  winner           812 non-null    object        \n",
      " 11  result           812 non-null    object        \n",
      " 12  result_margin    799 non-null    float64       \n",
      " 13  eliminator       812 non-null    object        \n",
      " 14  method           19 non-null     object        \n",
      " 15  umpire1          812 non-null    object        \n",
      " 16  umpire2          812 non-null    object        \n",
      " 17  season           812 non-null    int32         \n",
      "dtypes: datetime64[ns](1), float64(1), int32(1), int64(2), object(13)\n",
      "memory usage: 117.4+ KB\n"
     ]
    }
   ],
   "source": [
    "match_data.info()"
   ]
  },
  {
   "cell_type": "markdown",
   "id": "b9f3ba09",
   "metadata": {},
   "source": [
    "TO CHEAK THE YEAR NUMBER OF MATCHS PLAYED"
   ]
  },
  {
   "cell_type": "code",
   "execution_count": 122,
   "id": "9f5d0e81",
   "metadata": {},
   "outputs": [],
   "source": [
    "season_matchs=match_data['season'].value_counts().sort_index(ascending=True)"
   ]
  },
  {
   "cell_type": "code",
   "execution_count": 123,
   "id": "68282327",
   "metadata": {},
   "outputs": [
    {
     "data": {
      "text/plain": [
       "season\n",
       "2008    58\n",
       "2009    57\n",
       "2010    60\n",
       "2011    72\n",
       "2012    74\n",
       "2013    76\n",
       "2014    60\n",
       "2015    57\n",
       "2016    60\n",
       "2017    59\n",
       "2018    60\n",
       "2019    59\n",
       "2020    60\n",
       "Name: count, dtype: int64"
      ]
     },
     "execution_count": 123,
     "metadata": {},
     "output_type": "execute_result"
    }
   ],
   "source": [
    "season_matchs"
   ]
  },
  {
   "cell_type": "code",
   "execution_count": 125,
   "id": "1740465f",
   "metadata": {},
   "outputs": [
    {
     "data": {
      "text/plain": [
       "array([58, 57, 60, 72, 74, 76, 60, 57, 60, 59, 60, 59, 60])"
      ]
     },
     "execution_count": 125,
     "metadata": {},
     "output_type": "execute_result"
    }
   ],
   "source": [
    "season_matchs.values"
   ]
  },
  {
   "cell_type": "markdown",
   "id": "0dab312e",
   "metadata": {},
   "source": [
    "# MATPLOTLIB"
   ]
  },
  {
   "cell_type": "markdown",
   "id": "018fb265",
   "metadata": {},
   "source": [
    "BAR PLOT => TO CATIGORIES\n"
   ]
  },
  {
   "cell_type": "markdown",
   "id": "73ca5224",
   "metadata": {},
   "source": [
    "PYPLOT IS A PACKAGE WHICH GIVE ALL FUNCTION OF MATLAB WHICH IS USED FOR MATHEMATICAL FUNCTION"
   ]
  },
  {
   "cell_type": "code",
   "execution_count": 127,
   "id": "efa2cfb9",
   "metadata": {},
   "outputs": [],
   "source": [
    "season_matchs=match_data['season'].value_counts().sort_index()"
   ]
  },
  {
   "cell_type": "code",
   "execution_count": 145,
   "id": "9c18d6af",
   "metadata": {},
   "outputs": [
    {
     "data": {
      "image/png": "[encoded data removed]",
      "text/plain": [
       "<Figure size 640x480 with 1 Axes>"
      ]
     },
     "metadata": {},
     "output_type": "display_data"
    }
   ],
   "source": [
    "plt.bar(season_matchs.index,season_matchs.values,color='orange')\n",
    "plt.show()"
   ]
  },
  {
   "cell_type": "code",
   "execution_count": 144,
   "id": "f4d3033e",
   "metadata": {},
   "outputs": [
    {
     "data": {
      "image/png": "[encoded data removed]",
      "text/plain": [
       "<Figure size 640x480 with 1 Axes>"
      ]
     },
     "metadata": {},
     "output_type": "display_data"
    }
   ],
   "source": [
    "plt.bar(season_matchs.index,season_matchs.values,color='orange')\n",
    "plt.xticks(season_matchs.index,rotation=90)\n",
    "plt.show()"
   ]
  },
  {
   "cell_type": "code",
   "execution_count": 143,
   "id": "4e97767d",
   "metadata": {},
   "outputs": [
    {
     "data": {
      "image/png": "[encoded data removed]",
      "text/plain": [
       "<Figure size 640x480 with 1 Axes>"
      ]
     },
     "metadata": {},
     "output_type": "display_data"
    }
   ],
   "source": [
    "plt.bar(season_matchs.index,season_matchs.values,color='orange')\n",
    "plt.xticks(season_matchs.index,rotation=45)\n",
    "plt.show()"
   ]
  },
  {
   "cell_type": "code",
   "execution_count": 142,
   "id": "c6c157ba",
   "metadata": {},
   "outputs": [
    {
     "data": {
      "image/png": "[encoded data removed]",
      "text/plain": [
       "<Figure size 640x480 with 1 Axes>"
      ]
     },
     "metadata": {},
     "output_type": "display_data"
    }
   ],
   "source": [
    "plt.title(\"TOTAL YEAR MATCHES\")\n",
    "plt.bar(season_matchs.index,season_matchs.values,color='orange')\n",
    "plt.xticks(season_matchs.index,rotation=90)\n",
    "plt.show()"
   ]
  },
  {
   "cell_type": "code",
   "execution_count": 141,
   "id": "cd8e5b3e",
   "metadata": {},
   "outputs": [
    {
     "data": {
      "image/png": "[encoded data removed]",
      "text/plain": [
       "<Figure size 640x480 with 1 Axes>"
      ]
     },
     "metadata": {},
     "output_type": "display_data"
    }
   ],
   "source": [
    "plt.title(\"TOTAL YEAR MATCHES\")\n",
    "plt.bar(season_matchs.index,season_matchs.values,color='orange')\n",
    "plt.xticks(season_matchs.index,rotation=90)\n",
    "plt.xlabel(\"YEAR\")\n",
    "plt.ylabel(\"NUMBER OF MATCHES\")\n",
    "plt.show()"
   ]
  },
  {
   "cell_type": "code",
   "execution_count": 138,
   "id": "4d0ec744",
   "metadata": {},
   "outputs": [
    {
     "data": {
      "image/png": "[encoded data removed]",
      "text/plain": [
       "<Figure size 640x480 with 1 Axes>"
      ]
     },
     "metadata": {},
     "output_type": "display_data"
    }
   ],
   "source": [
    "plt.title(\"TOTAL YEAR MATCHES\")\n",
    "plt.bar(season_matchs.index,season_matchs.values,color='orange')\n",
    "plt.xticks(season_matchs.index,rotation=90)\n",
    "plt.xlabel(\"YEAR\")\n",
    "plt.ylabel(\"NUMBER OF MATCHES\")\n",
    "plt.grid(axis=\"y\")\n",
    "plt.show()"
   ]
  },
  {
   "cell_type": "code",
   "execution_count": 147,
   "id": "1b5f056c",
   "metadata": {},
   "outputs": [],
   "source": [
    "player_series=match_data['player_of_match'].value_counts()[0:3]"
   ]
  },
  {
   "cell_type": "code",
   "execution_count": 148,
   "id": "ca5eb5f2",
   "metadata": {},
   "outputs": [
    {
     "data": {
      "text/plain": [
       "<Axes: xlabel='player_of_match'>"
      ]
     },
     "execution_count": 148,
     "metadata": {},
     "output_type": "execute_result"
    },
    {
     "data": {
      "image/png": "[encoded data removed]",
      "text/plain": [
       "<Figure size 640x480 with 1 Axes>"
      ]
     },
     "metadata": {},
     "output_type": "display_data"
    }
   ],
   "source": [
    "player_series.plot.bar()"
   ]
  },
  {
   "cell_type": "code",
   "execution_count": 149,
   "id": "241f7d22",
   "metadata": {},
   "outputs": [
    {
     "data": {
      "text/plain": [
       "<Axes: xlabel='player_of_match'>"
      ]
     },
     "execution_count": 149,
     "metadata": {},
     "output_type": "execute_result"
    },
    {
     "data": {
      "image/png": "[encoded data removed]",
      "text/plain": [
       "<Figure size 640x480 with 1 Axes>"
      ]
     },
     "metadata": {},
     "output_type": "display_data"
    }
   ],
   "source": [
    "player_series.plot.line()"
   ]
  },
  {
   "cell_type": "markdown",
   "id": "cd91ddb2",
   "metadata": {},
   "source": [
    "KOLKATA NIGTH RIDER NA KITNA MATCH WIN IN LINE GRAPH"
   ]
  },
  {
   "cell_type": "code",
   "execution_count": 172,
   "id": "f8a295f7",
   "metadata": {},
   "outputs": [
    {
     "data": {
      "text/plain": [
       "<Axes: title={'center': 'TOTAL KOLKATA WINING MATCHES'}, xlabel='season'>"
      ]
     },
     "execution_count": 172,
     "metadata": {},
     "output_type": "execute_result"
    },
    {
     "data": {
      "image/png": "[encoded data removed]",
      "text/plain": [
       "<Figure size 640x480 with 1 Axes>"
      ]
     },
     "metadata": {},
     "output_type": "display_data"
    }
   ],
   "source": [
    "plt.title(\"TOTAL KOLKATA WINING MATCHES\")\n",
    "k_series=match_data[match_data['winner']=='Kolkata Knight Riders']['season'].value_counts().sort_index()\n",
    "k_series.plot.bar()"
   ]
  },
  {
   "cell_type": "code",
   "execution_count": 173,
   "id": "7423b56a",
   "metadata": {},
   "outputs": [
    {
     "data": {
      "text/plain": [
       "<Axes: ylabel='count'>"
      ]
     },
     "execution_count": 173,
     "metadata": {},
     "output_type": "execute_result"
    },
    {
     "data": {
      "image/png": "[encoded data removed]",
      "text/plain": [
       "<Figure size 640x480 with 1 Axes>"
      ]
     },
     "metadata": {},
     "output_type": "display_data"
    }
   ],
   "source": [
    "k_series.plot.pie()"
   ]
  },
  {
   "cell_type": "markdown",
   "id": "bb541ac4",
   "metadata": {},
   "source": [
    "#### GROUP BY "
   ]
  },
  {
   "cell_type": "markdown",
   "id": "4dead995",
   "metadata": {},
   "source": [
    "USE TO WORK ON SIMILAR VALUES"
   ]
  },
  {
   "cell_type": "code",
   "execution_count": 174,
   "id": "6dfe3bb0",
   "metadata": {},
   "outputs": [
    {
     "data": {
      "text/plain": [
       "<pandas.core.groupby.generic.DataFrameGroupBy object at 0x000002401DFA4EF0>"
      ]
     },
     "execution_count": 174,
     "metadata": {},
     "output_type": "execute_result"
    }
   ],
   "source": [
    "match_data.groupby(\"season\")"
   ]
  },
  {
   "cell_type": "code",
   "execution_count": 175,
   "id": "a6d50e91",
   "metadata": {},
   "outputs": [
    {
     "data": {
      "text/plain": [
       "season\n",
       "2008    58\n",
       "2009    57\n",
       "2010    60\n",
       "2011    72\n",
       "2012    74\n",
       "2013    76\n",
       "2014    60\n",
       "2015    57\n",
       "2016    60\n",
       "2017    59\n",
       "2018    60\n",
       "2019    59\n",
       "2020    60\n",
       "dtype: int64"
      ]
     },
     "execution_count": 175,
     "metadata": {},
     "output_type": "execute_result"
    }
   ],
   "source": [
    "match_data.groupby(\"season\").size()"
   ]
  },
  {
   "cell_type": "markdown",
   "id": "372ef1de",
   "metadata": {},
   "source": [
    "#### to show winning team with the location that they win"
   ]
  },
  {
   "cell_type": "code",
   "execution_count": 176,
   "id": "d9eab604",
   "metadata": {},
   "outputs": [
    {
     "data": {
      "text/plain": [
       "winner               venue                                              \n",
       "Chennai Super Kings  Brabourne Stadium                                      1\n",
       "                     Buffalo Park                                           1\n",
       "                     De Beers Diamond Oval                                  1\n",
       "                     Dr DY Patil Sports Academy                             3\n",
       "                     Dr. Y.S. Rajasekhara Reddy ACA-VDCA Cricket Stadium    2\n",
       "                                                                           ..\n",
       "Sunrisers Hyderabad  Shaheed Veer Narayan Singh International Stadium       1\n",
       "                     Sharjah Cricket Stadium                                2\n",
       "                     Sheikh Zayed Stadium                                   2\n",
       "                     Subrata Roy Sahara Stadium                             1\n",
       "                     Wankhede Stadium                                       1\n",
       "Length: 249, dtype: int64"
      ]
     },
     "execution_count": 176,
     "metadata": {},
     "output_type": "execute_result"
    }
   ],
   "source": [
    "match_data.groupby(['winner','venue']).size()"
   ]
  },
  {
   "cell_type": "code",
   "execution_count": 182,
   "id": "26930bf5",
   "metadata": {},
   "outputs": [
    {
     "data": {
      "text/plain": [
       "venue\n",
       "Brabourne Stadium                                       1\n",
       "Buffalo Park                                            1\n",
       "De Beers Diamond Oval                                   1\n",
       "Dr DY Patil Sports Academy                              3\n",
       "Dr. Y.S. Rajasekhara Reddy ACA-VDCA Cricket Stadium     2\n",
       "Dubai International Cricket Stadium                     6\n",
       "Eden Gardens                                            5\n",
       "Feroz Shah Kotla                                        6\n",
       "Himachal Pradesh Cricket Association Stadium            1\n",
       "JSCA International Stadium Complex                      3\n",
       "Kingsmead                                               1\n",
       "M Chinnaswamy Stadium                                   4\n",
       "M.Chinnaswamy Stadium                                   1\n",
       "MA Chidambaram Stadium, Chepauk                        40\n",
       "Maharashtra Cricket Association Stadium                 5\n",
       "New Wanderers Stadium                                   1\n",
       "Punjab Cricket Association Stadium, Mohali              3\n",
       "Rajiv Gandhi International Stadium, Uppal               3\n",
       "Sawai Mansingh Stadium                                  3\n",
       "Sharjah Cricket Stadium                                 1\n",
       "Sheikh Zayed Stadium                                    3\n",
       "St George's Park                                        2\n",
       "Subrata Roy Sahara Stadium                              1\n",
       "SuperSport Park                                         2\n",
       "Wankhede Stadium                                        7\n",
       "dtype: int64"
      ]
     },
     "execution_count": 182,
     "metadata": {},
     "output_type": "execute_result"
    }
   ],
   "source": [
    "match_data.groupby(['winner','venue']).size()['Chennai Super Kings']"
   ]
  },
  {
   "cell_type": "code",
   "execution_count": 188,
   "id": "09bdef13",
   "metadata": {},
   "outputs": [
    {
     "data": {
      "text/html": [
       "<div>\n",
       "<style scoped>\n",
       "    .dataframe tbody tr th:only-of-type {\n",
       "        vertical-align: middle;\n",
       "    }\n",
       "\n",
       "    .dataframe tbody tr th {\n",
       "        vertical-align: top;\n",
       "    }\n",
       "\n",
       "    .dataframe thead th {\n",
       "        text-align: right;\n",
       "    }\n",
       "</style>\n",
       "<table border=\"1\" class=\"dataframe\">\n",
       "  <thead>\n",
       "    <tr style=\"text-align: right;\">\n",
       "      <th>venue</th>\n",
       "      <th>Barabati Stadium</th>\n",
       "      <th>Brabourne Stadium</th>\n",
       "      <th>Buffalo Park</th>\n",
       "      <th>De Beers Diamond Oval</th>\n",
       "      <th>Dr DY Patil Sports Academy</th>\n",
       "      <th>Dr. Y.S. Rajasekhara Reddy ACA-VDCA Cricket Stadium</th>\n",
       "      <th>Dubai International Cricket Stadium</th>\n",
       "      <th>Eden Gardens</th>\n",
       "      <th>Feroz Shah Kotla</th>\n",
       "      <th>Green Park</th>\n",
       "      <th>...</th>\n",
       "      <th>Saurashtra Cricket Association Stadium</th>\n",
       "      <th>Sawai Mansingh Stadium</th>\n",
       "      <th>Shaheed Veer Narayan Singh International Stadium</th>\n",
       "      <th>Sharjah Cricket Stadium</th>\n",
       "      <th>Sheikh Zayed Stadium</th>\n",
       "      <th>St George's Park</th>\n",
       "      <th>Subrata Roy Sahara Stadium</th>\n",
       "      <th>SuperSport Park</th>\n",
       "      <th>Vidarbha Cricket Association Stadium, Jamtha</th>\n",
       "      <th>Wankhede Stadium</th>\n",
       "    </tr>\n",
       "    <tr>\n",
       "      <th>winner</th>\n",
       "      <th></th>\n",
       "      <th></th>\n",
       "      <th></th>\n",
       "      <th></th>\n",
       "      <th></th>\n",
       "      <th></th>\n",
       "      <th></th>\n",
       "      <th></th>\n",
       "      <th></th>\n",
       "      <th></th>\n",
       "      <th></th>\n",
       "      <th></th>\n",
       "      <th></th>\n",
       "      <th></th>\n",
       "      <th></th>\n",
       "      <th></th>\n",
       "      <th></th>\n",
       "      <th></th>\n",
       "      <th></th>\n",
       "      <th></th>\n",
       "      <th></th>\n",
       "    </tr>\n",
       "  </thead>\n",
       "  <tbody>\n",
       "    <tr>\n",
       "      <th>Chennai Super Kings</th>\n",
       "      <td>NaN</td>\n",
       "      <td>1.0</td>\n",
       "      <td>1.0</td>\n",
       "      <td>1.0</td>\n",
       "      <td>3.0</td>\n",
       "      <td>2.0</td>\n",
       "      <td>6.0</td>\n",
       "      <td>5.0</td>\n",
       "      <td>6.0</td>\n",
       "      <td>NaN</td>\n",
       "      <td>...</td>\n",
       "      <td>NaN</td>\n",
       "      <td>3.0</td>\n",
       "      <td>NaN</td>\n",
       "      <td>1.0</td>\n",
       "      <td>3.0</td>\n",
       "      <td>2.0</td>\n",
       "      <td>1.0</td>\n",
       "      <td>2.0</td>\n",
       "      <td>NaN</td>\n",
       "      <td>7.0</td>\n",
       "    </tr>\n",
       "    <tr>\n",
       "      <th>Deccan Chargers</th>\n",
       "      <td>3.0</td>\n",
       "      <td>NaN</td>\n",
       "      <td>NaN</td>\n",
       "      <td>1.0</td>\n",
       "      <td>2.0</td>\n",
       "      <td>NaN</td>\n",
       "      <td>NaN</td>\n",
       "      <td>NaN</td>\n",
       "      <td>2.0</td>\n",
       "      <td>NaN</td>\n",
       "      <td>...</td>\n",
       "      <td>NaN</td>\n",
       "      <td>NaN</td>\n",
       "      <td>NaN</td>\n",
       "      <td>NaN</td>\n",
       "      <td>NaN</td>\n",
       "      <td>NaN</td>\n",
       "      <td>1.0</td>\n",
       "      <td>2.0</td>\n",
       "      <td>2.0</td>\n",
       "      <td>1.0</td>\n",
       "    </tr>\n",
       "    <tr>\n",
       "      <th>Delhi Capitals</th>\n",
       "      <td>NaN</td>\n",
       "      <td>NaN</td>\n",
       "      <td>NaN</td>\n",
       "      <td>NaN</td>\n",
       "      <td>NaN</td>\n",
       "      <td>1.0</td>\n",
       "      <td>4.0</td>\n",
       "      <td>1.0</td>\n",
       "      <td>4.0</td>\n",
       "      <td>NaN</td>\n",
       "      <td>...</td>\n",
       "      <td>NaN</td>\n",
       "      <td>1.0</td>\n",
       "      <td>NaN</td>\n",
       "      <td>3.0</td>\n",
       "      <td>2.0</td>\n",
       "      <td>NaN</td>\n",
       "      <td>NaN</td>\n",
       "      <td>NaN</td>\n",
       "      <td>NaN</td>\n",
       "      <td>1.0</td>\n",
       "    </tr>\n",
       "    <tr>\n",
       "      <th>Delhi Daredevils</th>\n",
       "      <td>NaN</td>\n",
       "      <td>NaN</td>\n",
       "      <td>1.0</td>\n",
       "      <td>NaN</td>\n",
       "      <td>1.0</td>\n",
       "      <td>1.0</td>\n",
       "      <td>1.0</td>\n",
       "      <td>1.0</td>\n",
       "      <td>27.0</td>\n",
       "      <td>1.0</td>\n",
       "      <td>...</td>\n",
       "      <td>1.0</td>\n",
       "      <td>1.0</td>\n",
       "      <td>4.0</td>\n",
       "      <td>1.0</td>\n",
       "      <td>NaN</td>\n",
       "      <td>1.0</td>\n",
       "      <td>1.0</td>\n",
       "      <td>2.0</td>\n",
       "      <td>NaN</td>\n",
       "      <td>2.0</td>\n",
       "    </tr>\n",
       "    <tr>\n",
       "      <th>Gujarat Lions</th>\n",
       "      <td>NaN</td>\n",
       "      <td>NaN</td>\n",
       "      <td>NaN</td>\n",
       "      <td>NaN</td>\n",
       "      <td>NaN</td>\n",
       "      <td>NaN</td>\n",
       "      <td>NaN</td>\n",
       "      <td>2.0</td>\n",
       "      <td>1.0</td>\n",
       "      <td>2.0</td>\n",
       "      <td>...</td>\n",
       "      <td>3.0</td>\n",
       "      <td>NaN</td>\n",
       "      <td>NaN</td>\n",
       "      <td>NaN</td>\n",
       "      <td>NaN</td>\n",
       "      <td>NaN</td>\n",
       "      <td>NaN</td>\n",
       "      <td>NaN</td>\n",
       "      <td>NaN</td>\n",
       "      <td>1.0</td>\n",
       "    </tr>\n",
       "    <tr>\n",
       "      <th>Kings XI Punjab</th>\n",
       "      <td>1.0</td>\n",
       "      <td>NaN</td>\n",
       "      <td>NaN</td>\n",
       "      <td>1.0</td>\n",
       "      <td>NaN</td>\n",
       "      <td>1.0</td>\n",
       "      <td>5.0</td>\n",
       "      <td>3.0</td>\n",
       "      <td>5.0</td>\n",
       "      <td>NaN</td>\n",
       "      <td>...</td>\n",
       "      <td>2.0</td>\n",
       "      <td>1.0</td>\n",
       "      <td>NaN</td>\n",
       "      <td>4.0</td>\n",
       "      <td>2.0</td>\n",
       "      <td>1.0</td>\n",
       "      <td>1.0</td>\n",
       "      <td>NaN</td>\n",
       "      <td>NaN</td>\n",
       "      <td>5.0</td>\n",
       "    </tr>\n",
       "    <tr>\n",
       "      <th>Kochi Tuskers Kerala</th>\n",
       "      <td>NaN</td>\n",
       "      <td>NaN</td>\n",
       "      <td>NaN</td>\n",
       "      <td>NaN</td>\n",
       "      <td>NaN</td>\n",
       "      <td>NaN</td>\n",
       "      <td>NaN</td>\n",
       "      <td>1.0</td>\n",
       "      <td>1.0</td>\n",
       "      <td>NaN</td>\n",
       "      <td>...</td>\n",
       "      <td>NaN</td>\n",
       "      <td>NaN</td>\n",
       "      <td>NaN</td>\n",
       "      <td>NaN</td>\n",
       "      <td>NaN</td>\n",
       "      <td>NaN</td>\n",
       "      <td>NaN</td>\n",
       "      <td>NaN</td>\n",
       "      <td>NaN</td>\n",
       "      <td>1.0</td>\n",
       "    </tr>\n",
       "    <tr>\n",
       "      <th>Kolkata Knight Riders</th>\n",
       "      <td>3.0</td>\n",
       "      <td>NaN</td>\n",
       "      <td>NaN</td>\n",
       "      <td>NaN</td>\n",
       "      <td>2.0</td>\n",
       "      <td>NaN</td>\n",
       "      <td>2.0</td>\n",
       "      <td>45.0</td>\n",
       "      <td>5.0</td>\n",
       "      <td>NaN</td>\n",
       "      <td>...</td>\n",
       "      <td>1.0</td>\n",
       "      <td>3.0</td>\n",
       "      <td>NaN</td>\n",
       "      <td>1.0</td>\n",
       "      <td>6.0</td>\n",
       "      <td>NaN</td>\n",
       "      <td>3.0</td>\n",
       "      <td>1.0</td>\n",
       "      <td>NaN</td>\n",
       "      <td>1.0</td>\n",
       "    </tr>\n",
       "    <tr>\n",
       "      <th>Mumbai Indians</th>\n",
       "      <td>NaN</td>\n",
       "      <td>6.0</td>\n",
       "      <td>1.0</td>\n",
       "      <td>NaN</td>\n",
       "      <td>5.0</td>\n",
       "      <td>2.0</td>\n",
       "      <td>3.0</td>\n",
       "      <td>10.0</td>\n",
       "      <td>4.0</td>\n",
       "      <td>NaN</td>\n",
       "      <td>...</td>\n",
       "      <td>1.0</td>\n",
       "      <td>2.0</td>\n",
       "      <td>NaN</td>\n",
       "      <td>2.0</td>\n",
       "      <td>6.0</td>\n",
       "      <td>2.0</td>\n",
       "      <td>2.0</td>\n",
       "      <td>1.0</td>\n",
       "      <td>NaN</td>\n",
       "      <td>42.0</td>\n",
       "    </tr>\n",
       "    <tr>\n",
       "      <th>Pune Warriors</th>\n",
       "      <td>NaN</td>\n",
       "      <td>NaN</td>\n",
       "      <td>NaN</td>\n",
       "      <td>NaN</td>\n",
       "      <td>2.0</td>\n",
       "      <td>NaN</td>\n",
       "      <td>NaN</td>\n",
       "      <td>NaN</td>\n",
       "      <td>1.0</td>\n",
       "      <td>NaN</td>\n",
       "      <td>...</td>\n",
       "      <td>NaN</td>\n",
       "      <td>NaN</td>\n",
       "      <td>NaN</td>\n",
       "      <td>NaN</td>\n",
       "      <td>NaN</td>\n",
       "      <td>NaN</td>\n",
       "      <td>4.0</td>\n",
       "      <td>NaN</td>\n",
       "      <td>NaN</td>\n",
       "      <td>1.0</td>\n",
       "    </tr>\n",
       "    <tr>\n",
       "      <th>Rajasthan Royals</th>\n",
       "      <td>NaN</td>\n",
       "      <td>2.0</td>\n",
       "      <td>NaN</td>\n",
       "      <td>NaN</td>\n",
       "      <td>1.0</td>\n",
       "      <td>1.0</td>\n",
       "      <td>1.0</td>\n",
       "      <td>2.0</td>\n",
       "      <td>4.0</td>\n",
       "      <td>NaN</td>\n",
       "      <td>...</td>\n",
       "      <td>NaN</td>\n",
       "      <td>32.0</td>\n",
       "      <td>NaN</td>\n",
       "      <td>2.0</td>\n",
       "      <td>6.0</td>\n",
       "      <td>1.0</td>\n",
       "      <td>1.0</td>\n",
       "      <td>2.0</td>\n",
       "      <td>1.0</td>\n",
       "      <td>4.0</td>\n",
       "    </tr>\n",
       "    <tr>\n",
       "      <th>Rising Pune Supergiant</th>\n",
       "      <td>NaN</td>\n",
       "      <td>NaN</td>\n",
       "      <td>NaN</td>\n",
       "      <td>NaN</td>\n",
       "      <td>NaN</td>\n",
       "      <td>NaN</td>\n",
       "      <td>NaN</td>\n",
       "      <td>1.0</td>\n",
       "      <td>NaN</td>\n",
       "      <td>NaN</td>\n",
       "      <td>...</td>\n",
       "      <td>NaN</td>\n",
       "      <td>NaN</td>\n",
       "      <td>NaN</td>\n",
       "      <td>NaN</td>\n",
       "      <td>NaN</td>\n",
       "      <td>NaN</td>\n",
       "      <td>NaN</td>\n",
       "      <td>NaN</td>\n",
       "      <td>NaN</td>\n",
       "      <td>2.0</td>\n",
       "    </tr>\n",
       "    <tr>\n",
       "      <th>Rising Pune Supergiants</th>\n",
       "      <td>NaN</td>\n",
       "      <td>NaN</td>\n",
       "      <td>NaN</td>\n",
       "      <td>NaN</td>\n",
       "      <td>NaN</td>\n",
       "      <td>2.0</td>\n",
       "      <td>NaN</td>\n",
       "      <td>NaN</td>\n",
       "      <td>1.0</td>\n",
       "      <td>NaN</td>\n",
       "      <td>...</td>\n",
       "      <td>NaN</td>\n",
       "      <td>NaN</td>\n",
       "      <td>NaN</td>\n",
       "      <td>NaN</td>\n",
       "      <td>NaN</td>\n",
       "      <td>NaN</td>\n",
       "      <td>NaN</td>\n",
       "      <td>NaN</td>\n",
       "      <td>NaN</td>\n",
       "      <td>1.0</td>\n",
       "    </tr>\n",
       "    <tr>\n",
       "      <th>Royal Challengers Bangalore</th>\n",
       "      <td>NaN</td>\n",
       "      <td>1.0</td>\n",
       "      <td>NaN</td>\n",
       "      <td>NaN</td>\n",
       "      <td>1.0</td>\n",
       "      <td>NaN</td>\n",
       "      <td>5.0</td>\n",
       "      <td>4.0</td>\n",
       "      <td>6.0</td>\n",
       "      <td>NaN</td>\n",
       "      <td>...</td>\n",
       "      <td>1.0</td>\n",
       "      <td>3.0</td>\n",
       "      <td>1.0</td>\n",
       "      <td>2.0</td>\n",
       "      <td>2.0</td>\n",
       "      <td>NaN</td>\n",
       "      <td>2.0</td>\n",
       "      <td>2.0</td>\n",
       "      <td>NaN</td>\n",
       "      <td>3.0</td>\n",
       "    </tr>\n",
       "    <tr>\n",
       "      <th>Sunrisers Hyderabad</th>\n",
       "      <td>NaN</td>\n",
       "      <td>1.0</td>\n",
       "      <td>NaN</td>\n",
       "      <td>NaN</td>\n",
       "      <td>NaN</td>\n",
       "      <td>3.0</td>\n",
       "      <td>6.0</td>\n",
       "      <td>2.0</td>\n",
       "      <td>6.0</td>\n",
       "      <td>1.0</td>\n",
       "      <td>...</td>\n",
       "      <td>1.0</td>\n",
       "      <td>1.0</td>\n",
       "      <td>1.0</td>\n",
       "      <td>2.0</td>\n",
       "      <td>2.0</td>\n",
       "      <td>NaN</td>\n",
       "      <td>1.0</td>\n",
       "      <td>NaN</td>\n",
       "      <td>NaN</td>\n",
       "      <td>1.0</td>\n",
       "    </tr>\n",
       "  </tbody>\n",
       "</table>\n",
       "<p>15 rows × 36 columns</p>\n",
       "</div>"
      ],
      "text/plain": [
       "venue                        Barabati Stadium  Brabourne Stadium  \\\n",
       "winner                                                             \n",
       "Chennai Super Kings                       NaN                1.0   \n",
       "Deccan Chargers                           3.0                NaN   \n",
       "Delhi Capitals                            NaN                NaN   \n",
       "Delhi Daredevils                          NaN                NaN   \n",
       "Gujarat Lions                             NaN                NaN   \n",
       "Kings XI Punjab                           1.0                NaN   \n",
       "Kochi Tuskers Kerala                      NaN                NaN   \n",
       "Kolkata Knight Riders                     3.0                NaN   \n",
       "Mumbai Indians                            NaN                6.0   \n",
       "Pune Warriors                             NaN                NaN   \n",
       "Rajasthan Royals                          NaN                2.0   \n",
       "Rising Pune Supergiant                    NaN                NaN   \n",
       "Rising Pune Supergiants                   NaN                NaN   \n",
       "Royal Challengers Bangalore               NaN                1.0   \n",
       "Sunrisers Hyderabad                       NaN                1.0   \n",
       "\n",
       "venue                        Buffalo Park  De Beers Diamond Oval  \\\n",
       "winner                                                             \n",
       "Chennai Super Kings                   1.0                    1.0   \n",
       "Deccan Chargers                       NaN                    1.0   \n",
       "Delhi Capitals                        NaN                    NaN   \n",
       "Delhi Daredevils                      1.0                    NaN   \n",
       "Gujarat Lions                         NaN                    NaN   \n",
       "Kings XI Punjab                       NaN                    1.0   \n",
       "Kochi Tuskers Kerala                  NaN                    NaN   \n",
       "Kolkata Knight Riders                 NaN                    NaN   \n",
       "Mumbai Indians                        1.0                    NaN   \n",
       "Pune Warriors                         NaN                    NaN   \n",
       "Rajasthan Royals                      NaN                    NaN   \n",
       "Rising Pune Supergiant                NaN                    NaN   \n",
       "Rising Pune Supergiants               NaN                    NaN   \n",
       "Royal Challengers Bangalore           NaN                    NaN   \n",
       "Sunrisers Hyderabad                   NaN                    NaN   \n",
       "\n",
       "venue                        Dr DY Patil Sports Academy  \\\n",
       "winner                                                    \n",
       "Chennai Super Kings                                 3.0   \n",
       "Deccan Chargers                                     2.0   \n",
       "Delhi Capitals                                      NaN   \n",
       "Delhi Daredevils                                    1.0   \n",
       "Gujarat Lions                                       NaN   \n",
       "Kings XI Punjab                                     NaN   \n",
       "Kochi Tuskers Kerala                                NaN   \n",
       "Kolkata Knight Riders                               2.0   \n",
       "Mumbai Indians                                      5.0   \n",
       "Pune Warriors                                       2.0   \n",
       "Rajasthan Royals                                    1.0   \n",
       "Rising Pune Supergiant                              NaN   \n",
       "Rising Pune Supergiants                             NaN   \n",
       "Royal Challengers Bangalore                         1.0   \n",
       "Sunrisers Hyderabad                                 NaN   \n",
       "\n",
       "venue                        Dr. Y.S. Rajasekhara Reddy ACA-VDCA Cricket Stadium  \\\n",
       "winner                                                                             \n",
       "Chennai Super Kings                                                        2.0     \n",
       "Deccan Chargers                                                            NaN     \n",
       "Delhi Capitals                                                             1.0     \n",
       "Delhi Daredevils                                                           1.0     \n",
       "Gujarat Lions                                                              NaN     \n",
       "Kings XI Punjab                                                            1.0     \n",
       "Kochi Tuskers Kerala                                                       NaN     \n",
       "Kolkata Knight Riders                                                      NaN     \n",
       "Mumbai Indians                                                             2.0     \n",
       "Pune Warriors                                                              NaN     \n",
       "Rajasthan Royals                                                           1.0     \n",
       "Rising Pune Supergiant                                                     NaN     \n",
       "Rising Pune Supergiants                                                    2.0     \n",
       "Royal Challengers Bangalore                                                NaN     \n",
       "Sunrisers Hyderabad                                                        3.0     \n",
       "\n",
       "venue                        Dubai International Cricket Stadium  \\\n",
       "winner                                                             \n",
       "Chennai Super Kings                                          6.0   \n",
       "Deccan Chargers                                              NaN   \n",
       "Delhi Capitals                                               4.0   \n",
       "Delhi Daredevils                                             1.0   \n",
       "Gujarat Lions                                                NaN   \n",
       "Kings XI Punjab                                              5.0   \n",
       "Kochi Tuskers Kerala                                         NaN   \n",
       "Kolkata Knight Riders                                        2.0   \n",
       "Mumbai Indians                                               3.0   \n",
       "Pune Warriors                                                NaN   \n",
       "Rajasthan Royals                                             1.0   \n",
       "Rising Pune Supergiant                                       NaN   \n",
       "Rising Pune Supergiants                                      NaN   \n",
       "Royal Challengers Bangalore                                  5.0   \n",
       "Sunrisers Hyderabad                                          6.0   \n",
       "\n",
       "venue                        Eden Gardens  Feroz Shah Kotla  Green Park  ...  \\\n",
       "winner                                                                   ...   \n",
       "Chennai Super Kings                   5.0               6.0         NaN  ...   \n",
       "Deccan Chargers                       NaN               2.0         NaN  ...   \n",
       "Delhi Capitals                        1.0               4.0         NaN  ...   \n",
       "Delhi Daredevils                      1.0              27.0         1.0  ...   \n",
       "Gujarat Lions                         2.0               1.0         2.0  ...   \n",
       "Kings XI Punjab                       3.0               5.0         NaN  ...   \n",
       "Kochi Tuskers Kerala                  1.0               1.0         NaN  ...   \n",
       "Kolkata Knight Riders                45.0               5.0         NaN  ...   \n",
       "Mumbai Indians                       10.0               4.0         NaN  ...   \n",
       "Pune Warriors                         NaN               1.0         NaN  ...   \n",
       "Rajasthan Royals                      2.0               4.0         NaN  ...   \n",
       "Rising Pune Supergiant                1.0               NaN         NaN  ...   \n",
       "Rising Pune Supergiants               NaN               1.0         NaN  ...   \n",
       "Royal Challengers Bangalore           4.0               6.0         NaN  ...   \n",
       "Sunrisers Hyderabad                   2.0               6.0         1.0  ...   \n",
       "\n",
       "venue                        Saurashtra Cricket Association Stadium  \\\n",
       "winner                                                                \n",
       "Chennai Super Kings                                             NaN   \n",
       "Deccan Chargers                                                 NaN   \n",
       "Delhi Capitals                                                  NaN   \n",
       "Delhi Daredevils                                                1.0   \n",
       "Gujarat Lions                                                   3.0   \n",
       "Kings XI Punjab                                                 2.0   \n",
       "Kochi Tuskers Kerala                                            NaN   \n",
       "Kolkata Knight Riders                                           1.0   \n",
       "Mumbai Indians                                                  1.0   \n",
       "Pune Warriors                                                   NaN   \n",
       "Rajasthan Royals                                                NaN   \n",
       "Rising Pune Supergiant                                          NaN   \n",
       "Rising Pune Supergiants                                         NaN   \n",
       "Royal Challengers Bangalore                                     1.0   \n",
       "Sunrisers Hyderabad                                             1.0   \n",
       "\n",
       "venue                        Sawai Mansingh Stadium  \\\n",
       "winner                                                \n",
       "Chennai Super Kings                             3.0   \n",
       "Deccan Chargers                                 NaN   \n",
       "Delhi Capitals                                  1.0   \n",
       "Delhi Daredevils                                1.0   \n",
       "Gujarat Lions                                   NaN   \n",
       "Kings XI Punjab                                 1.0   \n",
       "Kochi Tuskers Kerala                            NaN   \n",
       "Kolkata Knight Riders                           3.0   \n",
       "Mumbai Indians                                  2.0   \n",
       "Pune Warriors                                   NaN   \n",
       "Rajasthan Royals                               32.0   \n",
       "Rising Pune Supergiant                          NaN   \n",
       "Rising Pune Supergiants                         NaN   \n",
       "Royal Challengers Bangalore                     3.0   \n",
       "Sunrisers Hyderabad                             1.0   \n",
       "\n",
       "venue                        Shaheed Veer Narayan Singh International Stadium  \\\n",
       "winner                                                                          \n",
       "Chennai Super Kings                                                       NaN   \n",
       "Deccan Chargers                                                           NaN   \n",
       "Delhi Capitals                                                            NaN   \n",
       "Delhi Daredevils                                                          4.0   \n",
       "Gujarat Lions                                                             NaN   \n",
       "Kings XI Punjab                                                           NaN   \n",
       "Kochi Tuskers Kerala                                                      NaN   \n",
       "Kolkata Knight Riders                                                     NaN   \n",
       "Mumbai Indians                                                            NaN   \n",
       "Pune Warriors                                                             NaN   \n",
       "Rajasthan Royals                                                          NaN   \n",
       "Rising Pune Supergiant                                                    NaN   \n",
       "Rising Pune Supergiants                                                   NaN   \n",
       "Royal Challengers Bangalore                                               1.0   \n",
       "Sunrisers Hyderabad                                                       1.0   \n",
       "\n",
       "venue                        Sharjah Cricket Stadium  Sheikh Zayed Stadium  \\\n",
       "winner                                                                       \n",
       "Chennai Super Kings                              1.0                   3.0   \n",
       "Deccan Chargers                                  NaN                   NaN   \n",
       "Delhi Capitals                                   3.0                   2.0   \n",
       "Delhi Daredevils                                 1.0                   NaN   \n",
       "Gujarat Lions                                    NaN                   NaN   \n",
       "Kings XI Punjab                                  4.0                   2.0   \n",
       "Kochi Tuskers Kerala                             NaN                   NaN   \n",
       "Kolkata Knight Riders                            1.0                   6.0   \n",
       "Mumbai Indians                                   2.0                   6.0   \n",
       "Pune Warriors                                    NaN                   NaN   \n",
       "Rajasthan Royals                                 2.0                   6.0   \n",
       "Rising Pune Supergiant                           NaN                   NaN   \n",
       "Rising Pune Supergiants                          NaN                   NaN   \n",
       "Royal Challengers Bangalore                      2.0                   2.0   \n",
       "Sunrisers Hyderabad                              2.0                   2.0   \n",
       "\n",
       "venue                        St George's Park  Subrata Roy Sahara Stadium  \\\n",
       "winner                                                                      \n",
       "Chennai Super Kings                       2.0                         1.0   \n",
       "Deccan Chargers                           NaN                         1.0   \n",
       "Delhi Capitals                            NaN                         NaN   \n",
       "Delhi Daredevils                          1.0                         1.0   \n",
       "Gujarat Lions                             NaN                         NaN   \n",
       "Kings XI Punjab                           1.0                         1.0   \n",
       "Kochi Tuskers Kerala                      NaN                         NaN   \n",
       "Kolkata Knight Riders                     NaN                         3.0   \n",
       "Mumbai Indians                            2.0                         2.0   \n",
       "Pune Warriors                             NaN                         4.0   \n",
       "Rajasthan Royals                          1.0                         1.0   \n",
       "Rising Pune Supergiant                    NaN                         NaN   \n",
       "Rising Pune Supergiants                   NaN                         NaN   \n",
       "Royal Challengers Bangalore               NaN                         2.0   \n",
       "Sunrisers Hyderabad                       NaN                         1.0   \n",
       "\n",
       "venue                        SuperSport Park  \\\n",
       "winner                                         \n",
       "Chennai Super Kings                      2.0   \n",
       "Deccan Chargers                          2.0   \n",
       "Delhi Capitals                           NaN   \n",
       "Delhi Daredevils                         2.0   \n",
       "Gujarat Lions                            NaN   \n",
       "Kings XI Punjab                          NaN   \n",
       "Kochi Tuskers Kerala                     NaN   \n",
       "Kolkata Knight Riders                    1.0   \n",
       "Mumbai Indians                           1.0   \n",
       "Pune Warriors                            NaN   \n",
       "Rajasthan Royals                         2.0   \n",
       "Rising Pune Supergiant                   NaN   \n",
       "Rising Pune Supergiants                  NaN   \n",
       "Royal Challengers Bangalore              2.0   \n",
       "Sunrisers Hyderabad                      NaN   \n",
       "\n",
       "venue                        Vidarbha Cricket Association Stadium, Jamtha  \\\n",
       "winner                                                                      \n",
       "Chennai Super Kings                                                   NaN   \n",
       "Deccan Chargers                                                       2.0   \n",
       "Delhi Capitals                                                        NaN   \n",
       "Delhi Daredevils                                                      NaN   \n",
       "Gujarat Lions                                                         NaN   \n",
       "Kings XI Punjab                                                       NaN   \n",
       "Kochi Tuskers Kerala                                                  NaN   \n",
       "Kolkata Knight Riders                                                 NaN   \n",
       "Mumbai Indians                                                        NaN   \n",
       "Pune Warriors                                                         NaN   \n",
       "Rajasthan Royals                                                      1.0   \n",
       "Rising Pune Supergiant                                                NaN   \n",
       "Rising Pune Supergiants                                               NaN   \n",
       "Royal Challengers Bangalore                                           NaN   \n",
       "Sunrisers Hyderabad                                                   NaN   \n",
       "\n",
       "venue                        Wankhede Stadium  \n",
       "winner                                         \n",
       "Chennai Super Kings                       7.0  \n",
       "Deccan Chargers                           1.0  \n",
       "Delhi Capitals                            1.0  \n",
       "Delhi Daredevils                          2.0  \n",
       "Gujarat Lions                             1.0  \n",
       "Kings XI Punjab                           5.0  \n",
       "Kochi Tuskers Kerala                      1.0  \n",
       "Kolkata Knight Riders                     1.0  \n",
       "Mumbai Indians                           42.0  \n",
       "Pune Warriors                             1.0  \n",
       "Rajasthan Royals                          4.0  \n",
       "Rising Pune Supergiant                    2.0  \n",
       "Rising Pune Supergiants                   1.0  \n",
       "Royal Challengers Bangalore               3.0  \n",
       "Sunrisers Hyderabad                       1.0  \n",
       "\n",
       "[15 rows x 36 columns]"
      ]
     },
     "execution_count": 188,
     "metadata": {},
     "output_type": "execute_result"
    }
   ],
   "source": [
    "match_data.groupby(['winner','venue']).size().unstack()\n"
   ]
  },
  {
   "cell_type": "code",
   "execution_count": 194,
   "id": "119cc080",
   "metadata": {},
   "outputs": [
    {
     "data": {
      "text/html": [
       "<div>\n",
       "<style scoped>\n",
       "    .dataframe tbody tr th:only-of-type {\n",
       "        vertical-align: middle;\n",
       "    }\n",
       "\n",
       "    .dataframe tbody tr th {\n",
       "        vertical-align: top;\n",
       "    }\n",
       "\n",
       "    .dataframe thead th {\n",
       "        text-align: right;\n",
       "    }\n",
       "</style>\n",
       "<table border=\"1\" class=\"dataframe\">\n",
       "  <thead>\n",
       "    <tr style=\"text-align: right;\">\n",
       "      <th>venue</th>\n",
       "      <th>Barabati Stadium</th>\n",
       "      <th>Brabourne Stadium</th>\n",
       "      <th>Buffalo Park</th>\n",
       "      <th>De Beers Diamond Oval</th>\n",
       "      <th>Dr DY Patil Sports Academy</th>\n",
       "      <th>Dr. Y.S. Rajasekhara Reddy ACA-VDCA Cricket Stadium</th>\n",
       "      <th>Dubai International Cricket Stadium</th>\n",
       "      <th>Eden Gardens</th>\n",
       "      <th>Feroz Shah Kotla</th>\n",
       "      <th>Green Park</th>\n",
       "      <th>...</th>\n",
       "      <th>Saurashtra Cricket Association Stadium</th>\n",
       "      <th>Sawai Mansingh Stadium</th>\n",
       "      <th>Shaheed Veer Narayan Singh International Stadium</th>\n",
       "      <th>Sharjah Cricket Stadium</th>\n",
       "      <th>Sheikh Zayed Stadium</th>\n",
       "      <th>St George's Park</th>\n",
       "      <th>Subrata Roy Sahara Stadium</th>\n",
       "      <th>SuperSport Park</th>\n",
       "      <th>Vidarbha Cricket Association Stadium, Jamtha</th>\n",
       "      <th>Wankhede Stadium</th>\n",
       "    </tr>\n",
       "    <tr>\n",
       "      <th>winner</th>\n",
       "      <th></th>\n",
       "      <th></th>\n",
       "      <th></th>\n",
       "      <th></th>\n",
       "      <th></th>\n",
       "      <th></th>\n",
       "      <th></th>\n",
       "      <th></th>\n",
       "      <th></th>\n",
       "      <th></th>\n",
       "      <th></th>\n",
       "      <th></th>\n",
       "      <th></th>\n",
       "      <th></th>\n",
       "      <th></th>\n",
       "      <th></th>\n",
       "      <th></th>\n",
       "      <th></th>\n",
       "      <th></th>\n",
       "      <th></th>\n",
       "      <th></th>\n",
       "    </tr>\n",
       "  </thead>\n",
       "  <tbody>\n",
       "    <tr>\n",
       "      <th>Chennai Super Kings</th>\n",
       "      <td>0</td>\n",
       "      <td>1</td>\n",
       "      <td>1</td>\n",
       "      <td>1</td>\n",
       "      <td>3</td>\n",
       "      <td>2</td>\n",
       "      <td>6</td>\n",
       "      <td>5</td>\n",
       "      <td>6</td>\n",
       "      <td>0</td>\n",
       "      <td>...</td>\n",
       "      <td>0</td>\n",
       "      <td>3</td>\n",
       "      <td>0</td>\n",
       "      <td>1</td>\n",
       "      <td>3</td>\n",
       "      <td>2</td>\n",
       "      <td>1</td>\n",
       "      <td>2</td>\n",
       "      <td>0</td>\n",
       "      <td>7</td>\n",
       "    </tr>\n",
       "    <tr>\n",
       "      <th>Deccan Chargers</th>\n",
       "      <td>3</td>\n",
       "      <td>0</td>\n",
       "      <td>0</td>\n",
       "      <td>1</td>\n",
       "      <td>2</td>\n",
       "      <td>0</td>\n",
       "      <td>0</td>\n",
       "      <td>0</td>\n",
       "      <td>2</td>\n",
       "      <td>0</td>\n",
       "      <td>...</td>\n",
       "      <td>0</td>\n",
       "      <td>0</td>\n",
       "      <td>0</td>\n",
       "      <td>0</td>\n",
       "      <td>0</td>\n",
       "      <td>0</td>\n",
       "      <td>1</td>\n",
       "      <td>2</td>\n",
       "      <td>2</td>\n",
       "      <td>1</td>\n",
       "    </tr>\n",
       "    <tr>\n",
       "      <th>Delhi Capitals</th>\n",
       "      <td>0</td>\n",
       "      <td>0</td>\n",
       "      <td>0</td>\n",
       "      <td>0</td>\n",
       "      <td>0</td>\n",
       "      <td>1</td>\n",
       "      <td>4</td>\n",
       "      <td>1</td>\n",
       "      <td>4</td>\n",
       "      <td>0</td>\n",
       "      <td>...</td>\n",
       "      <td>0</td>\n",
       "      <td>1</td>\n",
       "      <td>0</td>\n",
       "      <td>3</td>\n",
       "      <td>2</td>\n",
       "      <td>0</td>\n",
       "      <td>0</td>\n",
       "      <td>0</td>\n",
       "      <td>0</td>\n",
       "      <td>1</td>\n",
       "    </tr>\n",
       "    <tr>\n",
       "      <th>Delhi Daredevils</th>\n",
       "      <td>0</td>\n",
       "      <td>0</td>\n",
       "      <td>1</td>\n",
       "      <td>0</td>\n",
       "      <td>1</td>\n",
       "      <td>1</td>\n",
       "      <td>1</td>\n",
       "      <td>1</td>\n",
       "      <td>27</td>\n",
       "      <td>1</td>\n",
       "      <td>...</td>\n",
       "      <td>1</td>\n",
       "      <td>1</td>\n",
       "      <td>4</td>\n",
       "      <td>1</td>\n",
       "      <td>0</td>\n",
       "      <td>1</td>\n",
       "      <td>1</td>\n",
       "      <td>2</td>\n",
       "      <td>0</td>\n",
       "      <td>2</td>\n",
       "    </tr>\n",
       "    <tr>\n",
       "      <th>Gujarat Lions</th>\n",
       "      <td>0</td>\n",
       "      <td>0</td>\n",
       "      <td>0</td>\n",
       "      <td>0</td>\n",
       "      <td>0</td>\n",
       "      <td>0</td>\n",
       "      <td>0</td>\n",
       "      <td>2</td>\n",
       "      <td>1</td>\n",
       "      <td>2</td>\n",
       "      <td>...</td>\n",
       "      <td>3</td>\n",
       "      <td>0</td>\n",
       "      <td>0</td>\n",
       "      <td>0</td>\n",
       "      <td>0</td>\n",
       "      <td>0</td>\n",
       "      <td>0</td>\n",
       "      <td>0</td>\n",
       "      <td>0</td>\n",
       "      <td>1</td>\n",
       "    </tr>\n",
       "  </tbody>\n",
       "</table>\n",
       "<p>5 rows × 36 columns</p>\n",
       "</div>"
      ],
      "text/plain": [
       "venue                Barabati Stadium  Brabourne Stadium  Buffalo Park  \\\n",
       "winner                                                                   \n",
       "Chennai Super Kings                 0                  1             1   \n",
       "Deccan Chargers                     3                  0             0   \n",
       "Delhi Capitals                      0                  0             0   \n",
       "Delhi Daredevils                    0                  0             1   \n",
       "Gujarat Lions                       0                  0             0   \n",
       "\n",
       "venue                De Beers Diamond Oval  Dr DY Patil Sports Academy  \\\n",
       "winner                                                                   \n",
       "Chennai Super Kings                      1                           3   \n",
       "Deccan Chargers                          1                           2   \n",
       "Delhi Capitals                           0                           0   \n",
       "Delhi Daredevils                         0                           1   \n",
       "Gujarat Lions                            0                           0   \n",
       "\n",
       "venue                Dr. Y.S. Rajasekhara Reddy ACA-VDCA Cricket Stadium  \\\n",
       "winner                                                                     \n",
       "Chennai Super Kings                                                  2     \n",
       "Deccan Chargers                                                      0     \n",
       "Delhi Capitals                                                       1     \n",
       "Delhi Daredevils                                                     1     \n",
       "Gujarat Lions                                                        0     \n",
       "\n",
       "venue                Dubai International Cricket Stadium  Eden Gardens  \\\n",
       "winner                                                                   \n",
       "Chennai Super Kings                                    6             5   \n",
       "Deccan Chargers                                        0             0   \n",
       "Delhi Capitals                                         4             1   \n",
       "Delhi Daredevils                                       1             1   \n",
       "Gujarat Lions                                          0             2   \n",
       "\n",
       "venue                Feroz Shah Kotla  Green Park  ...  \\\n",
       "winner                                             ...   \n",
       "Chennai Super Kings                 6           0  ...   \n",
       "Deccan Chargers                     2           0  ...   \n",
       "Delhi Capitals                      4           0  ...   \n",
       "Delhi Daredevils                   27           1  ...   \n",
       "Gujarat Lions                       1           2  ...   \n",
       "\n",
       "venue                Saurashtra Cricket Association Stadium  \\\n",
       "winner                                                        \n",
       "Chennai Super Kings                                       0   \n",
       "Deccan Chargers                                           0   \n",
       "Delhi Capitals                                            0   \n",
       "Delhi Daredevils                                          1   \n",
       "Gujarat Lions                                             3   \n",
       "\n",
       "venue                Sawai Mansingh Stadium  \\\n",
       "winner                                        \n",
       "Chennai Super Kings                       3   \n",
       "Deccan Chargers                           0   \n",
       "Delhi Capitals                            1   \n",
       "Delhi Daredevils                          1   \n",
       "Gujarat Lions                             0   \n",
       "\n",
       "venue                Shaheed Veer Narayan Singh International Stadium  \\\n",
       "winner                                                                  \n",
       "Chennai Super Kings                                                 0   \n",
       "Deccan Chargers                                                     0   \n",
       "Delhi Capitals                                                      0   \n",
       "Delhi Daredevils                                                    4   \n",
       "Gujarat Lions                                                       0   \n",
       "\n",
       "venue                Sharjah Cricket Stadium  Sheikh Zayed Stadium  \\\n",
       "winner                                                               \n",
       "Chennai Super Kings                        1                     3   \n",
       "Deccan Chargers                            0                     0   \n",
       "Delhi Capitals                             3                     2   \n",
       "Delhi Daredevils                           1                     0   \n",
       "Gujarat Lions                              0                     0   \n",
       "\n",
       "venue                St George's Park  Subrata Roy Sahara Stadium  \\\n",
       "winner                                                              \n",
       "Chennai Super Kings                 2                           1   \n",
       "Deccan Chargers                     0                           1   \n",
       "Delhi Capitals                      0                           0   \n",
       "Delhi Daredevils                    1                           1   \n",
       "Gujarat Lions                       0                           0   \n",
       "\n",
       "venue                SuperSport Park  \\\n",
       "winner                                 \n",
       "Chennai Super Kings                2   \n",
       "Deccan Chargers                    2   \n",
       "Delhi Capitals                     0   \n",
       "Delhi Daredevils                   2   \n",
       "Gujarat Lions                      0   \n",
       "\n",
       "venue                Vidarbha Cricket Association Stadium, Jamtha  \\\n",
       "winner                                                              \n",
       "Chennai Super Kings                                             0   \n",
       "Deccan Chargers                                                 2   \n",
       "Delhi Capitals                                                  0   \n",
       "Delhi Daredevils                                                0   \n",
       "Gujarat Lions                                                   0   \n",
       "\n",
       "venue                Wankhede Stadium  \n",
       "winner                                 \n",
       "Chennai Super Kings                 7  \n",
       "Deccan Chargers                     1  \n",
       "Delhi Capitals                      1  \n",
       "Delhi Daredevils                    2  \n",
       "Gujarat Lions                       1  \n",
       "\n",
       "[5 rows x 36 columns]"
      ]
     },
     "execution_count": 194,
     "metadata": {},
     "output_type": "execute_result"
    }
   ],
   "source": [
    "venue_team_win=match_data.groupby(['winner','venue']).size().unstack(fill_value=0)\n",
    "venue_team_win.head()"
   ]
  },
  {
   "cell_type": "markdown",
   "id": "e388c62d",
   "metadata": {},
   "source": [
    "TO ACCESSES CERTAIN ROW FROM THE VENUE"
   ]
  },
  {
   "cell_type": "code",
   "execution_count": 197,
   "id": "ef15c5f9",
   "metadata": {},
   "outputs": [
    {
     "data": {
      "text/plain": [
       "winner\n",
       "Chennai Super Kings            1\n",
       "Deccan Chargers                0\n",
       "Delhi Capitals                 0\n",
       "Delhi Daredevils               1\n",
       "Gujarat Lions                  0\n",
       "Kings XI Punjab                0\n",
       "Kochi Tuskers Kerala           0\n",
       "Kolkata Knight Riders          0\n",
       "Mumbai Indians                 1\n",
       "Pune Warriors                  0\n",
       "Rajasthan Royals               0\n",
       "Rising Pune Supergiant         0\n",
       "Rising Pune Supergiants        0\n",
       "Royal Challengers Bangalore    0\n",
       "Sunrisers Hyderabad            0\n",
       "Name: Buffalo Park, dtype: int64"
      ]
     },
     "execution_count": 197,
     "metadata": {},
     "output_type": "execute_result"
    }
   ],
   "source": [
    "venue_team_win=match_data.groupby(['venue','winner']).size().unstack(fill_value=0)\n",
    "venue_team_win.loc[\"Buffalo Park\"]"
   ]
  },
  {
   "cell_type": "markdown",
   "id": "d7ad240a",
   "metadata": {},
   "source": [
    "FILTERING TOP 5 VENUES "
   ]
  },
  {
   "cell_type": "code",
   "execution_count": 198,
   "id": "52a14d23",
   "metadata": {},
   "outputs": [
    {
     "data": {
      "text/plain": [
       "venue\n",
       "Eden Gardens                                 77\n",
       "Wankhede Stadium                             73\n",
       "Feroz Shah Kotla                             73\n",
       "Rajiv Gandhi International Stadium, Uppal    64\n",
       "M Chinnaswamy Stadium                        63\n",
       "Name: count, dtype: int64"
      ]
     },
     "execution_count": 198,
     "metadata": {},
     "output_type": "execute_result"
    }
   ],
   "source": [
    "match_data['venue'].value_counts()[0:5]"
   ]
  },
  {
   "cell_type": "markdown",
   "id": "d9c67aaf",
   "metadata": {},
   "source": [
    "LIST OF THE NAKE OF THE TEAM WINS IN \"EDEN GARDEN\" VENUE"
   ]
  },
  {
   "cell_type": "code",
   "execution_count": 199,
   "id": "92fe5c1d",
   "metadata": {},
   "outputs": [
    {
     "data": {
      "text/plain": [
       "winner\n",
       "Chennai Super Kings             5\n",
       "Deccan Chargers                 0\n",
       "Delhi Capitals                  1\n",
       "Delhi Daredevils                1\n",
       "Gujarat Lions                   2\n",
       "Kings XI Punjab                 3\n",
       "Kochi Tuskers Kerala            1\n",
       "Kolkata Knight Riders          45\n",
       "Mumbai Indians                 10\n",
       "Pune Warriors                   0\n",
       "Rajasthan Royals                2\n",
       "Rising Pune Supergiant          1\n",
       "Rising Pune Supergiants         0\n",
       "Royal Challengers Bangalore     4\n",
       "Sunrisers Hyderabad             2\n",
       "Name: Eden Gardens, dtype: int64"
      ]
     },
     "execution_count": 199,
     "metadata": {},
     "output_type": "execute_result"
    }
   ],
   "source": [
    "venue_team_win=match_data.groupby(['venue','winner']).size().unstack(fill_value=0)\n",
    "venue_team_win.loc[\"Eden Gardens\"]"
   ]
  },
  {
   "cell_type": "code",
   "execution_count": 205,
   "id": "8af202d1",
   "metadata": {},
   "outputs": [
    {
     "data": {
      "text/html": [
       "<div>\n",
       "<style scoped>\n",
       "    .dataframe tbody tr th:only-of-type {\n",
       "        vertical-align: middle;\n",
       "    }\n",
       "\n",
       "    .dataframe tbody tr th {\n",
       "        vertical-align: top;\n",
       "    }\n",
       "\n",
       "    .dataframe thead th {\n",
       "        text-align: right;\n",
       "    }\n",
       "</style>\n",
       "<table border=\"1\" class=\"dataframe\">\n",
       "  <thead>\n",
       "    <tr style=\"text-align: right;\">\n",
       "      <th>winner</th>\n",
       "      <th>Chennai Super Kings</th>\n",
       "      <th>Deccan Chargers</th>\n",
       "      <th>Delhi Capitals</th>\n",
       "      <th>Delhi Daredevils</th>\n",
       "      <th>Gujarat Lions</th>\n",
       "      <th>Kings XI Punjab</th>\n",
       "      <th>Kochi Tuskers Kerala</th>\n",
       "      <th>Kolkata Knight Riders</th>\n",
       "      <th>Mumbai Indians</th>\n",
       "      <th>Pune Warriors</th>\n",
       "      <th>Rajasthan Royals</th>\n",
       "      <th>Rising Pune Supergiant</th>\n",
       "      <th>Rising Pune Supergiants</th>\n",
       "      <th>Royal Challengers Bangalore</th>\n",
       "      <th>Sunrisers Hyderabad</th>\n",
       "    </tr>\n",
       "    <tr>\n",
       "      <th>venue</th>\n",
       "      <th></th>\n",
       "      <th></th>\n",
       "      <th></th>\n",
       "      <th></th>\n",
       "      <th></th>\n",
       "      <th></th>\n",
       "      <th></th>\n",
       "      <th></th>\n",
       "      <th></th>\n",
       "      <th></th>\n",
       "      <th></th>\n",
       "      <th></th>\n",
       "      <th></th>\n",
       "      <th></th>\n",
       "      <th></th>\n",
       "    </tr>\n",
       "  </thead>\n",
       "  <tbody>\n",
       "    <tr>\n",
       "      <th>Eden Gardens</th>\n",
       "      <td>5</td>\n",
       "      <td>0</td>\n",
       "      <td>1</td>\n",
       "      <td>1</td>\n",
       "      <td>2</td>\n",
       "      <td>3</td>\n",
       "      <td>1</td>\n",
       "      <td>45</td>\n",
       "      <td>10</td>\n",
       "      <td>0</td>\n",
       "      <td>2</td>\n",
       "      <td>1</td>\n",
       "      <td>0</td>\n",
       "      <td>4</td>\n",
       "      <td>2</td>\n",
       "    </tr>\n",
       "    <tr>\n",
       "      <th>Wankhede Stadium</th>\n",
       "      <td>7</td>\n",
       "      <td>1</td>\n",
       "      <td>1</td>\n",
       "      <td>2</td>\n",
       "      <td>1</td>\n",
       "      <td>5</td>\n",
       "      <td>1</td>\n",
       "      <td>1</td>\n",
       "      <td>42</td>\n",
       "      <td>1</td>\n",
       "      <td>4</td>\n",
       "      <td>2</td>\n",
       "      <td>1</td>\n",
       "      <td>3</td>\n",
       "      <td>1</td>\n",
       "    </tr>\n",
       "    <tr>\n",
       "      <th>Feroz Shah Kotla</th>\n",
       "      <td>6</td>\n",
       "      <td>2</td>\n",
       "      <td>4</td>\n",
       "      <td>27</td>\n",
       "      <td>1</td>\n",
       "      <td>5</td>\n",
       "      <td>1</td>\n",
       "      <td>5</td>\n",
       "      <td>4</td>\n",
       "      <td>1</td>\n",
       "      <td>4</td>\n",
       "      <td>0</td>\n",
       "      <td>1</td>\n",
       "      <td>6</td>\n",
       "      <td>6</td>\n",
       "    </tr>\n",
       "    <tr>\n",
       "      <th>Rajiv Gandhi International Stadium, Uppal</th>\n",
       "      <td>3</td>\n",
       "      <td>3</td>\n",
       "      <td>1</td>\n",
       "      <td>4</td>\n",
       "      <td>0</td>\n",
       "      <td>4</td>\n",
       "      <td>0</td>\n",
       "      <td>5</td>\n",
       "      <td>7</td>\n",
       "      <td>1</td>\n",
       "      <td>2</td>\n",
       "      <td>1</td>\n",
       "      <td>1</td>\n",
       "      <td>2</td>\n",
       "      <td>30</td>\n",
       "    </tr>\n",
       "    <tr>\n",
       "      <th>M Chinnaswamy Stadium</th>\n",
       "      <td>4</td>\n",
       "      <td>1</td>\n",
       "      <td>0</td>\n",
       "      <td>3</td>\n",
       "      <td>1</td>\n",
       "      <td>5</td>\n",
       "      <td>0</td>\n",
       "      <td>6</td>\n",
       "      <td>8</td>\n",
       "      <td>0</td>\n",
       "      <td>3</td>\n",
       "      <td>1</td>\n",
       "      <td>0</td>\n",
       "      <td>29</td>\n",
       "      <td>2</td>\n",
       "    </tr>\n",
       "  </tbody>\n",
       "</table>\n",
       "</div>"
      ],
      "text/plain": [
       "winner                                     Chennai Super Kings  \\\n",
       "venue                                                            \n",
       "Eden Gardens                                                 5   \n",
       "Wankhede Stadium                                             7   \n",
       "Feroz Shah Kotla                                             6   \n",
       "Rajiv Gandhi International Stadium, Uppal                    3   \n",
       "M Chinnaswamy Stadium                                        4   \n",
       "\n",
       "winner                                     Deccan Chargers  Delhi Capitals  \\\n",
       "venue                                                                        \n",
       "Eden Gardens                                             0               1   \n",
       "Wankhede Stadium                                         1               1   \n",
       "Feroz Shah Kotla                                         2               4   \n",
       "Rajiv Gandhi International Stadium, Uppal                3               1   \n",
       "M Chinnaswamy Stadium                                    1               0   \n",
       "\n",
       "winner                                     Delhi Daredevils  Gujarat Lions  \\\n",
       "venue                                                                        \n",
       "Eden Gardens                                              1              2   \n",
       "Wankhede Stadium                                          2              1   \n",
       "Feroz Shah Kotla                                         27              1   \n",
       "Rajiv Gandhi International Stadium, Uppal                 4              0   \n",
       "M Chinnaswamy Stadium                                     3              1   \n",
       "\n",
       "winner                                     Kings XI Punjab  \\\n",
       "venue                                                        \n",
       "Eden Gardens                                             3   \n",
       "Wankhede Stadium                                         5   \n",
       "Feroz Shah Kotla                                         5   \n",
       "Rajiv Gandhi International Stadium, Uppal                4   \n",
       "M Chinnaswamy Stadium                                    5   \n",
       "\n",
       "winner                                     Kochi Tuskers Kerala  \\\n",
       "venue                                                             \n",
       "Eden Gardens                                                  1   \n",
       "Wankhede Stadium                                              1   \n",
       "Feroz Shah Kotla                                              1   \n",
       "Rajiv Gandhi International Stadium, Uppal                     0   \n",
       "M Chinnaswamy Stadium                                         0   \n",
       "\n",
       "winner                                     Kolkata Knight Riders  \\\n",
       "venue                                                              \n",
       "Eden Gardens                                                  45   \n",
       "Wankhede Stadium                                               1   \n",
       "Feroz Shah Kotla                                               5   \n",
       "Rajiv Gandhi International Stadium, Uppal                      5   \n",
       "M Chinnaswamy Stadium                                          6   \n",
       "\n",
       "winner                                     Mumbai Indians  Pune Warriors  \\\n",
       "venue                                                                      \n",
       "Eden Gardens                                           10              0   \n",
       "Wankhede Stadium                                       42              1   \n",
       "Feroz Shah Kotla                                        4              1   \n",
       "Rajiv Gandhi International Stadium, Uppal               7              1   \n",
       "M Chinnaswamy Stadium                                   8              0   \n",
       "\n",
       "winner                                     Rajasthan Royals  \\\n",
       "venue                                                         \n",
       "Eden Gardens                                              2   \n",
       "Wankhede Stadium                                          4   \n",
       "Feroz Shah Kotla                                          4   \n",
       "Rajiv Gandhi International Stadium, Uppal                 2   \n",
       "M Chinnaswamy Stadium                                     3   \n",
       "\n",
       "winner                                     Rising Pune Supergiant  \\\n",
       "venue                                                               \n",
       "Eden Gardens                                                    1   \n",
       "Wankhede Stadium                                                2   \n",
       "Feroz Shah Kotla                                                0   \n",
       "Rajiv Gandhi International Stadium, Uppal                       1   \n",
       "M Chinnaswamy Stadium                                           1   \n",
       "\n",
       "winner                                     Rising Pune Supergiants  \\\n",
       "venue                                                                \n",
       "Eden Gardens                                                     0   \n",
       "Wankhede Stadium                                                 1   \n",
       "Feroz Shah Kotla                                                 1   \n",
       "Rajiv Gandhi International Stadium, Uppal                        1   \n",
       "M Chinnaswamy Stadium                                            0   \n",
       "\n",
       "winner                                     Royal Challengers Bangalore  \\\n",
       "venue                                                                    \n",
       "Eden Gardens                                                         4   \n",
       "Wankhede Stadium                                                     3   \n",
       "Feroz Shah Kotla                                                     6   \n",
       "Rajiv Gandhi International Stadium, Uppal                            2   \n",
       "M Chinnaswamy Stadium                                               29   \n",
       "\n",
       "winner                                     Sunrisers Hyderabad  \n",
       "venue                                                           \n",
       "Eden Gardens                                                 2  \n",
       "Wankhede Stadium                                             1  \n",
       "Feroz Shah Kotla                                             6  \n",
       "Rajiv Gandhi International Stadium, Uppal                   30  \n",
       "M Chinnaswamy Stadium                                        2  "
      ]
     },
     "execution_count": 205,
     "metadata": {},
     "output_type": "execute_result"
    }
   ],
   "source": [
    "top_venus=match_data['venue'].value_counts().head(5).index\n",
    "top_venus\n",
    "venue_team_win=venue_team_win.loc[top_venus] # filter 5 top venus for team\n",
    "venue_team_win"
   ]
  },
  {
   "cell_type": "markdown",
   "id": "4dbf88ae",
   "metadata": {},
   "source": [
    "#### PLOT STACKED AS "
   ]
  },
  {
   "cell_type": "code",
   "execution_count": 213,
   "id": "c7778147",
   "metadata": {},
   "outputs": [
    {
     "data": {
      "image/png": "[encoded data removed]",
      "text/plain": [
       "<Figure size 1400x600 with 1 Axes>"
      ]
     },
     "metadata": {},
     "output_type": "display_data"
    }
   ],
   "source": [
    "venue_team_win.T.plot(kind='bar',stacked=True,figsize=(14,6),colormap='tab20') # colormap='magma'\n",
    "plt.title('MATCHES WON BY TEAMS AT TOP 5 VENUES')\n",
    "plt.xlabel('TEAM')\n",
    "plt.ylabel('WIN')\n",
    "plt.legend(title='VENUE',loc='upper left')\n",
    "plt.tight_layout()\n",
    "plt.show()"
   ]
  },
  {
   "cell_type": "code",
   "execution_count": 214,
   "id": "b4b0dbdb",
   "metadata": {},
   "outputs": [
    {
     "data": {
      "text/plain": [
       "Index(['id', 'city', 'date', 'player_of_match', 'venue', 'neutral_venue',\n",
       "       'team1', 'team2', 'toss_winner', 'toss_decision', 'winner', 'result',\n",
       "       'result_margin', 'eliminator', 'method', 'umpire1', 'umpire2',\n",
       "       'season'],\n",
       "      dtype='object')"
      ]
     },
     "execution_count": 214,
     "metadata": {},
     "output_type": "execute_result"
    }
   ],
   "source": [
    "match_data.columns"
   ]
  },
  {
   "cell_type": "markdown",
   "id": "fe7cabc9",
   "metadata": {},
   "source": [
    "#### HOMEWORK"
   ]
  },
  {
   "cell_type": "code",
   "execution_count": 4,
   "id": "a93d62b2",
   "metadata": {},
   "outputs": [
    {
     "data": {
      "text/html": [
       "<div>\n",
       "<style scoped>\n",
       "    .dataframe tbody tr th:only-of-type {\n",
       "        vertical-align: middle;\n",
       "    }\n",
       "\n",
       "    .dataframe tbody tr th {\n",
       "        vertical-align: top;\n",
       "    }\n",
       "\n",
       "    .dataframe thead th {\n",
       "        text-align: right;\n",
       "    }\n",
       "</style>\n",
       "<table border=\"1\" class=\"dataframe\">\n",
       "  <thead>\n",
       "    <tr style=\"text-align: right;\">\n",
       "      <th></th>\n",
       "      <th>id</th>\n",
       "      <th>city</th>\n",
       "      <th>date</th>\n",
       "      <th>player_of_match</th>\n",
       "      <th>venue</th>\n",
       "      <th>neutral_venue</th>\n",
       "      <th>team1</th>\n",
       "      <th>team2</th>\n",
       "      <th>toss_winner</th>\n",
       "      <th>toss_decision</th>\n",
       "      <th>winner</th>\n",
       "      <th>result</th>\n",
       "      <th>result_margin</th>\n",
       "      <th>eliminator</th>\n",
       "      <th>method</th>\n",
       "      <th>umpire1</th>\n",
       "      <th>umpire2</th>\n",
       "    </tr>\n",
       "  </thead>\n",
       "  <tbody>\n",
       "    <tr>\n",
       "      <th>0</th>\n",
       "      <td>335982</td>\n",
       "      <td>Bangalore</td>\n",
       "      <td>2008-04-18</td>\n",
       "      <td>BB McCullum</td>\n",
       "      <td>M Chinnaswamy Stadium</td>\n",
       "      <td>0</td>\n",
       "      <td>Royal Challengers Bangalore</td>\n",
       "      <td>Kolkata Knight Riders</td>\n",
       "      <td>Royal Challengers Bangalore</td>\n",
       "      <td>field</td>\n",
       "      <td>Kolkata Knight Riders</td>\n",
       "      <td>runs</td>\n",
       "      <td>140.0</td>\n",
       "      <td>N</td>\n",
       "      <td>NaN</td>\n",
       "      <td>Asad Rauf</td>\n",
       "      <td>RE Koertzen</td>\n",
       "    </tr>\n",
       "    <tr>\n",
       "      <th>1</th>\n",
       "      <td>335983</td>\n",
       "      <td>Chandigarh</td>\n",
       "      <td>2008-04-19</td>\n",
       "      <td>MEK Hussey</td>\n",
       "      <td>Punjab Cricket Association Stadium, Mohali</td>\n",
       "      <td>0</td>\n",
       "      <td>Kings XI Punjab</td>\n",
       "      <td>Chennai Super Kings</td>\n",
       "      <td>Chennai Super Kings</td>\n",
       "      <td>bat</td>\n",
       "      <td>Chennai Super Kings</td>\n",
       "      <td>runs</td>\n",
       "      <td>33.0</td>\n",
       "      <td>N</td>\n",
       "      <td>NaN</td>\n",
       "      <td>MR Benson</td>\n",
       "      <td>SL Shastri</td>\n",
       "    </tr>\n",
       "    <tr>\n",
       "      <th>2</th>\n",
       "      <td>335984</td>\n",
       "      <td>Delhi</td>\n",
       "      <td>2008-04-19</td>\n",
       "      <td>MF Maharoof</td>\n",
       "      <td>Feroz Shah Kotla</td>\n",
       "      <td>0</td>\n",
       "      <td>Delhi Daredevils</td>\n",
       "      <td>Rajasthan Royals</td>\n",
       "      <td>Rajasthan Royals</td>\n",
       "      <td>bat</td>\n",
       "      <td>Delhi Daredevils</td>\n",
       "      <td>wickets</td>\n",
       "      <td>9.0</td>\n",
       "      <td>N</td>\n",
       "      <td>NaN</td>\n",
       "      <td>Aleem Dar</td>\n",
       "      <td>GA Pratapkumar</td>\n",
       "    </tr>\n",
       "    <tr>\n",
       "      <th>3</th>\n",
       "      <td>335985</td>\n",
       "      <td>Mumbai</td>\n",
       "      <td>2008-04-20</td>\n",
       "      <td>MV Boucher</td>\n",
       "      <td>Wankhede Stadium</td>\n",
       "      <td>0</td>\n",
       "      <td>Mumbai Indians</td>\n",
       "      <td>Royal Challengers Bangalore</td>\n",
       "      <td>Mumbai Indians</td>\n",
       "      <td>bat</td>\n",
       "      <td>Royal Challengers Bangalore</td>\n",
       "      <td>wickets</td>\n",
       "      <td>5.0</td>\n",
       "      <td>N</td>\n",
       "      <td>NaN</td>\n",
       "      <td>SJ Davis</td>\n",
       "      <td>DJ Harper</td>\n",
       "    </tr>\n",
       "    <tr>\n",
       "      <th>4</th>\n",
       "      <td>335986</td>\n",
       "      <td>Kolkata</td>\n",
       "      <td>2008-04-20</td>\n",
       "      <td>DJ Hussey</td>\n",
       "      <td>Eden Gardens</td>\n",
       "      <td>0</td>\n",
       "      <td>Kolkata Knight Riders</td>\n",
       "      <td>Deccan Chargers</td>\n",
       "      <td>Deccan Chargers</td>\n",
       "      <td>bat</td>\n",
       "      <td>Kolkata Knight Riders</td>\n",
       "      <td>wickets</td>\n",
       "      <td>5.0</td>\n",
       "      <td>N</td>\n",
       "      <td>NaN</td>\n",
       "      <td>BF Bowden</td>\n",
       "      <td>K Hariharan</td>\n",
       "    </tr>\n",
       "  </tbody>\n",
       "</table>\n",
       "</div>"
      ],
      "text/plain": [
       "       id        city        date player_of_match  \\\n",
       "0  335982   Bangalore  2008-04-18     BB McCullum   \n",
       "1  335983  Chandigarh  2008-04-19      MEK Hussey   \n",
       "2  335984       Delhi  2008-04-19     MF Maharoof   \n",
       "3  335985      Mumbai  2008-04-20      MV Boucher   \n",
       "4  335986     Kolkata  2008-04-20       DJ Hussey   \n",
       "\n",
       "                                        venue  neutral_venue  \\\n",
       "0                       M Chinnaswamy Stadium              0   \n",
       "1  Punjab Cricket Association Stadium, Mohali              0   \n",
       "2                            Feroz Shah Kotla              0   \n",
       "3                            Wankhede Stadium              0   \n",
       "4                                Eden Gardens              0   \n",
       "\n",
       "                         team1                        team2  \\\n",
       "0  Royal Challengers Bangalore        Kolkata Knight Riders   \n",
       "1              Kings XI Punjab          Chennai Super Kings   \n",
       "2             Delhi Daredevils             Rajasthan Royals   \n",
       "3               Mumbai Indians  Royal Challengers Bangalore   \n",
       "4        Kolkata Knight Riders              Deccan Chargers   \n",
       "\n",
       "                   toss_winner toss_decision                       winner  \\\n",
       "0  Royal Challengers Bangalore         field        Kolkata Knight Riders   \n",
       "1          Chennai Super Kings           bat          Chennai Super Kings   \n",
       "2             Rajasthan Royals           bat             Delhi Daredevils   \n",
       "3               Mumbai Indians           bat  Royal Challengers Bangalore   \n",
       "4              Deccan Chargers           bat        Kolkata Knight Riders   \n",
       "\n",
       "    result  result_margin eliminator method    umpire1         umpire2  \n",
       "0     runs          140.0          N    NaN  Asad Rauf     RE Koertzen  \n",
       "1     runs           33.0          N    NaN  MR Benson      SL Shastri  \n",
       "2  wickets            9.0          N    NaN  Aleem Dar  GA Pratapkumar  \n",
       "3  wickets            5.0          N    NaN   SJ Davis       DJ Harper  \n",
       "4  wickets            5.0          N    NaN  BF Bowden     K Hariharan  "
      ]
     },
     "execution_count": 4,
     "metadata": {},
     "output_type": "execute_result"
    }
   ],
   "source": [
    "# HOW MANY MATCHES WON BY EACH TEAM IN 2016,2017 MAKE GRAPH\n",
    "import pandas as pd\n",
    "import matplotlib.pyplot as plt\n",
    "import seaborn as sns\n",
    "match_data = pd.read_csv(\"D:/REGEX/DAY_9/IPL Matches 2008-2020.csv\")\n",
    "match_data.head()"
   ]
  },
  {
   "cell_type": "code",
   "execution_count": null,
   "id": "777eb2d5",
   "metadata": {},
   "outputs": [],
   "source": [
    "# using delivery dataframe year by year how many total number of runs we have scored in each season, total number of socore by each team in each season\n",
    "#  PLOT LINE CHART"
   ]
  },
  {
   "cell_type": "code",
   "execution_count": null,
   "id": "b507bbad",
   "metadata": {},
   "outputs": [],
   "source": [
    "# GET THE TOP 5 WICKET TAKER THAT LBW"
   ]
  },
  {
   "cell_type": "code",
   "execution_count": null,
   "id": "29abe547",
   "metadata": {},
   "outputs": [],
   "source": [
    "# get the overall runs score by virat kohli \n",
    "# 1 -> total runs\n",
    "# 2 -> total runs\n",
    "# 4 -> total runs\n",
    "# 6 -> total runs\n",
    "# using pie chart or donut chart"
   ]
  }
 ],
 "metadata": {
  "kernelspec": {
   "display_name": "Python 3",
   "language": "python",
   "name": "python3"
  },
  "language_info": {
   "codemirror_mode": {
    "name": "ipython",
    "version": 3
   },
   "file_extension": ".py",
   "mimetype": "text/x-python",
   "name": "python",
   "nbconvert_exporter": "python",
   "pygments_lexer": "ipython3",
   "version": "3.13.2"
  }
 },
 "nbformat": 4,
 "nbformat_minor": 5
}
