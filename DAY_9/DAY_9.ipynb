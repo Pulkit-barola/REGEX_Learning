{
 "cells": [
  {
   "cell_type": "markdown",
   "id": "864991b6",
   "metadata": {},
   "source": [
    "# EDA"
   ]
  },
  {
   "cell_type": "markdown",
   "id": "dae2330b",
   "metadata": {},
   "source": [
    "=> EDA - EXPLORATORY DATA ANALSIS\n"
   ]
  },
  {
   "cell_type": "markdown",
   "id": "e27fb653",
   "metadata": {},
   "source": [
    "=> DATA CLEANING ,TRANSFORMATION,COMBINE"
   ]
  },
  {
   "cell_type": "markdown",
   "id": "cd37a784",
   "metadata": {},
   "source": [
    "=> VISUALIZATION"
   ]
  },
  {
   "cell_type": "markdown",
   "id": "58b1f2b5",
   "metadata": {},
   "source": [
    "#### PACKAGES"
   ]
  },
  {
   "cell_type": "markdown",
   "id": "7d72fec4",
   "metadata": {},
   "source": [
    "NUMPY,PANDAS,MATPLOTIB"
   ]
  },
  {
   "cell_type": "code",
   "execution_count": 1,
   "id": "8d230951",
   "metadata": {},
   "outputs": [],
   "source": [
    "import numpy as np\n",
    "import pandas as pd\n",
    "import matplotlib.pyplot as plt\n",
    "import seaborn as sns"
   ]
  },
  {
   "cell_type": "code",
   "execution_count": 5,
   "id": "5fd9c43d",
   "metadata": {},
   "outputs": [],
   "source": [
    "df_deliveries_data=pd.read_csv(\"D:/REGEX/DAY_9/IPL Ball-by-Ball 2008-2020.csv\")"
   ]
  },
  {
   "cell_type": "code",
   "execution_count": 6,
   "id": "1a0b54cb",
   "metadata": {},
   "outputs": [],
   "source": [
    "match_data=pd.read_csv(\"D:/REGEX/DAY_9/IPL Matches 2008-2020.csv\")"
   ]
  },
  {
   "cell_type": "code",
   "execution_count": 7,
   "id": "eae2367f",
   "metadata": {},
   "outputs": [
    {
     "name": "stdout",
     "output_type": "stream",
     "text": [
      "       id        city        date player_of_match  \\\n",
      "0  335982   Bangalore  2008-04-18     BB McCullum   \n",
      "1  335983  Chandigarh  2008-04-19      MEK Hussey   \n",
      "2  335984       Delhi  2008-04-19     MF Maharoof   \n",
      "3  335985      Mumbai  2008-04-20      MV Boucher   \n",
      "4  335986     Kolkata  2008-04-20       DJ Hussey   \n",
      "\n",
      "                                        venue  neutral_venue  \\\n",
      "0                       M Chinnaswamy Stadium              0   \n",
      "1  Punjab Cricket Association Stadium, Mohali              0   \n",
      "2                            Feroz Shah Kotla              0   \n",
      "3                            Wankhede Stadium              0   \n",
      "4                                Eden Gardens              0   \n",
      "\n",
      "                         team1                        team2  \\\n",
      "0  Royal Challengers Bangalore        Kolkata Knight Riders   \n",
      "1              Kings XI Punjab          Chennai Super Kings   \n",
      "2             Delhi Daredevils             Rajasthan Royals   \n",
      "3               Mumbai Indians  Royal Challengers Bangalore   \n",
      "4        Kolkata Knight Riders              Deccan Chargers   \n",
      "\n",
      "                   toss_winner toss_decision                       winner  \\\n",
      "0  Royal Challengers Bangalore         field        Kolkata Knight Riders   \n",
      "1          Chennai Super Kings           bat          Chennai Super Kings   \n",
      "2             Rajasthan Royals           bat             Delhi Daredevils   \n",
      "3               Mumbai Indians           bat  Royal Challengers Bangalore   \n",
      "4              Deccan Chargers           bat        Kolkata Knight Riders   \n",
      "\n",
      "    result  result_margin eliminator method    umpire1         umpire2  \n",
      "0     runs          140.0          N    NaN  Asad Rauf     RE Koertzen  \n",
      "1     runs           33.0          N    NaN  MR Benson      SL Shastri  \n",
      "2  wickets            9.0          N    NaN  Aleem Dar  GA Pratapkumar  \n",
      "3  wickets            5.0          N    NaN   SJ Davis       DJ Harper  \n",
      "4  wickets            5.0          N    NaN  BF Bowden     K Hariharan  \n"
     ]
    }
   ],
   "source": [
    "print(match_data.head())"
   ]
  },
  {
   "cell_type": "code",
   "execution_count": 8,
   "id": "12498c3e",
   "metadata": {},
   "outputs": [
    {
     "name": "stdout",
     "output_type": "stream",
     "text": [
      "       id  inning  over  ball      batsman  non_striker     bowler  \\\n",
      "0  335982       1     6     5   RT Ponting  BB McCullum  AA Noffke   \n",
      "1  335982       1     6     6  BB McCullum   RT Ponting  AA Noffke   \n",
      "2  335982       1     7     1  BB McCullum   RT Ponting     Z Khan   \n",
      "3  335982       1     7     2  BB McCullum   RT Ponting     Z Khan   \n",
      "4  335982       1     7     3   RT Ponting  BB McCullum     Z Khan   \n",
      "\n",
      "   batsman_runs  extra_runs  total_runs  non_boundary  is_wicket  \\\n",
      "0             1           0           1             0          0   \n",
      "1             1           0           1             0          0   \n",
      "2             0           0           0             0          0   \n",
      "3             1           0           1             0          0   \n",
      "4             1           0           1             0          0   \n",
      "\n",
      "  dismissal_kind player_dismissed fielder extras_type           batting_team  \\\n",
      "0            NaN              NaN     NaN         NaN  Kolkata Knight Riders   \n",
      "1            NaN              NaN     NaN         NaN  Kolkata Knight Riders   \n",
      "2            NaN              NaN     NaN         NaN  Kolkata Knight Riders   \n",
      "3            NaN              NaN     NaN         NaN  Kolkata Knight Riders   \n",
      "4            NaN              NaN     NaN         NaN  Kolkata Knight Riders   \n",
      "\n",
      "                  bowling_team  \n",
      "0  Royal Challengers Bangalore  \n",
      "1  Royal Challengers Bangalore  \n",
      "2  Royal Challengers Bangalore  \n",
      "3  Royal Challengers Bangalore  \n",
      "4  Royal Challengers Bangalore  \n"
     ]
    }
   ],
   "source": [
    "print(df_deliveries_data.head())"
   ]
  },
  {
   "cell_type": "code",
   "execution_count": null,
   "id": "d582eeb2",
   "metadata": {},
   "outputs": [],
   "source": []
  }
 ],
 "metadata": {
  "kernelspec": {
   "display_name": "Python 3",
   "language": "python",
   "name": "python3"
  },
  "language_info": {
   "codemirror_mode": {
    "name": "ipython",
    "version": 3
   },
   "file_extension": ".py",
   "mimetype": "text/x-python",
   "name": "python",
   "nbconvert_exporter": "python",
   "pygments_lexer": "ipython3",
   "version": "3.13.2"
  }
 },
 "nbformat": 4,
 "nbformat_minor": 5
}
